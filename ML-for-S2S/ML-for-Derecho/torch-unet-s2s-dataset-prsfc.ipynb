{
 "cells": [
  {
   "cell_type": "code",
   "execution_count": 1,
   "id": "223f3804-e44b-41bb-90bc-247b82f8980e",
   "metadata": {},
   "outputs": [],
   "source": [
    "import numpy as np\n",
    "import pandas as pd\n",
    "import xarray as xr\n",
    "from datetime import timedelta\n",
    "import matplotlib.pyplot as plt\n",
    "import xskillscore as xs\n",
    "\n",
    "import torch\n",
    "import torch.nn.functional as F\n",
    "from torch.utils.data import DataLoader\n",
    "import torch.nn as nn\n",
    "import torch.optim as optim\n",
    "\n",
    "import torch_funcs\n",
    "\n",
    "import torch_s2s_dataset"
   ]
  },
  {
   "cell_type": "code",
   "execution_count": 2,
   "id": "b94ccf21-edc8-4717-90b2-79f9e60ce3ef",
   "metadata": {},
   "outputs": [],
   "source": [
    "def reverse_negone(ds, minv, maxv):\n",
    "\n",
    "    return (((ds + 1) / 2) * (maxv - minv)) + minv"
   ]
  },
  {
   "cell_type": "code",
   "execution_count": 3,
   "id": "8f258680-0a11-436d-8e58-e2796dd838d7",
   "metadata": {},
   "outputs": [],
   "source": [
    "var = 'prsfc'\n",
    "wks = 2\n",
    "\n",
    "train = torch_s2s_dataset.S2SDataset(\n",
    "        \n",
    "    week=wks, variable=var, norm='minmax', region='fixed',\n",
    "    \n",
    "    minv=None, maxv=None, mnv=None, stdv=None,\n",
    "    \n",
    "    lon0=250., lat0=30., dxdy=32., feat_topo=True, feat_lats=True, feat_lons=True,\n",
    "    \n",
    "    startdt='1999-02-01', enddt='2015-12-31', homedir='/glade/scratch/molina/'\n",
    ")"
   ]
  },
  {
   "cell_type": "code",
   "execution_count": 4,
   "id": "45419788-8c8d-4a12-901f-08b471f9d50b",
   "metadata": {},
   "outputs": [],
   "source": [
    "valid = torch_s2s_dataset.S2SDataset(\n",
    "    \n",
    "    week=wks, variable=var, norm='minmax', region='fixed',\n",
    "    \n",
    "    minv=train.min_val, maxv=train.max_val, mnv=None, stdv=None,\n",
    "    \n",
    "    lon0=250., lat0=30., dxdy=32., feat_topo=True, feat_lats=True, feat_lons=True,\n",
    "    \n",
    "    startdt='2016-01-01', enddt='2017-12-31', homedir='/glade/scratch/molina/'\n",
    ")\n",
    "\n",
    "\n",
    "tests = torch_s2s_dataset.S2SDataset(\n",
    "    \n",
    "    week=wks, variable=var, norm='minmax', region='fixed',\n",
    "    \n",
    "    minv=train.min_val, maxv=train.max_val, mnv=None, stdv=None,\n",
    "    \n",
    "    lon0=250., lat0=30., dxdy=32., feat_topo=True, feat_lats=True, feat_lons=True,\n",
    "    \n",
    "    startdt='2018-01-01', enddt='2020-12-31', homedir='/glade/scratch/molina/'\n",
    ")"
   ]
  },
  {
   "cell_type": "code",
   "execution_count": 5,
   "id": "bf4735f3-e935-4869-9a41-a31756ce9572",
   "metadata": {},
   "outputs": [],
   "source": [
    "BATCH_SIZE=32"
   ]
  },
  {
   "cell_type": "code",
   "execution_count": 6,
   "id": "ad19da21-04a3-470b-91b0-2ba0542374c1",
   "metadata": {},
   "outputs": [],
   "source": [
    "train_loader = DataLoader(train, batch_size=BATCH_SIZE, shuffle=True, drop_last=True)\n",
    "valid_loader = DataLoader(valid, batch_size=BATCH_SIZE, shuffle=False, drop_last=False)\n",
    "tests_loader = DataLoader(tests, batch_size=BATCH_SIZE, shuffle=False, drop_last=False)"
   ]
  },
  {
   "cell_type": "code",
   "execution_count": 11,
   "id": "9664c0e5-59fd-43a6-be9d-3bc778132e45",
   "metadata": {},
   "outputs": [
    {
     "data": {
      "image/png": "[encoded data removed]",
      "text/plain": [
       "<Figure size 640x480 with 1 Axes>"
      ]
     },
     "metadata": {},
     "output_type": "display_data"
    },
    {
     "name": "stdout",
     "output_type": "stream",
     "text": [
      "AxesImage(143.2,52.8;369.6x369.6) None\n"
     ]
    },
    {
     "data": {
      "image/png": "[encoded data removed]",
      "text/plain": [
       "<Figure size 640x480 with 1 Axes>"
      ]
     },
     "metadata": {},
     "output_type": "display_data"
    },
    {
     "name": "stdout",
     "output_type": "stream",
     "text": [
      "AxesImage(143.2,52.8;369.6x369.6) None\n"
     ]
    }
   ],
   "source": [
    "for i in train_loader:\n",
    "    print(plt.imshow(i['input'].squeeze(dim=2)[20,3:4,:,:][0], vmin=0., vmax=0.5, cmap='Reds'), plt.show())\n",
    "    print(plt.imshow(i['label'].squeeze(dim=2)[20,0,:,:], vmin=0., vmax=0.5, cmap='Reds'), plt.show())\n",
    "    break"
   ]
  },
  {
   "cell_type": "code",
   "execution_count": 16,
   "id": "49043d08-7460-4a0a-b42e-518266730611",
   "metadata": {},
   "outputs": [],
   "source": [
    "def train_func(model, dataloader, nc):\n",
    "    \"\"\"\n",
    "    Training function.\n",
    "    \n",
    "    Args:\n",
    "        model (torch): pytorch neural network.\n",
    "        dataloader (torch): pytorch dataloader.\n",
    "    \"\"\"\n",
    "    model.train()\n",
    "    \n",
    "    running_loss = 0.0\n",
    "    corrcoef_loss = 0.0\n",
    "    corrcoef_true = 0.0\n",
    "    \n",
    "    for data in dataloader:\n",
    "        \n",
    "        img_noisy = data['input'].squeeze(dim=2)\n",
    "        img_noisy = img_noisy.to(device, dtype=torch.float)\n",
    "        \n",
    "        img_label = data['label'].squeeze(dim=2)\n",
    "        img_label = img_label.to(device, dtype=torch.float)\n",
    "\n",
    "        optimizer.zero_grad()\n",
    "        outputs = model(img_noisy)\n",
    "        \n",
    "        loss = criterion(outputs, img_label)\n",
    "        closs = torch_funcs.corrcoef(outputs, img_label)\n",
    "        tloss = torch_funcs.corrcoef(img_noisy[:,nc-1:nc,:,:], img_label)\n",
    "        \n",
    "        loss.backward()\n",
    "        optimizer.step()\n",
    "        \n",
    "        running_loss += loss.item()\n",
    "        corrcoef_loss += closs.item()\n",
    "        corrcoef_true += tloss.item()\n",
    "    \n",
    "    train_loss = running_loss / len(dataloader)\n",
    "    coef_loss = corrcoef_loss / len(dataloader)\n",
    "    coef_true = corrcoef_true / len(dataloader)\n",
    "    \n",
    "    return train_loss, coef_loss, coef_true"
   ]
  },
  {
   "cell_type": "code",
   "execution_count": 17,
   "id": "2ca4e9b5-5d65-4246-ad85-7004f5f46c18",
   "metadata": {},
   "outputs": [],
   "source": [
    "def valid_func(model, dataloader, nc):\n",
    "    \"\"\"\n",
    "    Validation function.\n",
    "    \n",
    "    Args:\n",
    "        model: pytorch neural network.\n",
    "        dataloader: pytorch dataloader.\n",
    "    \"\"\"\n",
    "    model.eval()\n",
    "    \n",
    "    running_loss = 0.0\n",
    "    corrcoef_loss = 0.0\n",
    "    corrcoef_true = 0.0\n",
    "    \n",
    "    with torch.no_grad():\n",
    "        \n",
    "        for i, data in enumerate(dataloader):\n",
    "\n",
    "            img_noisy = data['input'].squeeze(dim=2)\n",
    "            img_noisy = img_noisy.to(device, dtype=torch.float)\n",
    "\n",
    "            img_label = data['label'].squeeze(dim=2)\n",
    "            img_label = img_label.to(device, dtype=torch.float)\n",
    "\n",
    "            outputs = model(img_noisy)\n",
    "            \n",
    "            loss = criterion(outputs, img_label)\n",
    "            closs = torch_funcs.corrcoef(outputs, img_label)\n",
    "            tloss = torch_funcs.corrcoef(img_noisy[:,nc-1:nc,:,:], img_label)\n",
    "            \n",
    "            running_loss += loss.item()\n",
    "            corrcoef_loss += closs.item()\n",
    "            corrcoef_true += tloss.item()\n",
    "\n",
    "    val_loss = running_loss / len(dataloader)\n",
    "    coef_loss = corrcoef_loss / len(dataloader)\n",
    "    coef_true = corrcoef_true / len(dataloader)\n",
    "    \n",
    "    return val_loss, coef_loss, coef_true"
   ]
  },
  {
   "cell_type": "code",
   "execution_count": 18,
   "id": "9b3897ed-dbc6-4dd9-90dc-b59288fb74d6",
   "metadata": {},
   "outputs": [],
   "source": [
    "def get_device():\n",
    "    \"\"\"\n",
    "    Grab GPU (cuda).\n",
    "    \n",
    "    \"\"\"\n",
    "    if torch.cuda.is_available():\n",
    "        device = 'cuda:0'\n",
    "        \n",
    "    else:\n",
    "        device = 'cpu'\n",
    "        \n",
    "    return device\n",
    "\n",
    "\n",
    "class DoubleConv(nn.Module):\n",
    "    \"\"\"(convolution => [BN] => ReLU) * 2\"\"\"\n",
    "\n",
    "    def __init__(self, in_channels, out_channels, mid_channels=None):\n",
    "        \n",
    "        super().__init__()\n",
    "        \n",
    "        if not mid_channels:\n",
    "            \n",
    "            mid_channels = out_channels\n",
    "            \n",
    "        self.double_conv = nn.Sequential(\n",
    "            nn.Conv2d(in_channels, mid_channels, kernel_size=3, padding=1),\n",
    "            nn.BatchNorm2d(mid_channels),\n",
    "            nn.ReLU(inplace=True),\n",
    "            nn.Conv2d(mid_channels, out_channels, kernel_size=3, padding=1),\n",
    "            nn.BatchNorm2d(out_channels),\n",
    "            nn.ReLU(inplace=True)\n",
    "        )\n",
    "\n",
    "    def forward(self, x):\n",
    "        \n",
    "        return self.double_conv(x)\n",
    "\n",
    "\n",
    "class Down(nn.Module):\n",
    "    \"\"\"Downscaling with maxpool then double conv\"\"\"\n",
    "\n",
    "    def __init__(self, in_channels, out_channels):\n",
    "        super().__init__()\n",
    "        self.maxpool_conv = nn.Sequential(\n",
    "            nn.MaxPool2d(2),\n",
    "            DoubleConv(in_channels, out_channels)\n",
    "        )\n",
    "\n",
    "    def forward(self, x):\n",
    "        return self.maxpool_conv(x)\n",
    "\n",
    "\n",
    "class Up(nn.Module):\n",
    "    \n",
    "    \"\"\"Upscaling then double conv\"\"\"\n",
    "\n",
    "    def __init__(self, in_channels, out_channels, bilinear=True):\n",
    "        \n",
    "        super().__init__()\n",
    "\n",
    "        # if bilinear, use the normal convolutions to reduce the number of channels\n",
    "        \n",
    "        if bilinear:\n",
    "            \n",
    "            self.up = nn.Upsample(scale_factor=2, mode='bilinear', align_corners=True)\n",
    "            self.conv = DoubleConv(in_channels, out_channels, in_channels // 2)\n",
    "            \n",
    "        else:\n",
    "            \n",
    "            self.up = nn.ConvTranspose2d(in_channels, in_channels // 2, kernel_size=2, stride=2)\n",
    "            self.conv = DoubleConv(in_channels, out_channels)\n",
    "\n",
    "    def forward(self, x1, x2):\n",
    "        \n",
    "        x1 = self.up(x1)\n",
    "        \n",
    "        # input is CHW\n",
    "        \n",
    "        diffY = x2.size()[2] - x1.size()[2]\n",
    "        diffX = x2.size()[3] - x1.size()[3]\n",
    "\n",
    "        x1 = F.pad(x1, [diffX // 2, diffX - diffX // 2,\n",
    "                        diffY // 2, diffY - diffY // 2])\n",
    "        \n",
    "        x = torch.cat([x2, x1], dim=1)\n",
    "        \n",
    "        return self.conv(x)\n",
    "\n",
    "\n",
    "class OutConv(nn.Module):\n",
    "    \n",
    "    def __init__(self, in_channels, out_channels):\n",
    "        \n",
    "        super(OutConv, self).__init__()\n",
    "        \n",
    "        self.conv = nn.Conv2d(in_channels, out_channels, kernel_size=1)\n",
    "\n",
    "    def forward(self, x):\n",
    "        \n",
    "        return self.conv(x)\n",
    "    \n",
    "    \n",
    "class UNet(nn.Module):\n",
    "    \n",
    "    def __init__(self, n_channels, n_classes, bilinear=True, mask=None):\n",
    "        \n",
    "        super(UNet, self).__init__()\n",
    "        \n",
    "        factor = 2 if bilinear else 1\n",
    "        \n",
    "        self.n_channels = n_channels\n",
    "        self.n_classes = n_classes\n",
    "        self.bilinear = bilinear\n",
    "        self.mask = mask\n",
    "\n",
    "        self.inc = DoubleConv(n_channels, 32)\n",
    "        \n",
    "        self.down1 = Down(32, 64)\n",
    "        self.down2 = Down(64, 128)\n",
    "        self.down3 = Down(128, 256)\n",
    "        self.down4 = Down(256, 512 // factor)\n",
    "        \n",
    "        self.up1 = Up(512, 256 // factor, bilinear)\n",
    "        self.up2 = Up(256, 128 // factor, bilinear)\n",
    "        self.up3 = Up(128, 64 // factor, bilinear)\n",
    "        self.up4 = Up(64, 32, bilinear)\n",
    "        \n",
    "        self.outc = OutConv(32, n_classes)\n",
    "\n",
    "    def forward(self, x):\n",
    "        \n",
    "        x1 = self.inc(x)\n",
    "        \n",
    "        x2 = self.down1(x1)\n",
    "        x3 = self.down2(x2)\n",
    "        x4 = self.down3(x3)\n",
    "        x5 = self.down4(x4)\n",
    "        \n",
    "        x = self.up1(x5, x4)\n",
    "        x = self.up2(x, x3)\n",
    "        x = self.up3(x, x2)\n",
    "        x = self.up4(x, x1)\n",
    "        \n",
    "        logits = self.outc(x)\n",
    "        \n",
    "        return logits"
   ]
  },
  {
   "cell_type": "code",
   "execution_count": 19,
   "id": "036a9ac3-c437-4c5a-abdd-dc42e59681fb",
   "metadata": {},
   "outputs": [],
   "source": [
    "nc = 4 # number of channels"
   ]
  },
  {
   "cell_type": "code",
   "execution_count": 20,
   "id": "b29b2910-4dc4-4b36-90c2-8bb47c95fba8",
   "metadata": {},
   "outputs": [],
   "source": [
    "net = UNet(n_channels=nc, n_classes=1)"
   ]
  },
  {
   "cell_type": "code",
   "execution_count": 21,
   "id": "3805289e-7cbc-4607-898a-2ee43186bed5",
   "metadata": {},
   "outputs": [],
   "source": [
    "LEARNING_RATE = 1e-4\n",
    "\n",
    "# the optimizer\n",
    "optimizer = optim.Adam(net.parameters(), lr=LEARNING_RATE)\n",
    "\n",
    "# the loss function\n",
    "#criterion = nn.MSELoss()   # adding weights to positive class\n",
    "criterion = nn.L1Loss()"
   ]
  },
  {
   "cell_type": "code",
   "execution_count": 22,
   "id": "6558ba98-8826-49d5-b8c8-f7fd6353561a",
   "metadata": {
    "tags": []
   },
   "outputs": [
    {
     "name": "stdout",
     "output_type": "stream",
     "text": [
      "cuda:0\n"
     ]
    },
    {
     "data": {
      "text/plain": [
       "UNet(\n",
       "  (inc): DoubleConv(\n",
       "    (double_conv): Sequential(\n",
       "      (0): Conv2d(4, 32, kernel_size=(3, 3), stride=(1, 1), padding=(1, 1))\n",
       "      (1): BatchNorm2d(32, eps=1e-05, momentum=0.1, affine=True, track_running_stats=True)\n",
       "      (2): ReLU(inplace=True)\n",
       "      (3): Conv2d(32, 32, kernel_size=(3, 3), stride=(1, 1), padding=(1, 1))\n",
       "      (4): BatchNorm2d(32, eps=1e-05, momentum=0.1, affine=True, track_running_stats=True)\n",
       "      (5): ReLU(inplace=True)\n",
       "    )\n",
       "  )\n",
       "  (down1): Down(\n",
       "    (maxpool_conv): Sequential(\n",
       "      (0): MaxPool2d(kernel_size=2, stride=2, padding=0, dilation=1, ceil_mode=False)\n",
       "      (1): DoubleConv(\n",
       "        (double_conv): Sequential(\n",
       "          (0): Conv2d(32, 64, kernel_size=(3, 3), stride=(1, 1), padding=(1, 1))\n",
       "          (1): BatchNorm2d(64, eps=1e-05, momentum=0.1, affine=True, track_running_stats=True)\n",
       "          (2): ReLU(inplace=True)\n",
       "          (3): Conv2d(64, 64, kernel_size=(3, 3), stride=(1, 1), padding=(1, 1))\n",
       "          (4): BatchNorm2d(64, eps=1e-05, momentum=0.1, affine=True, track_running_stats=True)\n",
       "          (5): ReLU(inplace=True)\n",
       "        )\n",
       "      )\n",
       "    )\n",
       "  )\n",
       "  (down2): Down(\n",
       "    (maxpool_conv): Sequential(\n",
       "      (0): MaxPool2d(kernel_size=2, stride=2, padding=0, dilation=1, ceil_mode=False)\n",
       "      (1): DoubleConv(\n",
       "        (double_conv): Sequential(\n",
       "          (0): Conv2d(64, 128, kernel_size=(3, 3), stride=(1, 1), padding=(1, 1))\n",
       "          (1): BatchNorm2d(128, eps=1e-05, momentum=0.1, affine=True, track_running_stats=True)\n",
       "          (2): ReLU(inplace=True)\n",
       "          (3): Conv2d(128, 128, kernel_size=(3, 3), stride=(1, 1), padding=(1, 1))\n",
       "          (4): BatchNorm2d(128, eps=1e-05, momentum=0.1, affine=True, track_running_stats=True)\n",
       "          (5): ReLU(inplace=True)\n",
       "        )\n",
       "      )\n",
       "    )\n",
       "  )\n",
       "  (down3): Down(\n",
       "    (maxpool_conv): Sequential(\n",
       "      (0): MaxPool2d(kernel_size=2, stride=2, padding=0, dilation=1, ceil_mode=False)\n",
       "      (1): DoubleConv(\n",
       "        (double_conv): Sequential(\n",
       "          (0): Conv2d(128, 256, kernel_size=(3, 3), stride=(1, 1), padding=(1, 1))\n",
       "          (1): BatchNorm2d(256, eps=1e-05, momentum=0.1, affine=True, track_running_stats=True)\n",
       "          (2): ReLU(inplace=True)\n",
       "          (3): Conv2d(256, 256, kernel_size=(3, 3), stride=(1, 1), padding=(1, 1))\n",
       "          (4): BatchNorm2d(256, eps=1e-05, momentum=0.1, affine=True, track_running_stats=True)\n",
       "          (5): ReLU(inplace=True)\n",
       "        )\n",
       "      )\n",
       "    )\n",
       "  )\n",
       "  (down4): Down(\n",
       "    (maxpool_conv): Sequential(\n",
       "      (0): MaxPool2d(kernel_size=2, stride=2, padding=0, dilation=1, ceil_mode=False)\n",
       "      (1): DoubleConv(\n",
       "        (double_conv): Sequential(\n",
       "          (0): Conv2d(256, 256, kernel_size=(3, 3), stride=(1, 1), padding=(1, 1))\n",
       "          (1): BatchNorm2d(256, eps=1e-05, momentum=0.1, affine=True, track_running_stats=True)\n",
       "          (2): ReLU(inplace=True)\n",
       "          (3): Conv2d(256, 256, kernel_size=(3, 3), stride=(1, 1), padding=(1, 1))\n",
       "          (4): BatchNorm2d(256, eps=1e-05, momentum=0.1, affine=True, track_running_stats=True)\n",
       "          (5): ReLU(inplace=True)\n",
       "        )\n",
       "      )\n",
       "    )\n",
       "  )\n",
       "  (up1): Up(\n",
       "    (up): Upsample(scale_factor=2.0, mode=bilinear)\n",
       "    (conv): DoubleConv(\n",
       "      (double_conv): Sequential(\n",
       "        (0): Conv2d(512, 256, kernel_size=(3, 3), stride=(1, 1), padding=(1, 1))\n",
       "        (1): BatchNorm2d(256, eps=1e-05, momentum=0.1, affine=True, track_running_stats=True)\n",
       "        (2): ReLU(inplace=True)\n",
       "        (3): Conv2d(256, 128, kernel_size=(3, 3), stride=(1, 1), padding=(1, 1))\n",
       "        (4): BatchNorm2d(128, eps=1e-05, momentum=0.1, affine=True, track_running_stats=True)\n",
       "        (5): ReLU(inplace=True)\n",
       "      )\n",
       "    )\n",
       "  )\n",
       "  (up2): Up(\n",
       "    (up): Upsample(scale_factor=2.0, mode=bilinear)\n",
       "    (conv): DoubleConv(\n",
       "      (double_conv): Sequential(\n",
       "        (0): Conv2d(256, 128, kernel_size=(3, 3), stride=(1, 1), padding=(1, 1))\n",
       "        (1): BatchNorm2d(128, eps=1e-05, momentum=0.1, affine=True, track_running_stats=True)\n",
       "        (2): ReLU(inplace=True)\n",
       "        (3): Conv2d(128, 64, kernel_size=(3, 3), stride=(1, 1), padding=(1, 1))\n",
       "        (4): BatchNorm2d(64, eps=1e-05, momentum=0.1, affine=True, track_running_stats=True)\n",
       "        (5): ReLU(inplace=True)\n",
       "      )\n",
       "    )\n",
       "  )\n",
       "  (up3): Up(\n",
       "    (up): Upsample(scale_factor=2.0, mode=bilinear)\n",
       "    (conv): DoubleConv(\n",
       "      (double_conv): Sequential(\n",
       "        (0): Conv2d(128, 64, kernel_size=(3, 3), stride=(1, 1), padding=(1, 1))\n",
       "        (1): BatchNorm2d(64, eps=1e-05, momentum=0.1, affine=True, track_running_stats=True)\n",
       "        (2): ReLU(inplace=True)\n",
       "        (3): Conv2d(64, 32, kernel_size=(3, 3), stride=(1, 1), padding=(1, 1))\n",
       "        (4): BatchNorm2d(32, eps=1e-05, momentum=0.1, affine=True, track_running_stats=True)\n",
       "        (5): ReLU(inplace=True)\n",
       "      )\n",
       "    )\n",
       "  )\n",
       "  (up4): Up(\n",
       "    (up): Upsample(scale_factor=2.0, mode=bilinear)\n",
       "    (conv): DoubleConv(\n",
       "      (double_conv): Sequential(\n",
       "        (0): Conv2d(64, 32, kernel_size=(3, 3), stride=(1, 1), padding=(1, 1))\n",
       "        (1): BatchNorm2d(32, eps=1e-05, momentum=0.1, affine=True, track_running_stats=True)\n",
       "        (2): ReLU(inplace=True)\n",
       "        (3): Conv2d(32, 32, kernel_size=(3, 3), stride=(1, 1), padding=(1, 1))\n",
       "        (4): BatchNorm2d(32, eps=1e-05, momentum=0.1, affine=True, track_running_stats=True)\n",
       "        (5): ReLU(inplace=True)\n",
       "      )\n",
       "    )\n",
       "  )\n",
       "  (outc): OutConv(\n",
       "    (conv): Conv2d(32, 1, kernel_size=(1, 1), stride=(1, 1))\n",
       "  )\n",
       ")"
      ]
     },
     "execution_count": 22,
     "metadata": {},
     "output_type": "execute_result"
    }
   ],
   "source": [
    "device = get_device()\n",
    "print(device)\n",
    "net.to(device)"
   ]
  },
  {
   "cell_type": "code",
   "execution_count": 23,
   "id": "722f9dee-b665-4939-ae44-6891b7309122",
   "metadata": {
    "tags": []
   },
   "outputs": [
    {
     "name": "stdout",
     "output_type": "stream",
     "text": [
      "Epoch 1 of 20; Train: 0.0618, 0.1337, 0.5719; Val: 0.1000, 0.0189, 0.5182\n",
      "Epoch 2 of 20; Train: 0.0198, 0.3533, 0.5685; Val: 0.0703, 0.0413, 0.5182\n",
      "Epoch 3 of 20; Train: 0.0161, 0.4546, 0.5692; Val: 0.0172, 0.3612, 0.5182\n",
      "Epoch 4 of 20; Train: 0.0146, 0.4973, 0.5661; Val: 0.0140, 0.4576, 0.5182\n",
      "Epoch 5 of 20; Train: 0.0139, 0.5307, 0.5689; Val: 0.0130, 0.4760, 0.5182\n",
      "Epoch 6 of 20; Train: 0.0139, 0.5365, 0.5693; Val: 0.0137, 0.4743, 0.5182\n",
      "Epoch 7 of 20; Train: 0.0134, 0.5506, 0.5671; Val: 0.0131, 0.4986, 0.5182\n",
      "Epoch 8 of 20; Train: 0.0132, 0.5574, 0.5686; Val: 0.0128, 0.5049, 0.5182\n",
      "Epoch 9 of 20; Train: 0.0128, 0.5779, 0.5681; Val: 0.0123, 0.5231, 0.5182\n",
      "Epoch 10 of 20; Train: 0.0129, 0.5757, 0.5689; Val: 0.0121, 0.5329, 0.5182\n",
      "Epoch 11 of 20; Train: 0.0127, 0.5828, 0.5680; Val: 0.0120, 0.5271, 0.5182\n",
      "Epoch 12 of 20; Train: 0.0126, 0.5926, 0.5698; Val: 0.0123, 0.5330, 0.5182\n",
      "Epoch 13 of 20; Train: 0.0129, 0.5829, 0.5695; Val: 0.0121, 0.5378, 0.5182\n",
      "Epoch 14 of 20; Train: 0.0126, 0.5935, 0.5673; Val: 0.0125, 0.5213, 0.5182\n",
      "Epoch 15 of 20; Train: 0.0125, 0.5965, 0.5693; Val: 0.0118, 0.5503, 0.5182\n",
      "Epoch 16 of 20; Train: 0.0123, 0.6084, 0.5692; Val: 0.0119, 0.5310, 0.5182\n",
      "Epoch 17 of 20; Train: 0.0124, 0.6047, 0.5690; Val: 0.0120, 0.5467, 0.5182\n",
      "Epoch 18 of 20; Train: 0.0121, 0.6136, 0.5710; Val: 0.0123, 0.5206, 0.5182\n",
      "Epoch 19 of 20; Train: 0.0120, 0.6192, 0.5720; Val: 0.0118, 0.5547, 0.5182\n",
      "Epoch 20 of 20; Train: 0.0119, 0.6221, 0.5708; Val: 0.0115, 0.5520, 0.5182\n"
     ]
    }
   ],
   "source": [
    "NUM_EPOCHS = 20\n",
    "\n",
    "train_loss = []\n",
    "valid_loss = []\n",
    "\n",
    "train_corr = []\n",
    "valid_corr = []\n",
    "\n",
    "train_true = []\n",
    "valid_true = []\n",
    "\n",
    "for enum, epoch in enumerate(range(NUM_EPOCHS)):\n",
    "    \n",
    "    t_loss, t_corr, t_true = train_func(net, train_loader, nc)\n",
    "    v_loss, v_corr, v_true = valid_func(net, valid_loader, nc)\n",
    "    \n",
    "    train_loss.append(t_loss)\n",
    "    valid_loss.append(v_loss)\n",
    "    \n",
    "    train_corr.append(t_corr)\n",
    "    valid_corr.append(v_corr)\n",
    "    \n",
    "    train_true.append(t_true)\n",
    "    valid_true.append(v_true)\n",
    "    \n",
    "    print(f\"Epoch {epoch + 1} of {NUM_EPOCHS}; \"\\\n",
    "          f\"Train: {t_loss:.4f}, {t_corr:.4f}, {t_true:.4f}; \"\\\n",
    "          f\"Val: {v_loss:.4f}, {v_corr:.4f}, {v_true:.4f}\")"
   ]
  },
  {
   "cell_type": "code",
   "execution_count": 24,
   "id": "764153ac-f0da-4c53-a4e6-074879dc8cfd",
   "metadata": {},
   "outputs": [
    {
     "data": {
      "image/png": "[encoded data removed]",
      "text/plain": [
       "<Figure size 640x480 with 1 Axes>"
      ]
     },
     "metadata": {},
     "output_type": "display_data"
    }
   ],
   "source": [
    "plt.plot(train_loss)\n",
    "plt.plot(valid_loss)\n",
    "plt.show()"
   ]
  },
  {
   "cell_type": "code",
   "execution_count": 25,
   "id": "436e60b3-1251-493a-a1cf-f0094cfd2ad1",
   "metadata": {},
   "outputs": [
    {
     "data": {
      "image/png": "[encoded data removed]",
      "text/plain": [
       "<Figure size 640x480 with 1 Axes>"
      ]
     },
     "metadata": {},
     "output_type": "display_data"
    }
   ],
   "source": [
    "plt.plot(train_corr)\n",
    "plt.plot(valid_corr)\n",
    "plt.show()"
   ]
  },
  {
   "cell_type": "code",
   "execution_count": 26,
   "id": "dab7435f-2dc1-41a3-aab5-b85780ab5a7a",
   "metadata": {},
   "outputs": [
    {
     "name": "stdout",
     "output_type": "stream",
     "text": [
      "torch.Size([32, 4, 32, 32])\n",
      "torch.Size([32, 1, 32, 32])\n"
     ]
    }
   ],
   "source": [
    "for i in tests_loader:\n",
    "    print(i['input'].squeeze(dim=2).shape)\n",
    "    print(i['label'].squeeze(dim=2).shape)\n",
    "    break"
   ]
  },
  {
   "cell_type": "code",
   "execution_count": 51,
   "id": "850d989a-f895-4dcc-a114-64dc20903a10",
   "metadata": {},
   "outputs": [
    {
     "data": {
      "text/plain": [
       "array([[1.        , 0.54858724],\n",
       "       [0.54858724, 1.        ]])"
      ]
     },
     "execution_count": 51,
     "metadata": {},
     "output_type": "execute_result"
    }
   ],
   "source": [
    "np.corrcoef(net(i['input'].squeeze(dim=2).to(device, dtype=torch.float)).cpu().detach().numpy()[:,0,:,:].flatten(), \n",
    "            i['label'].squeeze(dim=2).cpu().detach().numpy()[:,0,:,:].flatten()\n",
    "           ) # unet and era5"
   ]
  },
  {
   "cell_type": "code",
   "execution_count": 52,
   "id": "ba05ce3f-7b97-4d12-9655-623bd00944b0",
   "metadata": {},
   "outputs": [
    {
     "data": {
      "text/plain": [
       "array([[1.        , 0.51341198],\n",
       "       [0.51341198, 1.        ]])"
      ]
     },
     "execution_count": 52,
     "metadata": {},
     "output_type": "execute_result"
    }
   ],
   "source": [
    "np.corrcoef(i['input'].squeeze(dim=2).cpu().detach().numpy()[:,nc-1,:,:].flatten(), \n",
    "            i['label'].squeeze(dim=2).cpu().detach().numpy()[:,0,:,:].flatten()\n",
    "           ) # cesm and era5"
   ]
  },
  {
   "cell_type": "code",
   "execution_count": 47,
   "id": "67ae2168-ca4f-4a0b-ad1b-1ec307a2beeb",
   "metadata": {},
   "outputs": [],
   "source": [
    "sample_ = 2\n",
    "\n",
    "d_inp = i['input'].squeeze(dim=2).cpu().detach().numpy()[sample_,nc-1,:,:].flatten()\n",
    "e_out = net(i['input'].squeeze(dim=2).to(device, dtype=torch.float)).cpu().detach().numpy()[sample_,0,:,:].flatten()\n",
    "f_lab = i['label'].squeeze(dim=2).cpu().detach().numpy()[sample_,0,:,:].flatten()"
   ]
  },
  {
   "cell_type": "code",
   "execution_count": 48,
   "id": "3cbf34dc-0568-4575-b3fc-d2b380bfba37",
   "metadata": {},
   "outputs": [
    {
     "data": {
      "text/plain": [
       "array([[1.       , 0.5475423],\n",
       "       [0.5475423, 1.       ]])"
      ]
     },
     "execution_count": 48,
     "metadata": {},
     "output_type": "execute_result"
    }
   ],
   "source": [
    "np.corrcoef(e_out, f_lab) # unet and era5"
   ]
  },
  {
   "cell_type": "code",
   "execution_count": 49,
   "id": "767ddf24-fa7b-44d0-9ab2-8e7ba1e28aa2",
   "metadata": {},
   "outputs": [
    {
     "data": {
      "text/plain": [
       "array([[1.        , 0.66691021],\n",
       "       [0.66691021, 1.        ]])"
      ]
     },
     "execution_count": 49,
     "metadata": {},
     "output_type": "execute_result"
    }
   ],
   "source": [
    "np.corrcoef(d_inp, f_lab) # cesm and era5"
   ]
  },
  {
   "cell_type": "code",
   "execution_count": 50,
   "id": "e64d0579-c14e-4fca-8360-927905146254",
   "metadata": {},
   "outputs": [
    {
     "data": {
      "image/png": "[encoded data removed]",
      "text/plain": [
       "<Figure size 640x480 with 1 Axes>"
      ]
     },
     "metadata": {},
     "output_type": "display_data"
    },
    {
     "data": {
      "image/png": "[encoded data removed]",
      "text/plain": [
       "<Figure size 640x480 with 1 Axes>"
      ]
     },
     "metadata": {},
     "output_type": "display_data"
    },
    {
     "data": {
      "image/png": "[encoded data removed]",
      "text/plain": [
       "<Figure size 640x480 with 1 Axes>"
      ]
     },
     "metadata": {},
     "output_type": "display_data"
    }
   ],
   "source": [
    "a_inp = i['input'].squeeze(dim=2).cpu().detach().numpy()[:,nc-1,:,:][sample_]\n",
    "\n",
    "b_out = net(i['input'].squeeze(dim=2).to(device, dtype=torch.float)).cpu().detach().numpy()[:,0,:,:][sample_]\n",
    "\n",
    "c_lab = i['label'].squeeze(dim=2).cpu().detach().numpy()[:,0,:,:][sample_]\n",
    "\n",
    "plt.imshow(a_inp, vmin=0., vmax=0.1, cmap='Reds'); plt.show()\n",
    "plt.imshow(b_out, vmin=0., vmax=0.1, cmap='Reds'); plt.show()\n",
    "plt.imshow(c_lab, vmin=0., vmax=0.1, cmap='Reds'); plt.show()"
   ]
  },
  {
   "cell_type": "code",
   "execution_count": null,
   "id": "856e04de-187e-436c-bf1d-b9abad72a7ab",
   "metadata": {},
   "outputs": [],
   "source": []
  },
  {
   "cell_type": "code",
   "execution_count": null,
   "id": "5e9abf99-73f7-4620-98c2-6dcee9f84af1",
   "metadata": {},
   "outputs": [],
   "source": []
  }
 ],
 "metadata": {
  "kernelspec": {
   "display_name": "Python 3 (ipykernel)",
   "language": "python",
   "name": "python3"
  },
  "language_info": {
   "codemirror_mode": {
    "name": "ipython",
    "version": 3
   },
   "file_extension": ".py",
   "mimetype": "text/x-python",
   "name": "python",
   "nbconvert_exporter": "python",
   "pygments_lexer": "ipython3",
   "version": "3.10.9"
  }
 },
 "nbformat": 4,
 "nbformat_minor": 5
}
