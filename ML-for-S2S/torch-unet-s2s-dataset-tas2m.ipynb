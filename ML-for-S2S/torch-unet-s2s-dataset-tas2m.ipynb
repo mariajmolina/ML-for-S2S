{
 "cells": [
  {
   "cell_type": "code",
   "execution_count": 1,
   "id": "223f3804-e44b-41bb-90bc-247b82f8980e",
   "metadata": {},
   "outputs": [],
   "source": [
    "import numpy as np\n",
    "import pandas as pd\n",
    "import xarray as xr\n",
    "from datetime import timedelta\n",
    "import matplotlib.pyplot as plt\n",
    "import xskillscore as xs\n",
    "\n",
    "import torch\n",
    "import torch.nn.functional as F\n",
    "from torch.utils.data import DataLoader\n",
    "import torch.nn as nn\n",
    "import torch.optim as optim\n",
    "\n",
    "import torch_funcs\n",
    "\n",
    "import torch_s2s_dataset"
   ]
  },
  {
   "cell_type": "code",
   "execution_count": 2,
   "id": "b94ccf21-edc8-4717-90b2-79f9e60ce3ef",
   "metadata": {},
   "outputs": [],
   "source": [
    "def reverse_negone(ds, minv, maxv):\n",
    "\n",
    "    return (((ds + 1) / 2) * (maxv - minv)) + minv"
   ]
  },
  {
   "cell_type": "code",
   "execution_count": 3,
   "id": "8f258680-0a11-436d-8e58-e2796dd838d7",
   "metadata": {},
   "outputs": [],
   "source": [
    "var = 'tas2m'\n",
    "wks = 2\n",
    "\n",
    "train = torch_s2s_dataset.S2SDataset(week=wks, variable=var, norm='minmax', \n",
    "                                     \n",
    "                                     minv=None, maxv=None, mnv=None, stdv=None,\n",
    "    \n",
    "    startdt='1999-02-01', enddt='2015-12-31', homedir='/glade/scratch/molina/')"
   ]
  },
  {
   "cell_type": "code",
   "execution_count": 4,
   "id": "45419788-8c8d-4a12-901f-08b471f9d50b",
   "metadata": {},
   "outputs": [],
   "source": [
    "valid = torch_s2s_dataset.S2SDataset(week=wks, variable=var, norm='minmax',\n",
    "                                     \n",
    "                                     minv=train.min_val, maxv=train.max_val, \n",
    "                                     \n",
    "                                     mnv=None, stdv=None,\n",
    "    \n",
    "    startdt='2016-01-01', enddt='2017-12-31', homedir='/glade/scratch/molina/')\n",
    "\n",
    "tests = torch_s2s_dataset.S2SDataset(week=wks, variable=var, norm='minmax',\n",
    "                                     \n",
    "                                     minv=train.min_val, maxv=train.max_val, \n",
    "                                     \n",
    "                                     mnv=None, stdv=None,\n",
    "    \n",
    "    startdt='2018-01-01', enddt='2020-12-31', homedir='/glade/scratch/molina/')"
   ]
  },
  {
   "cell_type": "code",
   "execution_count": 5,
   "id": "bf4735f3-e935-4869-9a41-a31756ce9572",
   "metadata": {},
   "outputs": [],
   "source": [
    "BATCH_SIZE=32"
   ]
  },
  {
   "cell_type": "code",
   "execution_count": 6,
   "id": "ad19da21-04a3-470b-91b0-2ba0542374c1",
   "metadata": {},
   "outputs": [],
   "source": [
    "train_loader = DataLoader(train, batch_size=BATCH_SIZE, shuffle=True, drop_last=True)\n",
    "valid_loader = DataLoader(valid, batch_size=BATCH_SIZE, shuffle=False, drop_last=False)\n",
    "tests_loader = DataLoader(tests, batch_size=BATCH_SIZE, shuffle=False, drop_last=False)"
   ]
  },
  {
   "cell_type": "code",
   "execution_count": 10,
   "id": "9664c0e5-59fd-43a6-be9d-3bc778132e45",
   "metadata": {},
   "outputs": [
    {
     "data": {
      "image/png": "[encoded data removed]",
      "text/plain": [
       "<Figure size 640x480 with 1 Axes>"
      ]
     },
     "metadata": {},
     "output_type": "display_data"
    },
    {
     "name": "stdout",
     "output_type": "stream",
     "text": [
      "AxesImage(143.2,52.8;369.6x369.6) None\n"
     ]
    },
    {
     "data": {
      "image/png": "[encoded data removed]",
      "text/plain": [
       "<Figure size 640x480 with 1 Axes>"
      ]
     },
     "metadata": {},
     "output_type": "display_data"
    },
    {
     "name": "stdout",
     "output_type": "stream",
     "text": [
      "AxesImage(143.2,52.8;369.6x369.6) None\n"
     ]
    }
   ],
   "source": [
    "for i in valid_loader:\n",
    "    print(plt.imshow(i['input'].squeeze(dim=2)[20,3:4,:,:][0], vmin=0.5, vmax=1, cmap='Reds'), plt.show())\n",
    "    print(plt.imshow(i['label'].squeeze(dim=2)[20,0,:,:], vmin=0.5, vmax=1, cmap='Reds'), plt.show())\n",
    "    break"
   ]
  },
  {
   "cell_type": "code",
   "execution_count": 11,
   "id": "49043d08-7460-4a0a-b42e-518266730611",
   "metadata": {},
   "outputs": [],
   "source": [
    "def train_func(model, dataloader, nc):\n",
    "    \"\"\"\n",
    "    Training function.\n",
    "    \n",
    "    Args:\n",
    "        model (torch): pytorch neural network.\n",
    "        dataloader (torch): pytorch dataloader.\n",
    "    \"\"\"\n",
    "    model.train()\n",
    "    \n",
    "    running_loss = 0.0\n",
    "    corrcoef_loss = 0.0\n",
    "    corrcoef_true = 0.0\n",
    "    \n",
    "    for data in dataloader:\n",
    "        \n",
    "        img_noisy = data['input'].squeeze(dim=2)\n",
    "        img_noisy = img_noisy.to(device, dtype=torch.float)\n",
    "        \n",
    "        img_label = data['label'].squeeze(dim=2)\n",
    "        img_label = img_label.to(device, dtype=torch.float)\n",
    "\n",
    "        optimizer.zero_grad()\n",
    "        outputs = model(img_noisy)\n",
    "        \n",
    "        loss = criterion(outputs, img_label)\n",
    "        closs = torch_funcs.corrcoef(outputs, img_label)\n",
    "        tloss = torch_funcs.corrcoef(img_noisy[:,nc-1:nc,:,:], img_label)\n",
    "        \n",
    "        loss.backward()\n",
    "        optimizer.step()\n",
    "        \n",
    "        running_loss += loss.item()\n",
    "        corrcoef_loss += closs.item()\n",
    "        corrcoef_true += tloss.item()\n",
    "    \n",
    "    train_loss = running_loss / len(dataloader)\n",
    "    coef_loss = corrcoef_loss / len(dataloader)\n",
    "    coef_true = corrcoef_true / len(dataloader)\n",
    "    \n",
    "    return train_loss, coef_loss, coef_true"
   ]
  },
  {
   "cell_type": "code",
   "execution_count": 12,
   "id": "2ca4e9b5-5d65-4246-ad85-7004f5f46c18",
   "metadata": {},
   "outputs": [],
   "source": [
    "def valid_func(model, dataloader, nc):\n",
    "    \"\"\"\n",
    "    Validation function.\n",
    "    \n",
    "    Args:\n",
    "        model: pytorch neural network.\n",
    "        dataloader: pytorch dataloader.\n",
    "    \"\"\"\n",
    "    model.eval()\n",
    "    \n",
    "    running_loss = 0.0\n",
    "    corrcoef_loss = 0.0\n",
    "    corrcoef_true = 0.0\n",
    "    \n",
    "    with torch.no_grad():\n",
    "        \n",
    "        for i, data in enumerate(dataloader):\n",
    "\n",
    "            img_noisy = data['input'].squeeze(dim=2)\n",
    "            img_noisy = img_noisy.to(device, dtype=torch.float)\n",
    "\n",
    "            img_label = data['label'].squeeze(dim=2)\n",
    "            img_label = img_label.to(device, dtype=torch.float)\n",
    "\n",
    "            outputs = model(img_noisy)\n",
    "            \n",
    "            loss = criterion(outputs, img_label)\n",
    "            closs = torch_funcs.corrcoef(outputs, img_label)\n",
    "            tloss = torch_funcs.corrcoef(img_noisy[:,nc-1:nc,:,:], img_label)\n",
    "            \n",
    "            running_loss += loss.item()\n",
    "            corrcoef_loss += closs.item()\n",
    "            corrcoef_true += tloss.item()\n",
    "\n",
    "    val_loss = running_loss / len(dataloader)\n",
    "    coef_loss = corrcoef_loss / len(dataloader)\n",
    "    coef_true = corrcoef_true / len(dataloader)\n",
    "    \n",
    "    return val_loss, coef_loss, coef_true"
   ]
  },
  {
   "cell_type": "code",
   "execution_count": 13,
   "id": "9b3897ed-dbc6-4dd9-90dc-b59288fb74d6",
   "metadata": {},
   "outputs": [],
   "source": [
    "def get_device():\n",
    "    \"\"\"\n",
    "    Grab GPU (cuda).\n",
    "    \n",
    "    \"\"\"\n",
    "    if torch.cuda.is_available():\n",
    "        device = 'cuda:0'\n",
    "        \n",
    "    else:\n",
    "        device = 'cpu'\n",
    "        \n",
    "    return device\n",
    "\n",
    "\n",
    "class DoubleConv(nn.Module):\n",
    "    \"\"\"(convolution => [BN] => ReLU) * 2\"\"\"\n",
    "\n",
    "    def __init__(self, in_channels, out_channels, mid_channels=None):\n",
    "        \n",
    "        super().__init__()\n",
    "        \n",
    "        if not mid_channels:\n",
    "            \n",
    "            mid_channels = out_channels\n",
    "            \n",
    "        self.double_conv = nn.Sequential(\n",
    "            nn.Conv2d(in_channels, mid_channels, kernel_size=3, padding=1),\n",
    "            nn.BatchNorm2d(mid_channels),\n",
    "            nn.ReLU(inplace=True),\n",
    "            nn.Conv2d(mid_channels, out_channels, kernel_size=3, padding=1),\n",
    "            nn.BatchNorm2d(out_channels),\n",
    "            nn.ReLU(inplace=True)\n",
    "        )\n",
    "\n",
    "    def forward(self, x):\n",
    "        \n",
    "        return self.double_conv(x)\n",
    "\n",
    "\n",
    "class Down(nn.Module):\n",
    "    \"\"\"Downscaling with maxpool then double conv\"\"\"\n",
    "\n",
    "    def __init__(self, in_channels, out_channels):\n",
    "        super().__init__()\n",
    "        self.maxpool_conv = nn.Sequential(\n",
    "            nn.MaxPool2d(2),\n",
    "            DoubleConv(in_channels, out_channels)\n",
    "        )\n",
    "\n",
    "    def forward(self, x):\n",
    "        return self.maxpool_conv(x)\n",
    "\n",
    "\n",
    "class Up(nn.Module):\n",
    "    \n",
    "    \"\"\"Upscaling then double conv\"\"\"\n",
    "\n",
    "    def __init__(self, in_channels, out_channels, bilinear=True):\n",
    "        \n",
    "        super().__init__()\n",
    "\n",
    "        # if bilinear, use the normal convolutions to reduce the number of channels\n",
    "        \n",
    "        if bilinear:\n",
    "            \n",
    "            self.up = nn.Upsample(scale_factor=2, mode='bilinear', align_corners=True)\n",
    "            self.conv = DoubleConv(in_channels, out_channels, in_channels // 2)\n",
    "            \n",
    "        else:\n",
    "            \n",
    "            self.up = nn.ConvTranspose2d(in_channels, in_channels // 2, kernel_size=2, stride=2)\n",
    "            self.conv = DoubleConv(in_channels, out_channels)\n",
    "\n",
    "    def forward(self, x1, x2):\n",
    "        \n",
    "        x1 = self.up(x1)\n",
    "        \n",
    "        # input is CHW\n",
    "        \n",
    "        diffY = x2.size()[2] - x1.size()[2]\n",
    "        diffX = x2.size()[3] - x1.size()[3]\n",
    "\n",
    "        x1 = F.pad(x1, [diffX // 2, diffX - diffX // 2,\n",
    "                        diffY // 2, diffY - diffY // 2])\n",
    "        \n",
    "        x = torch.cat([x2, x1], dim=1)\n",
    "        \n",
    "        return self.conv(x)\n",
    "\n",
    "\n",
    "class OutConv(nn.Module):\n",
    "    \n",
    "    def __init__(self, in_channels, out_channels):\n",
    "        \n",
    "        super(OutConv, self).__init__()\n",
    "        \n",
    "        self.conv = nn.Conv2d(in_channels, out_channels, kernel_size=1)\n",
    "\n",
    "    def forward(self, x):\n",
    "        \n",
    "        return self.conv(x)\n",
    "    \n",
    "    \n",
    "class UNet(nn.Module):\n",
    "    \n",
    "    def __init__(self, n_channels, n_classes, bilinear=True, mask=None):\n",
    "        \n",
    "        super(UNet, self).__init__()\n",
    "        \n",
    "        factor = 2 if bilinear else 1\n",
    "        \n",
    "        self.n_channels = n_channels\n",
    "        self.n_classes = n_classes\n",
    "        self.bilinear = bilinear\n",
    "        self.mask = mask\n",
    "\n",
    "        self.inc = DoubleConv(n_channels, 32)\n",
    "        \n",
    "        self.down1 = Down(32, 64)\n",
    "        self.down2 = Down(64, 128)\n",
    "        self.down3 = Down(128, 256)\n",
    "        self.down4 = Down(256, 512 // factor)\n",
    "        \n",
    "        self.up1 = Up(512, 256 // factor, bilinear)\n",
    "        self.up2 = Up(256, 128 // factor, bilinear)\n",
    "        self.up3 = Up(128, 64 // factor, bilinear)\n",
    "        self.up4 = Up(64, 32, bilinear)\n",
    "        \n",
    "        self.outc = OutConv(32, n_classes)\n",
    "\n",
    "    def forward(self, x):\n",
    "        \n",
    "        x1 = self.inc(x)\n",
    "        \n",
    "        x2 = self.down1(x1)\n",
    "        x3 = self.down2(x2)\n",
    "        x4 = self.down3(x3)\n",
    "        x5 = self.down4(x4)\n",
    "        \n",
    "        x = self.up1(x5, x4)\n",
    "        x = self.up2(x, x3)\n",
    "        x = self.up3(x, x2)\n",
    "        x = self.up4(x, x1)\n",
    "        \n",
    "        logits = self.outc(x)\n",
    "        \n",
    "        return logits"
   ]
  },
  {
   "cell_type": "code",
   "execution_count": 14,
   "id": "036a9ac3-c437-4c5a-abdd-dc42e59681fb",
   "metadata": {},
   "outputs": [],
   "source": [
    "nc = 4"
   ]
  },
  {
   "cell_type": "code",
   "execution_count": 15,
   "id": "b29b2910-4dc4-4b36-90c2-8bb47c95fba8",
   "metadata": {},
   "outputs": [],
   "source": [
    "net = UNet(n_channels=nc, n_classes=1)"
   ]
  },
  {
   "cell_type": "code",
   "execution_count": 16,
   "id": "3805289e-7cbc-4607-898a-2ee43186bed5",
   "metadata": {},
   "outputs": [],
   "source": [
    "LEARNING_RATE = 1e-4\n",
    "\n",
    "# the optimizer\n",
    "optimizer = optim.Adam(net.parameters(), lr=LEARNING_RATE)\n",
    "\n",
    "# the loss function\n",
    "criterion = nn.MSELoss()   # adding weights to positive class"
   ]
  },
  {
   "cell_type": "code",
   "execution_count": 17,
   "id": "6558ba98-8826-49d5-b8c8-f7fd6353561a",
   "metadata": {
    "tags": []
   },
   "outputs": [
    {
     "name": "stdout",
     "output_type": "stream",
     "text": [
      "cuda:0\n"
     ]
    },
    {
     "data": {
      "text/plain": [
       "UNet(\n",
       "  (inc): DoubleConv(\n",
       "    (double_conv): Sequential(\n",
       "      (0): Conv2d(4, 32, kernel_size=(3, 3), stride=(1, 1), padding=(1, 1))\n",
       "      (1): BatchNorm2d(32, eps=1e-05, momentum=0.1, affine=True, track_running_stats=True)\n",
       "      (2): ReLU(inplace=True)\n",
       "      (3): Conv2d(32, 32, kernel_size=(3, 3), stride=(1, 1), padding=(1, 1))\n",
       "      (4): BatchNorm2d(32, eps=1e-05, momentum=0.1, affine=True, track_running_stats=True)\n",
       "      (5): ReLU(inplace=True)\n",
       "    )\n",
       "  )\n",
       "  (down1): Down(\n",
       "    (maxpool_conv): Sequential(\n",
       "      (0): MaxPool2d(kernel_size=2, stride=2, padding=0, dilation=1, ceil_mode=False)\n",
       "      (1): DoubleConv(\n",
       "        (double_conv): Sequential(\n",
       "          (0): Conv2d(32, 64, kernel_size=(3, 3), stride=(1, 1), padding=(1, 1))\n",
       "          (1): BatchNorm2d(64, eps=1e-05, momentum=0.1, affine=True, track_running_stats=True)\n",
       "          (2): ReLU(inplace=True)\n",
       "          (3): Conv2d(64, 64, kernel_size=(3, 3), stride=(1, 1), padding=(1, 1))\n",
       "          (4): BatchNorm2d(64, eps=1e-05, momentum=0.1, affine=True, track_running_stats=True)\n",
       "          (5): ReLU(inplace=True)\n",
       "        )\n",
       "      )\n",
       "    )\n",
       "  )\n",
       "  (down2): Down(\n",
       "    (maxpool_conv): Sequential(\n",
       "      (0): MaxPool2d(kernel_size=2, stride=2, padding=0, dilation=1, ceil_mode=False)\n",
       "      (1): DoubleConv(\n",
       "        (double_conv): Sequential(\n",
       "          (0): Conv2d(64, 128, kernel_size=(3, 3), stride=(1, 1), padding=(1, 1))\n",
       "          (1): BatchNorm2d(128, eps=1e-05, momentum=0.1, affine=True, track_running_stats=True)\n",
       "          (2): ReLU(inplace=True)\n",
       "          (3): Conv2d(128, 128, kernel_size=(3, 3), stride=(1, 1), padding=(1, 1))\n",
       "          (4): BatchNorm2d(128, eps=1e-05, momentum=0.1, affine=True, track_running_stats=True)\n",
       "          (5): ReLU(inplace=True)\n",
       "        )\n",
       "      )\n",
       "    )\n",
       "  )\n",
       "  (down3): Down(\n",
       "    (maxpool_conv): Sequential(\n",
       "      (0): MaxPool2d(kernel_size=2, stride=2, padding=0, dilation=1, ceil_mode=False)\n",
       "      (1): DoubleConv(\n",
       "        (double_conv): Sequential(\n",
       "          (0): Conv2d(128, 256, kernel_size=(3, 3), stride=(1, 1), padding=(1, 1))\n",
       "          (1): BatchNorm2d(256, eps=1e-05, momentum=0.1, affine=True, track_running_stats=True)\n",
       "          (2): ReLU(inplace=True)\n",
       "          (3): Conv2d(256, 256, kernel_size=(3, 3), stride=(1, 1), padding=(1, 1))\n",
       "          (4): BatchNorm2d(256, eps=1e-05, momentum=0.1, affine=True, track_running_stats=True)\n",
       "          (5): ReLU(inplace=True)\n",
       "        )\n",
       "      )\n",
       "    )\n",
       "  )\n",
       "  (down4): Down(\n",
       "    (maxpool_conv): Sequential(\n",
       "      (0): MaxPool2d(kernel_size=2, stride=2, padding=0, dilation=1, ceil_mode=False)\n",
       "      (1): DoubleConv(\n",
       "        (double_conv): Sequential(\n",
       "          (0): Conv2d(256, 256, kernel_size=(3, 3), stride=(1, 1), padding=(1, 1))\n",
       "          (1): BatchNorm2d(256, eps=1e-05, momentum=0.1, affine=True, track_running_stats=True)\n",
       "          (2): ReLU(inplace=True)\n",
       "          (3): Conv2d(256, 256, kernel_size=(3, 3), stride=(1, 1), padding=(1, 1))\n",
       "          (4): BatchNorm2d(256, eps=1e-05, momentum=0.1, affine=True, track_running_stats=True)\n",
       "          (5): ReLU(inplace=True)\n",
       "        )\n",
       "      )\n",
       "    )\n",
       "  )\n",
       "  (up1): Up(\n",
       "    (up): Upsample(scale_factor=2.0, mode=bilinear)\n",
       "    (conv): DoubleConv(\n",
       "      (double_conv): Sequential(\n",
       "        (0): Conv2d(512, 256, kernel_size=(3, 3), stride=(1, 1), padding=(1, 1))\n",
       "        (1): BatchNorm2d(256, eps=1e-05, momentum=0.1, affine=True, track_running_stats=True)\n",
       "        (2): ReLU(inplace=True)\n",
       "        (3): Conv2d(256, 128, kernel_size=(3, 3), stride=(1, 1), padding=(1, 1))\n",
       "        (4): BatchNorm2d(128, eps=1e-05, momentum=0.1, affine=True, track_running_stats=True)\n",
       "        (5): ReLU(inplace=True)\n",
       "      )\n",
       "    )\n",
       "  )\n",
       "  (up2): Up(\n",
       "    (up): Upsample(scale_factor=2.0, mode=bilinear)\n",
       "    (conv): DoubleConv(\n",
       "      (double_conv): Sequential(\n",
       "        (0): Conv2d(256, 128, kernel_size=(3, 3), stride=(1, 1), padding=(1, 1))\n",
       "        (1): BatchNorm2d(128, eps=1e-05, momentum=0.1, affine=True, track_running_stats=True)\n",
       "        (2): ReLU(inplace=True)\n",
       "        (3): Conv2d(128, 64, kernel_size=(3, 3), stride=(1, 1), padding=(1, 1))\n",
       "        (4): BatchNorm2d(64, eps=1e-05, momentum=0.1, affine=True, track_running_stats=True)\n",
       "        (5): ReLU(inplace=True)\n",
       "      )\n",
       "    )\n",
       "  )\n",
       "  (up3): Up(\n",
       "    (up): Upsample(scale_factor=2.0, mode=bilinear)\n",
       "    (conv): DoubleConv(\n",
       "      (double_conv): Sequential(\n",
       "        (0): Conv2d(128, 64, kernel_size=(3, 3), stride=(1, 1), padding=(1, 1))\n",
       "        (1): BatchNorm2d(64, eps=1e-05, momentum=0.1, affine=True, track_running_stats=True)\n",
       "        (2): ReLU(inplace=True)\n",
       "        (3): Conv2d(64, 32, kernel_size=(3, 3), stride=(1, 1), padding=(1, 1))\n",
       "        (4): BatchNorm2d(32, eps=1e-05, momentum=0.1, affine=True, track_running_stats=True)\n",
       "        (5): ReLU(inplace=True)\n",
       "      )\n",
       "    )\n",
       "  )\n",
       "  (up4): Up(\n",
       "    (up): Upsample(scale_factor=2.0, mode=bilinear)\n",
       "    (conv): DoubleConv(\n",
       "      (double_conv): Sequential(\n",
       "        (0): Conv2d(64, 32, kernel_size=(3, 3), stride=(1, 1), padding=(1, 1))\n",
       "        (1): BatchNorm2d(32, eps=1e-05, momentum=0.1, affine=True, track_running_stats=True)\n",
       "        (2): ReLU(inplace=True)\n",
       "        (3): Conv2d(32, 32, kernel_size=(3, 3), stride=(1, 1), padding=(1, 1))\n",
       "        (4): BatchNorm2d(32, eps=1e-05, momentum=0.1, affine=True, track_running_stats=True)\n",
       "        (5): ReLU(inplace=True)\n",
       "      )\n",
       "    )\n",
       "  )\n",
       "  (outc): OutConv(\n",
       "    (conv): Conv2d(32, 1, kernel_size=(1, 1), stride=(1, 1))\n",
       "  )\n",
       ")"
      ]
     },
     "execution_count": 17,
     "metadata": {},
     "output_type": "execute_result"
    }
   ],
   "source": [
    "device = get_device()\n",
    "print(device)\n",
    "net.to(device)"
   ]
  },
  {
   "cell_type": "code",
   "execution_count": 18,
   "id": "722f9dee-b665-4939-ae44-6891b7309122",
   "metadata": {
    "tags": []
   },
   "outputs": [
    {
     "name": "stdout",
     "output_type": "stream",
     "text": [
      "Epoch 1 of 20; Train: 0.0963, 0.5102, 0.9558; Val: 0.2267, 0.1827, 0.9417\n",
      "Epoch 2 of 20; Train: 0.0231, 0.7377, 0.9556; Val: 0.0967, 0.2181, 0.9417\n",
      "Epoch 3 of 20; Train: 0.0070, 0.8218, 0.9551; Val: 0.0061, 0.8020, 0.9417\n",
      "Epoch 4 of 20; Train: 0.0025, 0.8737, 0.9561; Val: 0.0019, 0.8670, 0.9417\n",
      "Epoch 5 of 20; Train: 0.0013, 0.9022, 0.9553; Val: 0.0010, 0.8954, 0.9417\n",
      "Epoch 6 of 20; Train: 0.0009, 0.9231, 0.9558; Val: 0.0008, 0.9073, 0.9417\n",
      "Epoch 7 of 20; Train: 0.0008, 0.9309, 0.9558; Val: 0.0006, 0.9256, 0.9417\n",
      "Epoch 8 of 20; Train: 0.0007, 0.9398, 0.9553; Val: 0.0007, 0.9272, 0.9417\n",
      "Epoch 9 of 20; Train: 0.0006, 0.9440, 0.9558; Val: 0.0006, 0.9311, 0.9417\n",
      "Epoch 10 of 20; Train: 0.0005, 0.9503, 0.9552; Val: 0.0005, 0.9403, 0.9417\n",
      "Epoch 11 of 20; Train: 0.0005, 0.9532, 0.9559; Val: 0.0005, 0.9443, 0.9417\n",
      "Epoch 12 of 20; Train: 0.0005, 0.9546, 0.9555; Val: 0.0004, 0.9469, 0.9417\n",
      "Epoch 13 of 20; Train: 0.0005, 0.9580, 0.9561; Val: 0.0004, 0.9471, 0.9417\n",
      "Epoch 14 of 20; Train: 0.0004, 0.9609, 0.9558; Val: 0.0004, 0.9519, 0.9417\n",
      "Epoch 15 of 20; Train: 0.0004, 0.9616, 0.9559; Val: 0.0004, 0.9520, 0.9417\n",
      "Epoch 16 of 20; Train: 0.0004, 0.9623, 0.9557; Val: 0.0004, 0.9512, 0.9417\n",
      "Epoch 17 of 20; Train: 0.0004, 0.9634, 0.9559; Val: 0.0004, 0.9537, 0.9417\n",
      "Epoch 18 of 20; Train: 0.0004, 0.9642, 0.9551; Val: 0.0004, 0.9541, 0.9417\n",
      "Epoch 19 of 20; Train: 0.0004, 0.9649, 0.9557; Val: 0.0004, 0.9557, 0.9417\n",
      "Epoch 20 of 20; Train: 0.0004, 0.9648, 0.9557; Val: 0.0004, 0.9561, 0.9417\n"
     ]
    }
   ],
   "source": [
    "NUM_EPOCHS = 20\n",
    "\n",
    "train_loss = []\n",
    "valid_loss = []\n",
    "\n",
    "train_corr = []\n",
    "valid_corr = []\n",
    "\n",
    "train_true = []\n",
    "valid_true = []\n",
    "\n",
    "for enum, epoch in enumerate(range(NUM_EPOCHS)):\n",
    "    \n",
    "    t_loss, t_corr, t_true = train_func(net, train_loader, nc)\n",
    "    v_loss, v_corr, v_true = valid_func(net, valid_loader, nc)\n",
    "    \n",
    "    train_loss.append(t_loss)\n",
    "    valid_loss.append(v_loss)\n",
    "    \n",
    "    train_corr.append(t_corr)\n",
    "    valid_corr.append(v_corr)\n",
    "    \n",
    "    train_true.append(t_true)\n",
    "    valid_true.append(v_true)\n",
    "    \n",
    "    print(f\"Epoch {epoch + 1} of {NUM_EPOCHS}; \"\\\n",
    "          f\"Train: {t_loss:.4f}, {t_corr:.4f}, {t_true:.4f}; \"\\\n",
    "          f\"Val: {v_loss:.4f}, {v_corr:.4f}, {v_true:.4f}\")"
   ]
  },
  {
   "cell_type": "code",
   "execution_count": 19,
   "id": "764153ac-f0da-4c53-a4e6-074879dc8cfd",
   "metadata": {},
   "outputs": [
    {
     "data": {
      "image/png": "[encoded data removed]",
      "text/plain": [
       "<Figure size 640x480 with 1 Axes>"
      ]
     },
     "metadata": {},
     "output_type": "display_data"
    }
   ],
   "source": [
    "plt.plot(train_loss)\n",
    "plt.plot(valid_loss)\n",
    "plt.show()"
   ]
  },
  {
   "cell_type": "code",
   "execution_count": 20,
   "id": "436e60b3-1251-493a-a1cf-f0094cfd2ad1",
   "metadata": {},
   "outputs": [
    {
     "data": {
      "image/png": "[encoded data removed]",
      "text/plain": [
       "<Figure size 640x480 with 1 Axes>"
      ]
     },
     "metadata": {},
     "output_type": "display_data"
    }
   ],
   "source": [
    "plt.plot(train_corr)\n",
    "plt.plot(valid_corr)\n",
    "plt.show()"
   ]
  },
  {
   "cell_type": "code",
   "execution_count": 21,
   "id": "dab7435f-2dc1-41a3-aab5-b85780ab5a7a",
   "metadata": {},
   "outputs": [
    {
     "name": "stdout",
     "output_type": "stream",
     "text": [
      "torch.Size([32, 4, 32, 32])\n",
      "torch.Size([32, 1, 32, 32])\n"
     ]
    }
   ],
   "source": [
    "for i in tests_loader:\n",
    "    print(i['input'].squeeze(dim=2).shape)\n",
    "    print(i['label'].squeeze(dim=2).shape)\n",
    "    break"
   ]
  },
  {
   "cell_type": "code",
   "execution_count": 47,
   "id": "67ae2168-ca4f-4a0b-ad1b-1ec307a2beeb",
   "metadata": {},
   "outputs": [],
   "source": [
    "sample_ = 31\n",
    "\n",
    "d_inp = i['input'].squeeze(dim=2).cpu().detach().numpy()[sample_,nc-1,:,:].flatten()\n",
    "e_out = net(i['input'].squeeze(dim=2).to(device, dtype=torch.float)).cpu().detach().numpy()[sample_,0,:,:].flatten()\n",
    "f_lab = i['label'].squeeze(dim=2).cpu().detach().numpy()[sample_,0,:,:].flatten()"
   ]
  },
  {
   "cell_type": "code",
   "execution_count": 48,
   "id": "3cbf34dc-0568-4575-b3fc-d2b380bfba37",
   "metadata": {},
   "outputs": [
    {
     "data": {
      "text/plain": [
       "array([[1.        , 0.89966384],\n",
       "       [0.89966384, 1.        ]])"
      ]
     },
     "execution_count": 48,
     "metadata": {},
     "output_type": "execute_result"
    }
   ],
   "source": [
    "np.corrcoef(e_out, f_lab) # unet and era5"
   ]
  },
  {
   "cell_type": "code",
   "execution_count": 49,
   "id": "767ddf24-fa7b-44d0-9ab2-8e7ba1e28aa2",
   "metadata": {},
   "outputs": [
    {
     "data": {
      "text/plain": [
       "array([[1.        , 0.63991552],\n",
       "       [0.63991552, 1.        ]])"
      ]
     },
     "execution_count": 49,
     "metadata": {},
     "output_type": "execute_result"
    }
   ],
   "source": [
    "np.corrcoef(d_inp, f_lab) # cesm and era5"
   ]
  },
  {
   "cell_type": "code",
   "execution_count": 53,
   "id": "ac237101-2466-4f78-b592-5ca7e0a9c9fc",
   "metadata": {
    "collapsed": true,
    "jupyter": {
     "outputs_hidden": true,
     "source_hidden": true
    },
    "tags": []
   },
   "outputs": [
    {
     "data": {
      "image/png": "[encoded data removed]",
      "text/plain": [
       "<Figure size 640x480 with 1 Axes>"
      ]
     },
     "metadata": {},
     "output_type": "display_data"
    },
    {
     "data": {
      "image/png": "[encoded data removed]",
      "text/plain": [
       "<Figure size 640x480 with 1 Axes>"
      ]
     },
     "metadata": {},
     "output_type": "display_data"
    },
    {
     "data": {
      "image/png": "[encoded data removed]",
      "text/plain": [
       "<Figure size 640x480 with 1 Axes>"
      ]
     },
     "metadata": {},
     "output_type": "display_data"
    }
   ],
   "source": [
    "a_inp = reverse_negone(\n",
    "    i['input'].squeeze(dim=2).cpu().detach().numpy()[:,nc-1,:,:], \n",
    "    train.min_val, \n",
    "    train.max_val)[sample_]\n",
    "\n",
    "b_out = reverse_negone(\n",
    "    net(i['input'].squeeze(dim=2).to(\n",
    "        device, dtype=torch.float)).cpu().detach().numpy()[:,0,:,:], \n",
    "    train.min_val, \n",
    "    train.max_val)[sample_]\n",
    "\n",
    "c_lab = reverse_negone(\n",
    "    i['label'].squeeze(dim=2).cpu().detach().numpy()[:,0,:,:], \n",
    "    train.min_val, \n",
    "    train.max_val)[sample_]\n",
    "\n",
    "plt.imshow(a_inp, vmin=-1, vmax=1, cmap='seismic'); plt.show()\n",
    "plt.imshow(b_out, vmin=-1, vmax=1, cmap='seismic'); plt.show()\n",
    "plt.imshow(c_lab, vmin=-1, vmax=1, cmap='seismic'); plt.show()"
   ]
  },
  {
   "cell_type": "code",
   "execution_count": 50,
   "id": "e64d0579-c14e-4fca-8360-927905146254",
   "metadata": {},
   "outputs": [
    {
     "data": {
      "image/png": "[encoded data removed]",
      "text/plain": [
       "<Figure size 640x480 with 1 Axes>"
      ]
     },
     "metadata": {},
     "output_type": "display_data"
    },
    {
     "data": {
      "image/png": "[encoded data removed]",
      "text/plain": [
       "<Figure size 640x480 with 1 Axes>"
      ]
     },
     "metadata": {},
     "output_type": "display_data"
    },
    {
     "data": {
      "image/png": "[encoded data removed]",
      "text/plain": [
       "<Figure size 640x480 with 1 Axes>"
      ]
     },
     "metadata": {},
     "output_type": "display_data"
    }
   ],
   "source": [
    "a_inp = i['input'].squeeze(dim=2).cpu().detach().numpy()[:,nc-1,:,:][sample_]\n",
    "\n",
    "b_out = net(i['input'].squeeze(dim=2).to(device, dtype=torch.float)).cpu().detach().numpy()[:,0,:,:][sample_]\n",
    "\n",
    "c_lab = i['label'].squeeze(dim=2).cpu().detach().numpy()[:,0,:,:][sample_]\n",
    "\n",
    "plt.imshow(a_inp, vmin=0.5, vmax=1., cmap='Reds'); plt.show()\n",
    "plt.imshow(b_out, vmin=0.5, vmax=1., cmap='Reds'); plt.show()\n",
    "plt.imshow(c_lab, vmin=0.5, vmax=1., cmap='Reds'); plt.show()"
   ]
  },
  {
   "cell_type": "code",
   "execution_count": null,
   "id": "5e9abf99-73f7-4620-98c2-6dcee9f84af1",
   "metadata": {},
   "outputs": [],
   "source": []
  }
 ],
 "metadata": {
  "kernelspec": {
   "display_name": "Python [conda env:miniconda3-myenv-tfgpu]",
   "language": "python",
   "name": "conda-env-miniconda3-myenv-tfgpu-py"
  },
  "language_info": {
   "codemirror_mode": {
    "name": "ipython",
    "version": 3
   },
   "file_extension": ".py",
   "mimetype": "text/x-python",
   "name": "python",
   "nbconvert_exporter": "python",
   "pygments_lexer": "ipython3",
   "version": "3.8.13"
  }
 },
 "nbformat": 4,
 "nbformat_minor": 5
}
