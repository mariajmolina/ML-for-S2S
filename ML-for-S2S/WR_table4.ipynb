{
 "cells": [
  {
   "cell_type": "markdown",
   "id": "1cdfeaac-18da-4c08-a0a9-c7b60bf12798",
   "metadata": {},
   "source": [
    "# Table 4 (Molina et al., submitted)"
   ]
  },
  {
   "cell_type": "markdown",
   "id": "cd4b19d3-6a91-489a-8f0b-228c2ec224e4",
   "metadata": {},
   "source": [
    "Table 4. Pearson correlation matrix showing coefficients among the CESM2 (11-member ensemble mean) weather regime 500-hPa geopotential height anomalies (1999-2019) across 10-70°N and 150-40°W. Correlation coefficients for ERA5 weather regimes are shown in parentheses for comparison. Two-tailed statistical significance computed using a 10,000-member bootstrap and indicated in bold-face at the 95% confidence level and with an asterisk at the 99% confidence level."
   ]
  },
  {
   "cell_type": "markdown",
   "id": "c46ec794-7190-4127-9c45-19bad6218d33",
   "metadata": {},
   "source": [
    "## Imports"
   ]
  },
  {
   "cell_type": "code",
   "execution_count": 1,
   "id": "d746a1b0-1265-48d9-a1fb-cd9621e6ea6c",
   "metadata": {},
   "outputs": [],
   "source": [
    "import numpy as np\n",
    "import pandas as pd\n",
    "import xarray as xr\n",
    "\n",
    "from sklearn.decomposition import PCA\n",
    "from scipy import stats\n",
    "from sklearn.cluster import KMeans\n",
    "\n",
    "import som_analysis\n",
    "import cluster_analysis\n",
    "import narm_analysis"
   ]
  },
  {
   "cell_type": "markdown",
   "id": "9a216b8f-d60a-4bb5-b2cd-2fcdcee242a1",
   "metadata": {},
   "source": [
    "## function"
   ]
  },
  {
   "cell_type": "code",
   "execution_count": 2,
   "id": "65bd93b2-f324-4e42-b477-4f1a8165496a",
   "metadata": {},
   "outputs": [],
   "source": [
    "def get_cold_indx(ds, mo_init=9, mo_end=2):\n",
    "    \"\"\"\n",
    "    Extract indices for cold season.\n",
    "    Grabbing Sept thru February init, for Oct thru March predictions.\n",
    "    \"\"\"\n",
    "    dt_array = pd.to_datetime(ds['time'])\n",
    "    return xr.where((dt_array.month >= mo_init) | (dt_array.month <= mo_end),\n",
    "                    True, False)"
   ]
  },
  {
   "cell_type": "markdown",
   "id": "da9548f8-244a-466c-963e-855dcc0621eb",
   "metadata": {},
   "source": [
    "## open and preprocess training data"
   ]
  },
  {
   "cell_type": "code",
   "execution_count": 3,
   "id": "b314a642-8191-4ee1-95c2-f2a90867e220",
   "metadata": {},
   "outputs": [],
   "source": [
    "# region for clustering\n",
    "lat0 = 10\n",
    "lat1 = 70\n",
    "lon0 = -150\n",
    "lon1 = -40\n",
    "\n",
    "# open era5 data and slice\n",
    "ds_era5 = narm_analysis.era5_z500(lat0=lat0, lat1=lat1, lon0=lon0, lon1=lon1)\n",
    "\n",
    "# era5 anomalies\n",
    "ds_era5_anom = narm_analysis.era5_climo_wrs(\n",
    "    ds_era5, rolling_days=5, variable='clim')\n",
    "\n",
    "# restructure era5 array for machine learning training (SONDJFM)\n",
    "ds_era5_anom = ds_era5_anom[get_cold_indx(\n",
    "    ds_era5_anom, mo_init=10, mo_end=3), ...]\n",
    "\n",
    "ds_era5_train = ds_era5_anom.stack(\n",
    "    flat=('lat', 'lon')).transpose('time', 'flat').values"
   ]
  },
  {
   "cell_type": "markdown",
   "id": "8def4354-3e12-44ec-a5db-abab043a3bee",
   "metadata": {},
   "source": [
    "## pca and kmeans with era5"
   ]
  },
  {
   "cell_type": "code",
   "execution_count": 4,
   "id": "fcacb256-a4d5-4001-8fa0-f2f35d7a1d00",
   "metadata": {},
   "outputs": [
    {
     "name": "stdout",
     "output_type": "stream",
     "text": [
      "Variance explained: [25.95315607 17.65410568 11.94871708  9.0784389   7.98100848  6.14181738\n",
      "  4.32605934  2.61658689  2.22642929  2.17049559  1.49813958  1.22541708]\n",
      "Cumulative sum of variance explained for EOF1 and EOF2: [25.95315607 43.60726175 55.55597883 64.63441774 72.61542622 78.7572436\n",
      " 83.08330294 85.69988983 87.92631912 90.09681471 91.59495429 92.82037136]\n",
      "inertia: 39379.20538396953\n"
     ]
    }
   ],
   "source": [
    "# create pca object\n",
    "pca_obj = PCA(12, whiten=True)\n",
    "\n",
    "# fit pca with era5\n",
    "pca_obj = pca_obj.fit(ds_era5_train)\n",
    "\n",
    "# transform era5 data with pca\n",
    "ds_era5_train = pca_obj.transform(ds_era5_train)\n",
    "\n",
    "print(f'Variance explained: {pca_obj.explained_variance_ratio_ * 100}')\n",
    "print(\n",
    "    f'Cumulative sum of variance explained for EOF1 and EOF2: {np.cumsum(pca_obj.explained_variance_ratio_) * 100}'\n",
    ")\n",
    "\n",
    "# train kmeans\n",
    "k_means = KMeans(n_clusters=4,\n",
    "                 init='k-means++',\n",
    "                 n_init=10000,\n",
    "                 max_iter=300,\n",
    "                 tol=0.0001,\n",
    "                 verbose=0,\n",
    "                 random_state=0).fit(ds_era5_train)\n",
    "\n",
    "print(f'inertia: {k_means.inertia_}')"
   ]
  },
  {
   "cell_type": "markdown",
   "id": "2d683626-fca0-40b4-9884-2487389ec98b",
   "metadata": {},
   "source": [
    "## load hindcast cesm data with lead time bias corrected anomalies (and era5 similarly arranged)"
   ]
  },
  {
   "cell_type": "code",
   "execution_count": 5,
   "id": "063732de-bf1e-4162-8a53-ce9394b0d49f",
   "metadata": {},
   "outputs": [],
   "source": [
    "lat0 = 10\n",
    "lat1 = 70\n",
    "lon0 = -150\n",
    "lon1 = -40\n",
    "\n",
    "# era5 data\n",
    "\n",
    "z500_era5, z500_era5_dt = som_analysis.open_era5_files(\n",
    "    variable='z500', return_time=True,\n",
    "    lat0=lat0, lat1=lat1, lon0=lon0, lon1=lon1,\n",
    "    leadday0=0, leadday1=42, rolldays=5,)\n",
    "\n",
    "z500_standard_era5 = z500_era5.stack(\n",
    "    new=('time', 'lead'), flat=('lat', 'lon')).transpose('new', 'flat')\n",
    "\n",
    "# cesm data\n",
    "\n",
    "z500_cesm, z500_cesm_dt = som_analysis.open_cesm_files(\n",
    "    variable='zg_500', return_time=True,\n",
    "    lat0=lat0, lat1=lat1, lon0=lon0, lon1=lon1,\n",
    "    leadday0=0, leadday1=42, rolldays=5,)\n",
    "\n",
    "z500_standard_cesm = z500_cesm.stack(\n",
    "    new=('time', 'lead'), flat=('lat', 'lon')).transpose('new', 'flat')"
   ]
  },
  {
   "cell_type": "markdown",
   "id": "3923ea9e-ec56-4155-b046-d247ab98012e",
   "metadata": {},
   "source": [
    "## extract weather regime indices"
   ]
  },
  {
   "cell_type": "code",
   "execution_count": 6,
   "id": "2278462e-88bb-4f44-baa9-8ce3e4a4464a",
   "metadata": {},
   "outputs": [],
   "source": [
    "# grab cluster indices\n",
    "\n",
    "z500_era5_tmp_1, z500_era5_tmp_2, z500_era5_tmp_3, z500_era5_tmp_4 = cluster_analysis.composite_clusters_indx(\n",
    "    z500_standard_era5, k_means, pca_obj, use_pca=True)\n",
    "\n",
    "z500_cesm_tmp_1, z500_cesm_tmp_2, z500_cesm_tmp_3, z500_cesm_tmp_4 = cluster_analysis.composite_clusters_indx(\n",
    "    z500_standard_cesm, k_means, pca_obj, use_pca=True)"
   ]
  },
  {
   "cell_type": "code",
   "execution_count": 7,
   "id": "de409072-92f9-45fc-9e52-47c8a30f1ed9",
   "metadata": {},
   "outputs": [],
   "source": [
    "# extract clusters using indices\n",
    "\n",
    "z500_era5_tmp_01 = z500_standard_era5.unstack('flat').transpose(\n",
    "    'new', 'lat', 'lon')[z500_era5_tmp_1, :, :]\n",
    "z500_era5_tmp_02 = z500_standard_era5.unstack('flat').transpose(\n",
    "    'new', 'lat', 'lon')[z500_era5_tmp_2, :, :]\n",
    "z500_era5_tmp_03 = z500_standard_era5.unstack('flat').transpose(\n",
    "    'new', 'lat', 'lon')[z500_era5_tmp_3, :, :]\n",
    "z500_era5_tmp_04 = z500_standard_era5.unstack('flat').transpose(\n",
    "    'new', 'lat', 'lon')[z500_era5_tmp_4, :, :]\n",
    "\n",
    "z500_cesm_tmp_01 = z500_standard_cesm.unstack('flat').transpose(\n",
    "    'new', 'lat', 'lon')[z500_cesm_tmp_1, :, :]\n",
    "z500_cesm_tmp_02 = z500_standard_cesm.unstack('flat').transpose(\n",
    "    'new', 'lat', 'lon')[z500_cesm_tmp_2, :, :]\n",
    "z500_cesm_tmp_03 = z500_standard_cesm.unstack('flat').transpose(\n",
    "    'new', 'lat', 'lon')[z500_cesm_tmp_3, :, :]\n",
    "z500_cesm_tmp_04 = z500_standard_cesm.unstack('flat').transpose(\n",
    "    'new', 'lat', 'lon')[z500_cesm_tmp_4, :, :]"
   ]
  },
  {
   "cell_type": "markdown",
   "id": "1bd15e54-fbb7-4429-be9f-b1569c21a876",
   "metadata": {},
   "source": [
    "## bootstrap for table 4 (era5)"
   ]
  },
  {
   "cell_type": "code",
   "execution_count": 8,
   "id": "8f949944-faf6-4c41-a547-6c3359c19b61",
   "metadata": {},
   "outputs": [],
   "source": [
    "all_data0 = z500_standard_era5.unstack('flat').transpose(\n",
    "    'new', 'lat', 'lon').values\n",
    "tmp_data1 = z500_era5_tmp_01.values\n",
    "tmp_data2 = z500_era5_tmp_02.values\n",
    "tmp_data3 = z500_era5_tmp_03.values\n",
    "tmp_data4 = z500_era5_tmp_04.values"
   ]
  },
  {
   "cell_type": "code",
   "execution_count": 9,
   "id": "71ab060c-ac47-4c9c-99d7-2ad8e3c0b3c6",
   "metadata": {},
   "outputs": [],
   "source": [
    "boot_num_iter_ = 10000"
   ]
  },
  {
   "cell_type": "code",
   "execution_count": 10,
   "id": "2965b434-1c05-42b1-aaed-5d068228a40d",
   "metadata": {
    "tags": []
   },
   "outputs": [],
   "source": [
    "for ind in range(0, boot_num_iter_):\n",
    "\n",
    "    np.random.seed(ind)\n",
    "    rand_indx1 = [np.random.choice(all_data0.shape[0]) for i in range(\n",
    "        tmp_data1.shape[0])]\n",
    "\n",
    "    np.random.seed(ind + 1)\n",
    "    rand_indx2 = [np.random.choice(all_data0.shape[0]) for i in range(\n",
    "        tmp_data2.shape[0])]\n",
    "\n",
    "    boot_ = stats.pearsonr(\n",
    "        np.mean(all_data0[rand_indx1, ...], axis=0).flatten(),\n",
    "        np.mean(all_data0[rand_indx2, ...], axis=0).flatten()\n",
    "    )[0]\n",
    "\n",
    "    xr.Dataset(\n",
    "        data_vars=dict(\n",
    "            iteration=([\"iters\"], np.array([boot_])),\n",
    "        ),\n",
    "        attrs=dict(description=\"For bootstrap confidence intervals.\"),\n",
    "    ).to_netcdf(\n",
    "        f'/glade/scratch/molina/s2s/bootstrap/table4_era5_wr12/z500_era5_boot_{ind + 1}.nc')"
   ]
  },
  {
   "cell_type": "code",
   "execution_count": 11,
   "id": "557452e6-e006-4e8c-a2ab-0f2fed62ce41",
   "metadata": {},
   "outputs": [],
   "source": [
    "for ind in range(0, boot_num_iter_):\n",
    "\n",
    "    np.random.seed(ind)\n",
    "    rand_indx1 = [np.random.choice(all_data0.shape[0]) for i in range(\n",
    "        tmp_data1.shape[0])]\n",
    "\n",
    "    np.random.seed(ind + 1)\n",
    "    rand_indx3 = [np.random.choice(all_data0.shape[0]) for i in range(\n",
    "        tmp_data3.shape[0])]\n",
    "\n",
    "    boot_ = stats.pearsonr(\n",
    "        np.mean(all_data0[rand_indx1, ...], axis=0).flatten(),\n",
    "        np.mean(all_data0[rand_indx3, ...], axis=0).flatten()\n",
    "    )[0]\n",
    "\n",
    "    xr.Dataset(\n",
    "        data_vars=dict(\n",
    "            iteration=([\"iters\"], np.array([boot_])),\n",
    "        ),\n",
    "        attrs=dict(description=\"For bootstrap confidence intervals.\"),\n",
    "    ).to_netcdf(\n",
    "        f'/glade/scratch/molina/s2s/bootstrap/table4_era5_wr13/z500_era5_boot_{ind + 1}.nc')"
   ]
  },
  {
   "cell_type": "code",
   "execution_count": 12,
   "id": "bb02db3d-cc12-4033-8fe2-8d37a269198c",
   "metadata": {},
   "outputs": [],
   "source": [
    "for ind in range(0, boot_num_iter_):\n",
    "\n",
    "    np.random.seed(ind)\n",
    "    rand_indx1 = [np.random.choice(all_data0.shape[0]) for i in range(\n",
    "        tmp_data1.shape[0])]\n",
    "\n",
    "    np.random.seed(ind + 1)\n",
    "    rand_indx4 = [np.random.choice(all_data0.shape[0]) for i in range(\n",
    "        tmp_data4.shape[0])]\n",
    "\n",
    "    boot_ = stats.pearsonr(\n",
    "        np.mean(all_data0[rand_indx1, ...], axis=0).flatten(),\n",
    "        np.mean(all_data0[rand_indx4, ...], axis=0).flatten()\n",
    "    )[0]\n",
    "\n",
    "    xr.Dataset(\n",
    "        data_vars=dict(\n",
    "            iteration=([\"iters\"], np.array([boot_])),\n",
    "        ),\n",
    "        attrs=dict(description=\"For bootstrap confidence intervals.\"),\n",
    "    ).to_netcdf(\n",
    "        f'/glade/scratch/molina/s2s/bootstrap/table4_era5_wr14/z500_era5_boot_{ind + 1}.nc')"
   ]
  },
  {
   "cell_type": "code",
   "execution_count": 13,
   "id": "ccfd6c00-2b50-4561-97ca-eb3b4a095bc9",
   "metadata": {},
   "outputs": [],
   "source": [
    "for ind in range(0, boot_num_iter_):\n",
    "\n",
    "    np.random.seed(ind + 1)\n",
    "    rand_indx2 = [np.random.choice(all_data0.shape[0]) for i in range(\n",
    "        tmp_data2.shape[0])]\n",
    "\n",
    "    np.random.seed(ind)\n",
    "    rand_indx3 = [np.random.choice(all_data0.shape[0]) for i in range(\n",
    "        tmp_data3.shape[0])]\n",
    "\n",
    "    boot_ = stats.pearsonr(\n",
    "        np.mean(all_data0[rand_indx2, ...], axis=0).flatten(),\n",
    "        np.mean(all_data0[rand_indx3, ...], axis=0).flatten()\n",
    "    )[0]\n",
    "\n",
    "    xr.Dataset(\n",
    "        data_vars=dict(\n",
    "            iteration=([\"iters\"], np.array([boot_])),\n",
    "        ),\n",
    "        attrs=dict(description=\"For bootstrap confidence intervals.\"),\n",
    "    ).to_netcdf(\n",
    "        f'/glade/scratch/molina/s2s/bootstrap/table4_era5_wr23/z500_era5_boot_{ind + 1}.nc')"
   ]
  },
  {
   "cell_type": "code",
   "execution_count": 14,
   "id": "adbc5178-5d3a-409e-95b6-2e4b03519e28",
   "metadata": {},
   "outputs": [],
   "source": [
    "for ind in range(0, boot_num_iter_):\n",
    "\n",
    "    np.random.seed(ind + 1)\n",
    "    rand_indx2 = [np.random.choice(all_data0.shape[0]) for i in range(\n",
    "        tmp_data2.shape[0])]\n",
    "\n",
    "    np.random.seed(ind)\n",
    "    rand_indx4 = [np.random.choice(all_data0.shape[0]) for i in range(\n",
    "        tmp_data4.shape[0])]\n",
    "\n",
    "    boot_ = stats.pearsonr(\n",
    "        np.mean(all_data0[rand_indx2, ...], axis=0).flatten(),\n",
    "        np.mean(all_data0[rand_indx4, ...], axis=0).flatten()\n",
    "    )[0]\n",
    "\n",
    "    xr.Dataset(\n",
    "        data_vars=dict(\n",
    "            iteration=([\"iters\"], np.array([boot_])),\n",
    "        ),\n",
    "        attrs=dict(description=\"For bootstrap confidence intervals.\"),\n",
    "    ).to_netcdf(\n",
    "        f'/glade/scratch/molina/s2s/bootstrap/table4_era5_wr24/z500_era5_boot_{ind + 1}.nc')"
   ]
  },
  {
   "cell_type": "code",
   "execution_count": null,
   "id": "7b030314-dd92-4a20-a95d-1e47ec4629a4",
   "metadata": {},
   "outputs": [],
   "source": [
    "for ind in range(0, boot_num_iter_):\n",
    "\n",
    "    np.random.seed(ind + 1)\n",
    "    rand_indx3 = [np.random.choice(all_data0.shape[0]) for i in range(\n",
    "        tmp_data3.shape[0])]\n",
    "\n",
    "    np.random.seed(ind)\n",
    "    rand_indx4 = [np.random.choice(all_data0.shape[0]) for i in range(\n",
    "        tmp_data4.shape[0])]\n",
    "\n",
    "    boot_ = stats.pearsonr(\n",
    "        np.mean(all_data0[rand_indx3, ...], axis=0).flatten(),\n",
    "        np.mean(all_data0[rand_indx4, ...], axis=0).flatten()\n",
    "    )[0]\n",
    "\n",
    "    xr.Dataset(\n",
    "        data_vars=dict(\n",
    "            iteration=([\"iters\"], np.array([boot_])),\n",
    "        ),\n",
    "        attrs=dict(description=\"For bootstrap confidence intervals.\"),\n",
    "    ).to_netcdf(\n",
    "        f'/glade/scratch/molina/s2s/bootstrap/table4_era5_wr34/z500_era5_boot_{ind + 1}.nc')"
   ]
  },
  {
   "cell_type": "markdown",
   "id": "4f7e822a-8969-471b-8200-11f8b260aa77",
   "metadata": {},
   "source": [
    "## bootstrap for table 4 (cesm)"
   ]
  },
  {
   "cell_type": "code",
   "execution_count": null,
   "id": "492de7f8-ed6c-449e-9dd7-c9344c99800d",
   "metadata": {},
   "outputs": [],
   "source": [
    "all_data0 = z500_standard_cesm.unstack('flat').transpose(\n",
    "    'new', 'lat', 'lon').values\n",
    "tmp_data1 = z500_cesm_tmp_01.values\n",
    "tmp_data2 = z500_cesm_tmp_02.values\n",
    "tmp_data3 = z500_cesm_tmp_03.values\n",
    "tmp_data4 = z500_cesm_tmp_04.values"
   ]
  },
  {
   "cell_type": "code",
   "execution_count": null,
   "id": "22be683a-40c0-42ad-96d2-f5dd63cf0d7c",
   "metadata": {},
   "outputs": [],
   "source": [
    "for ind in range(0, boot_num_iter_):\n",
    "\n",
    "    np.random.seed(ind)\n",
    "    rand_indx1 = [np.random.choice(all_data0.shape[0]) for i in range(\n",
    "        tmp_data1.shape[0])]\n",
    "\n",
    "    np.random.seed(ind + 1)\n",
    "    rand_indx2 = [np.random.choice(all_data0.shape[0]) for i in range(\n",
    "        tmp_data2.shape[0])]\n",
    "\n",
    "    boot_ = stats.pearsonr(\n",
    "        np.mean(all_data0[rand_indx1, ...], axis=0).flatten(),\n",
    "        np.mean(all_data0[rand_indx2, ...], axis=0).flatten()\n",
    "    )[0]\n",
    "\n",
    "    xr.Dataset(\n",
    "        data_vars=dict(\n",
    "            iteration=([\"iters\"], np.array([boot_])),\n",
    "        ),\n",
    "        attrs=dict(description=\"For bootstrap confidence intervals.\"),\n",
    "    ).to_netcdf(\n",
    "        f'/glade/scratch/molina/s2s/bootstrap/table4_cesm_wr12/z500_cesm_boot_{ind + 1}.nc')"
   ]
  },
  {
   "cell_type": "code",
   "execution_count": null,
   "id": "f3c69e17-09cc-46a1-8d0d-199d7f23eda7",
   "metadata": {},
   "outputs": [],
   "source": [
    "for ind in range(0, boot_num_iter_):\n",
    "\n",
    "    np.random.seed(ind)\n",
    "    rand_indx1 = [np.random.choice(all_data0.shape[0]) for i in range(\n",
    "        tmp_data1.shape[0])]\n",
    "\n",
    "    np.random.seed(ind + 1)\n",
    "    rand_indx3 = [np.random.choice(all_data0.shape[0]) for i in range(\n",
    "        tmp_data3.shape[0])]\n",
    "\n",
    "    boot_ = stats.pearsonr(\n",
    "        np.mean(all_data0[rand_indx1, ...], axis=0).flatten(),\n",
    "        np.mean(all_data0[rand_indx3, ...], axis=0).flatten()\n",
    "    )[0]\n",
    "\n",
    "    xr.Dataset(\n",
    "        data_vars=dict(\n",
    "            iteration=([\"iters\"], np.array([boot_])),\n",
    "        ),\n",
    "        attrs=dict(description=\"For bootstrap confidence intervals.\"),\n",
    "    ).to_netcdf(\n",
    "        f'/glade/scratch/molina/s2s/bootstrap/table4_cesm_wr13/z500_cesm_boot_{ind + 1}.nc')"
   ]
  },
  {
   "cell_type": "code",
   "execution_count": null,
   "id": "8cd14a40-7e5e-4567-8daf-09e30874b9e5",
   "metadata": {},
   "outputs": [],
   "source": [
    "for ind in range(0, boot_num_iter_):\n",
    "\n",
    "    np.random.seed(ind)\n",
    "    rand_indx1 = [np.random.choice(all_data0.shape[0]) for i in range(\n",
    "        tmp_data1.shape[0])]\n",
    "\n",
    "    np.random.seed(ind + 1)\n",
    "    rand_indx4 = [np.random.choice(all_data0.shape[0]) for i in range(\n",
    "        tmp_data4.shape[0])]\n",
    "\n",
    "    boot_ = stats.pearsonr(\n",
    "        np.mean(all_data0[rand_indx1, ...], axis=0).flatten(),\n",
    "        np.mean(all_data0[rand_indx4, ...], axis=0).flatten()\n",
    "    )[0]\n",
    "\n",
    "    xr.Dataset(\n",
    "        data_vars=dict(\n",
    "            iteration=([\"iters\"], np.array([boot_])),\n",
    "        ),\n",
    "        attrs=dict(description=\"For bootstrap confidence intervals.\"),\n",
    "    ).to_netcdf(\n",
    "        f'/glade/scratch/molina/s2s/bootstrap/table4_cesm_wr14/z500_cesm_boot_{ind + 1}.nc')"
   ]
  },
  {
   "cell_type": "code",
   "execution_count": null,
   "id": "0fc307fd-2272-4424-91ab-c1f3599f634a",
   "metadata": {},
   "outputs": [],
   "source": [
    "for ind in range(0, boot_num_iter_):\n",
    "\n",
    "    np.random.seed(ind + 1)\n",
    "    rand_indx2 = [np.random.choice(all_data0.shape[0]) for i in range(\n",
    "        tmp_data2.shape[0])]\n",
    "\n",
    "    np.random.seed(ind)\n",
    "    rand_indx3 = [np.random.choice(all_data0.shape[0]) for i in range(\n",
    "        tmp_data3.shape[0])]\n",
    "\n",
    "    boot_ = stats.pearsonr(\n",
    "        np.mean(all_data0[rand_indx2, ...], axis=0).flatten(),\n",
    "        np.mean(all_data0[rand_indx3, ...], axis=0).flatten()\n",
    "    )[0]\n",
    "\n",
    "    xr.Dataset(\n",
    "        data_vars=dict(\n",
    "            iteration=([\"iters\"], np.array([boot_])),\n",
    "        ),\n",
    "        attrs=dict(description=\"For bootstrap confidence intervals.\"),\n",
    "    ).to_netcdf(\n",
    "        f'/glade/scratch/molina/s2s/bootstrap/table4_cesm_wr23/z500_cesm_boot_{ind + 1}.nc')"
   ]
  },
  {
   "cell_type": "code",
   "execution_count": null,
   "id": "8c0b3ead-a774-4969-a782-3f1a0612e742",
   "metadata": {},
   "outputs": [],
   "source": [
    "for ind in range(0, boot_num_iter_):\n",
    "\n",
    "    np.random.seed(ind + 1)\n",
    "    rand_indx2 = [np.random.choice(all_data0.shape[0]) for i in range(\n",
    "        tmp_data2.shape[0])]\n",
    "\n",
    "    np.random.seed(ind)\n",
    "    rand_indx4 = [np.random.choice(all_data0.shape[0]) for i in range(\n",
    "        tmp_data4.shape[0])]\n",
    "\n",
    "    boot_ = stats.pearsonr(\n",
    "        np.mean(all_data0[rand_indx2, ...], axis=0).flatten(),\n",
    "        np.mean(all_data0[rand_indx4, ...], axis=0).flatten()\n",
    "    )[0]\n",
    "\n",
    "    xr.Dataset(\n",
    "        data_vars=dict(\n",
    "            iteration=([\"iters\"], np.array([boot_])),\n",
    "        ),\n",
    "        attrs=dict(description=\"For bootstrap confidence intervals.\"),\n",
    "    ).to_netcdf(\n",
    "        f'/glade/scratch/molina/s2s/bootstrap/table4_cesm_wr24/z500_cesm_boot_{ind + 1}.nc')"
   ]
  },
  {
   "cell_type": "code",
   "execution_count": null,
   "id": "f456cabb-5883-462f-8acc-8d12600ce15d",
   "metadata": {},
   "outputs": [],
   "source": [
    "for ind in range(0, boot_num_iter_):\n",
    "\n",
    "    np.random.seed(ind + 1)\n",
    "    rand_indx3 = [np.random.choice(all_data0.shape[0]) for i in range(\n",
    "        tmp_data3.shape[0])]\n",
    "\n",
    "    np.random.seed(ind)\n",
    "    rand_indx4 = [np.random.choice(all_data0.shape[0]) for i in range(\n",
    "        tmp_data4.shape[0])]\n",
    "\n",
    "    boot_ = stats.pearsonr(\n",
    "        np.mean(all_data0[rand_indx3, ...], axis=0).flatten(),\n",
    "        np.mean(all_data0[rand_indx4, ...], axis=0).flatten()\n",
    "    )[0]\n",
    "\n",
    "    xr.Dataset(\n",
    "        data_vars=dict(\n",
    "            iteration=([\"iters\"], np.array([boot_])),\n",
    "        ),\n",
    "        attrs=dict(description=\"For bootstrap confidence intervals.\"),\n",
    "    ).to_netcdf(\n",
    "        f'/glade/scratch/molina/s2s/bootstrap/table4_cesm_wr34/z500_cesm_boot_{ind + 1}.nc')"
   ]
  },
  {
   "cell_type": "markdown",
   "id": "44d4fdac-503e-4e20-9178-4c5d919f6c62",
   "metadata": {},
   "source": [
    "## compute percentiles"
   ]
  },
  {
   "cell_type": "code",
   "execution_count": 22,
   "id": "ee6f367d-33b3-445d-a3cb-490f42c481f7",
   "metadata": {},
   "outputs": [],
   "source": [
    "lev_1 = 0.025\n",
    "lev_2 = 0.975\n",
    "lev_3 = 0.005\n",
    "lev_4 = 0.995"
   ]
  },
  {
   "cell_type": "code",
   "execution_count": 23,
   "id": "38f3333c-fb19-412c-a4af-e38698fa9787",
   "metadata": {},
   "outputs": [],
   "source": [
    "tmp_era5_wr12 = xr.open_mfdataset(\n",
    "    '/glade/scratch/molina/s2s/bootstrap/table4_era5_wr12/z500_era5_boot_*.nc',\n",
    "    combine='nested', concat_dim='iter').chunk(\n",
    "    dict(iter=-1)).quantile([lev_1, lev_2, lev_3, lev_4], dim='iter', skipna=True)\n",
    "\n",
    "tmp_era5_wr13 = xr.open_mfdataset(\n",
    "    '/glade/scratch/molina/s2s/bootstrap/table4_era5_wr13/z500_era5_boot_*.nc',\n",
    "    combine='nested', concat_dim='iter').chunk(\n",
    "    dict(iter=-1)).quantile([lev_1, lev_2, lev_3, lev_4], dim='iter', skipna=True)\n",
    "\n",
    "tmp_era5_wr14 = xr.open_mfdataset(\n",
    "    '/glade/scratch/molina/s2s/bootstrap/table4_era5_wr14/z500_era5_boot_*.nc',\n",
    "    combine='nested', concat_dim='iter').chunk(\n",
    "    dict(iter=-1)).quantile([lev_1, lev_2, lev_3, lev_4], dim='iter', skipna=True)\n",
    "\n",
    "tmp_era5_wr23 = xr.open_mfdataset(\n",
    "    '/glade/scratch/molina/s2s/bootstrap/table4_era5_wr23/z500_era5_boot_*.nc',\n",
    "    combine='nested', concat_dim='iter').chunk(\n",
    "    dict(iter=-1)).quantile([lev_1, lev_2, lev_3, lev_4], dim='iter', skipna=True)\n",
    "\n",
    "tmp_era5_wr24 = xr.open_mfdataset(\n",
    "    '/glade/scratch/molina/s2s/bootstrap/table4_era5_wr24/z500_era5_boot_*.nc',\n",
    "    combine='nested', concat_dim='iter').chunk(\n",
    "    dict(iter=-1)).quantile([lev_1, lev_2, lev_3, lev_4], dim='iter', skipna=True)\n",
    "\n",
    "tmp_era5_wr34 = xr.open_mfdataset(\n",
    "    '/glade/scratch/molina/s2s/bootstrap/table4_era5_wr34/z500_era5_boot_*.nc',\n",
    "    combine='nested', concat_dim='iter').chunk(\n",
    "    dict(iter=-1)).quantile([lev_1, lev_2, lev_3, lev_4], dim='iter', skipna=True)"
   ]
  },
  {
   "cell_type": "code",
   "execution_count": 24,
   "id": "caa3522f-27eb-4808-83b4-d4a4b88f8421",
   "metadata": {},
   "outputs": [],
   "source": [
    "tmp_cesm_wr12 = xr.open_mfdataset(\n",
    "    '/glade/scratch/molina/s2s/bootstrap/table4_cesm_wr12/z500_cesm_boot_*.nc',\n",
    "    combine='nested', concat_dim='iter').chunk(\n",
    "    dict(iter=-1)).quantile([lev_1, lev_2, lev_3, lev_4], dim='iter', skipna=True)\n",
    "\n",
    "tmp_cesm_wr13 = xr.open_mfdataset(\n",
    "    '/glade/scratch/molina/s2s/bootstrap/table4_cesm_wr13/z500_cesm_boot_*.nc',\n",
    "    combine='nested', concat_dim='iter').chunk(\n",
    "    dict(iter=-1)).quantile([lev_1, lev_2, lev_3, lev_4], dim='iter', skipna=True)\n",
    "\n",
    "tmp_cesm_wr14 = xr.open_mfdataset(\n",
    "    '/glade/scratch/molina/s2s/bootstrap/table4_cesm_wr14/z500_cesm_boot_*.nc',\n",
    "    combine='nested', concat_dim='iter').chunk(\n",
    "    dict(iter=-1)).quantile([lev_1, lev_2, lev_3, lev_4], dim='iter', skipna=True)\n",
    "\n",
    "tmp_cesm_wr23 = xr.open_mfdataset(\n",
    "    '/glade/scratch/molina/s2s/bootstrap/table4_cesm_wr23/z500_cesm_boot_*.nc',\n",
    "    combine='nested', concat_dim='iter').chunk(\n",
    "    dict(iter=-1)).quantile([lev_1, lev_2, lev_3, lev_4], dim='iter', skipna=True)\n",
    "\n",
    "tmp_cesm_wr24 = xr.open_mfdataset(\n",
    "    '/glade/scratch/molina/s2s/bootstrap/table4_cesm_wr24/z500_cesm_boot_*.nc',\n",
    "    combine='nested', concat_dim='iter').chunk(\n",
    "    dict(iter=-1)).quantile([lev_1, lev_2, lev_3, lev_4], dim='iter', skipna=True)\n",
    "\n",
    "tmp_cesm_wr34 = xr.open_mfdataset(\n",
    "    '/glade/scratch/molina/s2s/bootstrap/table4_cesm_wr34/z500_cesm_boot_*.nc',\n",
    "    combine='nested', concat_dim='iter').chunk(\n",
    "    dict(iter=-1)).quantile([lev_1, lev_2, lev_3, lev_4], dim='iter', skipna=True)"
   ]
  },
  {
   "cell_type": "markdown",
   "id": "595b2de6-46e4-4bf7-9c11-380c279e2de7",
   "metadata": {},
   "source": [
    "## data assemble"
   ]
  },
  {
   "cell_type": "code",
   "execution_count": 25,
   "id": "0baef432-cbe8-4cdd-a5b6-28abd10af758",
   "metadata": {},
   "outputs": [],
   "source": [
    "ds_table4 = xr.Dataset(\n",
    "\n",
    "    data_vars=dict(\n",
    "\n",
    "        era5_12=([\"quantile\", \"iters\"], tmp_era5_wr12[\"iteration\"].data),\n",
    "        era5_13=([\"quantile\", \"iters\"], tmp_era5_wr13[\"iteration\"].data),\n",
    "        era5_14=([\"quantile\", \"iters\"], tmp_era5_wr14[\"iteration\"].data),\n",
    "        era5_23=([\"quantile\", \"iters\"], tmp_era5_wr23[\"iteration\"].data),\n",
    "        era5_24=([\"quantile\", \"iters\"], tmp_era5_wr24[\"iteration\"].data),\n",
    "        era5_34=([\"quantile\", \"iters\"], tmp_era5_wr34[\"iteration\"].data),\n",
    "\n",
    "        cesm_12=([\"quantile\", \"iters\"], tmp_cesm_wr12[\"iteration\"].data),\n",
    "        cesm_13=([\"quantile\", \"iters\"], tmp_cesm_wr13[\"iteration\"].data),\n",
    "        cesm_14=([\"quantile\", \"iters\"], tmp_cesm_wr14[\"iteration\"].data),\n",
    "        cesm_23=([\"quantile\", \"iters\"], tmp_cesm_wr23[\"iteration\"].data),\n",
    "        cesm_24=([\"quantile\", \"iters\"], tmp_cesm_wr24[\"iteration\"].data),\n",
    "        cesm_34=([\"quantile\", \"iters\"], tmp_cesm_wr34[\"iteration\"].data),\n",
    "\n",
    "    ),\n",
    "\n",
    "    coords=dict(\n",
    "        quantile=([\"quantile\"], [lev_1, lev_2, lev_3, lev_4]),\n",
    "        iters=([\"iters\"], np.arange(0, 1, 1)),\n",
    "    ),\n",
    "\n",
    "    attrs=dict(description=\"For bootstrap confidence intervals.\"),\n",
    ")"
   ]
  },
  {
   "cell_type": "markdown",
   "id": "28f1a34c-be9e-4fbd-b6f6-2e4838bc3084",
   "metadata": {},
   "source": [
    "## save file"
   ]
  },
  {
   "cell_type": "code",
   "execution_count": 26,
   "id": "01bd005c-de82-46a9-a6e2-7ce5f240ddde",
   "metadata": {},
   "outputs": [],
   "source": [
    "ds_table4.to_netcdf('/glade/scratch/molina/s2s/bootstrap/table4_cesm_sig.nc')"
   ]
  },
  {
   "cell_type": "markdown",
   "id": "29e0e198-3783-444a-8ca0-de40f0630cda",
   "metadata": {},
   "source": [
    "# Table 4"
   ]
  },
  {
   "cell_type": "code",
   "execution_count": 9,
   "id": "330500ff-2fb2-44bc-9384-d7ad7a3bb5ad",
   "metadata": {},
   "outputs": [],
   "source": [
    "ds_table4 = xr.open_dataset(\n",
    "    '/glade/scratch/molina/s2s/bootstrap/table4_cesm_sig.nc')"
   ]
  },
  {
   "cell_type": "code",
   "execution_count": 14,
   "id": "e6b85390-1ff9-49f3-8a47-a5bc2f58f36c",
   "metadata": {},
   "outputs": [
    {
     "name": "stdout",
     "output_type": "stream",
     "text": [
      "-0.3766447998573811 2.5%: [-0.01286973] 97.5%: [0.83883486] 0.5%: [-0.17630252] 99.5%: [0.88093041]\n",
      "-0.5931004999055469 2.5%: [0.00348226] 97.5%: [0.84106366] 0.5%: [-0.12921935] 99.5%: [0.88685887]\n",
      "0.2120332977004566 2.5%: [0.04075366] 97.5%: [0.84885605] 0.5%: [-0.17073519] 99.5%: [0.88546372]\n",
      "0.001096920448808159 2.5%: [0.0478954] 97.5%: [0.85153731] 0.5%: [-0.13087273] 99.5%: [0.89396982]\n",
      "-0.680488619493687 2.5%: [0.10468421] 97.5%: [0.85287131] 0.5%: [-0.14165574] 99.5%: [0.8889681]\n",
      "-0.5267873364990872 2.5%: [0.12243644] 97.5%: [0.86534154] 0.5%: [-0.02626205] 99.5%: [0.8992843]\n"
     ]
    }
   ],
   "source": [
    "print(\n",
    "    stats.pearsonr(\n",
    "        z500_era5_tmp_01.mean('new').values.flatten(),\n",
    "        z500_era5_tmp_02.mean('new').values.flatten()\n",
    "    )[0],\n",
    "    \"2.5%:\", ds_table4['era5_12'].sel(quantile=0.025).values,\n",
    "    \"97.5%:\", ds_table4['era5_12'].sel(quantile=0.975).values,\n",
    "    \"0.5%:\", ds_table4['era5_12'].sel(quantile=0.005).values,\n",
    "    \"99.5%:\", ds_table4['era5_12'].sel(quantile=0.995).values,\n",
    ")\n",
    "\n",
    "print(\n",
    "    stats.pearsonr(\n",
    "        z500_era5_tmp_01.mean('new').values.flatten(),\n",
    "        z500_era5_tmp_03.mean('new').values.flatten()\n",
    "    )[0],\n",
    "    \"2.5%:\", ds_table4['era5_13'].sel(quantile=0.025).values,\n",
    "    \"97.5%:\", ds_table4['era5_13'].sel(quantile=0.975).values,\n",
    "    \"0.5%:\", ds_table4['era5_13'].sel(quantile=0.005).values,\n",
    "    \"99.5%:\", ds_table4['era5_13'].sel(quantile=0.995).values,\n",
    ")\n",
    "\n",
    "print(\n",
    "    stats.pearsonr(\n",
    "        z500_era5_tmp_01.mean('new').values.flatten(),\n",
    "        z500_era5_tmp_04.mean('new').values.flatten()\n",
    "    )[0],\n",
    "    \"2.5%:\", ds_table4['era5_14'].sel(quantile=0.025).values,\n",
    "    \"97.5%:\", ds_table4['era5_14'].sel(quantile=0.975).values,\n",
    "    \"0.5%:\", ds_table4['era5_14'].sel(quantile=0.005).values,\n",
    "    \"99.5%:\", ds_table4['era5_14'].sel(quantile=0.995).values,\n",
    ")\n",
    "\n",
    "print(\n",
    "    stats.pearsonr(\n",
    "        z500_era5_tmp_02.mean('new').values.flatten(),\n",
    "        z500_era5_tmp_03.mean('new').values.flatten()\n",
    "    )[0],\n",
    "    \"2.5%:\", ds_table4['era5_23'].sel(quantile=0.025).values,\n",
    "    \"97.5%:\", ds_table4['era5_23'].sel(quantile=0.975).values,\n",
    "    \"0.5%:\", ds_table4['era5_23'].sel(quantile=0.005).values,\n",
    "    \"99.5%:\", ds_table4['era5_23'].sel(quantile=0.995).values,\n",
    ")\n",
    "\n",
    "print(\n",
    "    stats.pearsonr(\n",
    "        z500_era5_tmp_02.mean('new').values.flatten(),\n",
    "        z500_era5_tmp_04.mean('new').values.flatten()\n",
    "    )[0],\n",
    "    \"2.5%:\", ds_table4['era5_24'].sel(quantile=0.025).values,\n",
    "    \"97.5%:\", ds_table4['era5_24'].sel(quantile=0.975).values,\n",
    "    \"0.5%:\", ds_table4['era5_24'].sel(quantile=0.005).values,\n",
    "    \"99.5%:\", ds_table4['era5_24'].sel(quantile=0.995).values,\n",
    ")\n",
    "\n",
    "print(\n",
    "    stats.pearsonr(\n",
    "        z500_era5_tmp_03.mean('new').values.flatten(),\n",
    "        z500_era5_tmp_04.mean('new').values.flatten()\n",
    "    )[0],\n",
    "    \"2.5%:\", ds_table4['era5_34'].sel(quantile=0.025).values,\n",
    "    \"97.5%:\", ds_table4['era5_34'].sel(quantile=0.975).values,\n",
    "    \"0.5%:\", ds_table4['era5_34'].sel(quantile=0.005).values,\n",
    "    \"99.5%:\", ds_table4['era5_34'].sel(quantile=0.995).values,\n",
    ")"
   ]
  },
  {
   "cell_type": "markdown",
   "id": "f50c6bd0-9db7-4d6d-afc2-cdea9bf89886",
   "metadata": {},
   "source": [
    "# Table 4"
   ]
  },
  {
   "cell_type": "code",
   "execution_count": 15,
   "id": "10f66407-9fad-430a-881e-b97d6ed58a20",
   "metadata": {},
   "outputs": [
    {
     "name": "stdout",
     "output_type": "stream",
     "text": [
      "-0.44678411692678993 2.5%: [0.47183606] 97.5%: [0.9387222] 0.5%: [0.34460538] 99.5%: [0.95535471]\n",
      "-0.5827193144694967 2.5%: [0.55327057] 97.5%: [0.95069667] 0.5%: [0.43270438] 99.5%: [0.96635406]\n",
      "0.3703679912538275 2.5%: [0.56172097] 97.5%: [0.95287856] 0.5%: [0.44123668] 99.5%: [0.96412097]\n",
      "0.000705497963714943 2.5%: [0.62019315] 97.5%: [0.9524187] 0.5%: [0.50647252] 99.5%: [0.96010411]\n",
      "-0.7080287639512566 2.5%: [0.6187312] 97.5%: [0.9582789] 0.5%: [0.52534966] 99.5%: [0.96854267]\n",
      "-0.5454904719272486 2.5%: [0.68430026] 97.5%: [0.96684872] 0.5%: [0.6106101] 99.5%: [0.97458403]\n"
     ]
    }
   ],
   "source": [
    "print(\n",
    "    stats.pearsonr(\n",
    "        z500_cesm_tmp_01.mean('new').values.flatten(),\n",
    "        z500_cesm_tmp_02.mean('new').values.flatten()\n",
    "    )[0],\n",
    "    \"2.5%:\", ds_table4['cesm_12'].sel(quantile=0.025).values,\n",
    "    \"97.5%:\", ds_table4['cesm_12'].sel(quantile=0.975).values,\n",
    "    \"0.5%:\", ds_table4['cesm_12'].sel(quantile=0.005).values,\n",
    "    \"99.5%:\", ds_table4['cesm_12'].sel(quantile=0.995).values,\n",
    ")\n",
    "\n",
    "print(\n",
    "    stats.pearsonr(\n",
    "        z500_cesm_tmp_01.mean('new').values.flatten(),\n",
    "        z500_cesm_tmp_03.mean('new').values.flatten()\n",
    "    )[0],\n",
    "    \"2.5%:\", ds_table4['cesm_13'].sel(quantile=0.025).values,\n",
    "    \"97.5%:\", ds_table4['cesm_13'].sel(quantile=0.975).values,\n",
    "    \"0.5%:\", ds_table4['cesm_13'].sel(quantile=0.005).values,\n",
    "    \"99.5%:\", ds_table4['cesm_13'].sel(quantile=0.995).values,\n",
    ")\n",
    "\n",
    "print(\n",
    "    stats.pearsonr(\n",
    "        z500_cesm_tmp_01.mean('new').values.flatten(),\n",
    "        z500_cesm_tmp_04.mean('new').values.flatten()\n",
    "    )[0],\n",
    "    \"2.5%:\", ds_table4['cesm_14'].sel(quantile=0.025).values,\n",
    "    \"97.5%:\", ds_table4['cesm_14'].sel(quantile=0.975).values,\n",
    "    \"0.5%:\", ds_table4['cesm_14'].sel(quantile=0.005).values,\n",
    "    \"99.5%:\", ds_table4['cesm_14'].sel(quantile=0.995).values,\n",
    ")\n",
    "\n",
    "print(\n",
    "    stats.pearsonr(\n",
    "        z500_cesm_tmp_02.mean('new').values.flatten(),\n",
    "        z500_cesm_tmp_03.mean('new').values.flatten()\n",
    "    )[0],\n",
    "    \"2.5%:\", ds_table4['cesm_23'].sel(quantile=0.025).values,\n",
    "    \"97.5%:\", ds_table4['cesm_23'].sel(quantile=0.975).values,\n",
    "    \"0.5%:\", ds_table4['cesm_23'].sel(quantile=0.005).values,\n",
    "    \"99.5%:\", ds_table4['cesm_23'].sel(quantile=0.995).values,\n",
    ")\n",
    "\n",
    "print(\n",
    "    stats.pearsonr(\n",
    "        z500_cesm_tmp_02.mean('new').values.flatten(),\n",
    "        z500_cesm_tmp_04.mean('new').values.flatten()\n",
    "    )[0],\n",
    "    \"2.5%:\", ds_table4['cesm_24'].sel(quantile=0.025).values,\n",
    "    \"97.5%:\", ds_table4['cesm_24'].sel(quantile=0.975).values,\n",
    "    \"0.5%:\", ds_table4['cesm_24'].sel(quantile=0.005).values,\n",
    "    \"99.5%:\", ds_table4['cesm_24'].sel(quantile=0.995).values,\n",
    ")\n",
    "\n",
    "print(\n",
    "    stats.pearsonr(\n",
    "        z500_cesm_tmp_03.mean('new').values.flatten(),\n",
    "        z500_cesm_tmp_04.mean('new').values.flatten()\n",
    "    )[0],\n",
    "    \"2.5%:\", ds_table4['cesm_34'].sel(quantile=0.025).values,\n",
    "    \"97.5%:\", ds_table4['cesm_34'].sel(quantile=0.975).values,\n",
    "    \"0.5%:\", ds_table4['cesm_34'].sel(quantile=0.005).values,\n",
    "    \"99.5%:\", ds_table4['cesm_34'].sel(quantile=0.995).values,\n",
    ")"
   ]
  },
  {
   "cell_type": "code",
   "execution_count": null,
   "id": "15d5e168-b7f2-405e-ab2e-e05d4b3a7915",
   "metadata": {},
   "outputs": [],
   "source": []
  }
 ],
 "metadata": {
  "kernelspec": {
   "display_name": "Python [conda env:miniconda3-myenv-tfgpu]",
   "language": "python",
   "name": "conda-env-miniconda3-myenv-tfgpu-py"
  },
  "language_info": {
   "codemirror_mode": {
    "name": "ipython",
    "version": 3
   },
   "file_extension": ".py",
   "mimetype": "text/x-python",
   "name": "python",
   "nbconvert_exporter": "python",
   "pygments_lexer": "ipython3",
   "version": "3.8.10"
  }
 },
 "nbformat": 4,
 "nbformat_minor": 5
}
