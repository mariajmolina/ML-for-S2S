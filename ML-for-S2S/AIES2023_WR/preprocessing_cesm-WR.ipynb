{
 "cells": [
  {
   "cell_type": "code",
   "execution_count": 1,
   "metadata": {},
   "outputs": [],
   "source": [
    "import fnmatch\n",
    "import os\n",
    "import datetime\n",
    "import numpy as np\n",
    "import pandas as pd\n",
    "import xarray as xr\n",
    "from itertools import product\n",
    "from config import parent_directory, start_date, end_date, variable_folder, starts, author"
   ]
  },
  {
   "cell_type": "code",
   "execution_count": 2,
   "metadata": {},
   "outputs": [],
   "source": [
    "from preprocessing import create_cesm2_folders, cesm2_filelist, create_cesm2_files\n",
    "from preprocessing import cesm2_hindcast_climatology, cesm2_hindcast_anomalies, cesm2_total_ensemble"
   ]
  },
  {
   "cell_type": "code",
   "execution_count": 3,
   "metadata": {},
   "outputs": [],
   "source": [
    "var = 'zg_500'\n",
    "filelist = cesm2_filelist(variable=var, \n",
    "                          parent_directory=parent_directory,\n",
    "                          ensemble=['00','01','02','03','04','05','06','07','08','09','10'])"
   ]
  },
  {
   "cell_type": "code",
   "execution_count": 5,
   "metadata": {
    "collapsed": true,
    "jupyter": {
     "outputs_hidden": true
    },
    "tags": []
   },
   "outputs": [
    {
     "name": "stderr",
     "output_type": "stream",
     "text": [
      "ERROR:root:Internal Python error in the inspect module.\n",
      "Below is the traceback from this internal error.\n",
      "\n"
     ]
    },
    {
     "name": "stdout",
     "output_type": "stream",
     "text": [
      "Traceback (most recent call last):\n",
      "  File \"/glade/work/molina/miniconda3/envs/myenv-tfgpu/lib/python3.8/site-packages/IPython/core/interactiveshell.py\", line 3441, in run_code\n",
      "    exec(code_obj, self.user_global_ns, self.user_ns)\n",
      "  File \"/glade/scratch/molina/ipykernel_208269/1032798084.py\", line 1, in <module>\n",
      "    cesm2_hindcast_climatology(filelist, variable=var, save=True, author=author, parent_directory=parent_directory)\n",
      "  File \"/glade/u/home/molina/python_scripts/ML-for-S2S/ML-for-S2S/preprocessing.py\", line 338, in cesm2_hindcast_climatology\n",
      "    var = xr.open_dataset(fil)[variable].transpose('lon','lat','time').values # (lon,lat,lead); load file and grab variable\n",
      "  File \"/glade/work/molina/miniconda3/envs/myenv-tfgpu/lib/python3.8/site-packages/xarray/core/dataarray.py\", line 651, in values\n",
      "    return self.variable.values\n",
      "  File \"/glade/work/molina/miniconda3/envs/myenv-tfgpu/lib/python3.8/site-packages/xarray/core/variable.py\", line 517, in values\n",
      "    return _as_array_or_item(self._data)\n",
      "  File \"/glade/work/molina/miniconda3/envs/myenv-tfgpu/lib/python3.8/site-packages/xarray/core/variable.py\", line 259, in _as_array_or_item\n",
      "    data = np.asarray(data)\n",
      "  File \"/glade/work/molina/miniconda3/envs/myenv-tfgpu/lib/python3.8/site-packages/xarray/core/indexing.py\", line 471, in __array__\n",
      "    return np.asarray(self.array[self.key], dtype=None)\n",
      "  File \"/glade/work/molina/miniconda3/envs/myenv-tfgpu/lib/python3.8/site-packages/xarray/coding/variables.py\", line 70, in __array__\n",
      "    return self.func(self.array)\n",
      "  File \"/glade/work/molina/miniconda3/envs/myenv-tfgpu/lib/python3.8/site-packages/xarray/coding/variables.py\", line 137, in _apply_mask\n",
      "    data = np.asarray(data, dtype=dtype)\n",
      "  File \"/glade/work/molina/miniconda3/envs/myenv-tfgpu/lib/python3.8/site-packages/xarray/core/indexing.py\", line 471, in __array__\n",
      "    return np.asarray(self.array[self.key], dtype=None)\n",
      "  File \"/glade/work/molina/miniconda3/envs/myenv-tfgpu/lib/python3.8/site-packages/xarray/backends/netCDF4_.py\", line 91, in __getitem__\n",
      "    return indexing.explicit_indexing_adapter(\n",
      "  File \"/glade/work/molina/miniconda3/envs/myenv-tfgpu/lib/python3.8/site-packages/xarray/core/indexing.py\", line 713, in explicit_indexing_adapter\n",
      "    result = NumpyIndexingAdapter(np.asarray(result))[numpy_indices]\n",
      "  File \"/glade/work/molina/miniconda3/envs/myenv-tfgpu/lib/python3.8/site-packages/xarray/core/indexing.py\", line 1159, in __getitem__\n",
      "    return array[key]\n",
      "  File \"/glade/work/molina/miniconda3/envs/myenv-tfgpu/lib/python3.8/site-packages/xarray/core/nputils.py\", line 126, in __getitem__\n",
      "    return np.moveaxis(self._array[key], mixed_positions, vindex_positions)\n",
      "KeyboardInterrupt\n",
      "\n",
      "During handling of the above exception, another exception occurred:\n",
      "\n",
      "Traceback (most recent call last):\n",
      "  File \"/glade/work/molina/miniconda3/envs/myenv-tfgpu/lib/python3.8/site-packages/IPython/core/interactiveshell.py\", line 2061, in showtraceback\n",
      "    stb = value._render_traceback_()\n",
      "AttributeError: 'KeyboardInterrupt' object has no attribute '_render_traceback_'\n",
      "\n",
      "During handling of the above exception, another exception occurred:\n",
      "\n",
      "Traceback (most recent call last):\n",
      "  File \"/glade/work/molina/miniconda3/envs/myenv-tfgpu/lib/python3.8/site-packages/IPython/core/ultratb.py\", line 1101, in get_records\n",
      "    return _fixed_getinnerframes(etb, number_of_lines_of_context, tb_offset)\n",
      "  File \"/glade/work/molina/miniconda3/envs/myenv-tfgpu/lib/python3.8/site-packages/IPython/core/ultratb.py\", line 248, in wrapped\n",
      "    return f(*args, **kwargs)\n",
      "  File \"/glade/work/molina/miniconda3/envs/myenv-tfgpu/lib/python3.8/site-packages/IPython/core/ultratb.py\", line 281, in _fixed_getinnerframes\n",
      "    records = fix_frame_records_filenames(inspect.getinnerframes(etb, context))\n",
      "  File \"/glade/work/molina/miniconda3/envs/myenv-tfgpu/lib/python3.8/inspect.py\", line 1515, in getinnerframes\n",
      "    frameinfo = (tb.tb_frame,) + getframeinfo(tb, context)\n",
      "  File \"/glade/work/molina/miniconda3/envs/myenv-tfgpu/lib/python3.8/inspect.py\", line 1473, in getframeinfo\n",
      "    filename = getsourcefile(frame) or getfile(frame)\n",
      "  File \"/glade/work/molina/miniconda3/envs/myenv-tfgpu/lib/python3.8/inspect.py\", line 708, in getsourcefile\n",
      "    if getattr(getmodule(object, filename), '__loader__', None) is not None:\n",
      "  File \"/glade/work/molina/miniconda3/envs/myenv-tfgpu/lib/python3.8/inspect.py\", line 751, in getmodule\n",
      "    f = getabsfile(module)\n",
      "  File \"/glade/work/molina/miniconda3/envs/myenv-tfgpu/lib/python3.8/inspect.py\", line 720, in getabsfile\n",
      "    _filename = getsourcefile(object) or getfile(object)\n",
      "  File \"/glade/work/molina/miniconda3/envs/myenv-tfgpu/lib/python3.8/inspect.py\", line 705, in getsourcefile\n",
      "    if os.path.exists(filename):\n",
      "  File \"/glade/work/molina/miniconda3/envs/myenv-tfgpu/lib/python3.8/genericpath.py\", line 19, in exists\n",
      "    os.stat(path)\n",
      "KeyboardInterrupt\n"
     ]
    },
    {
     "ename": "TypeError",
     "evalue": "object of type 'NoneType' has no len()",
     "output_type": "error",
     "traceback": [
      "\u001b[0;31m---------------------------------------------------------------------------\u001b[0m",
      "\u001b[0;31mKeyboardInterrupt\u001b[0m                         Traceback (most recent call last)",
      "    \u001b[0;31m[... skipping hidden 1 frame]\u001b[0m\n",
      "\u001b[0;32m/glade/scratch/molina/ipykernel_208269/1032798084.py\u001b[0m in \u001b[0;36m<module>\u001b[0;34m\u001b[0m\n\u001b[0;32m----> 1\u001b[0;31m \u001b[0mcesm2_hindcast_climatology\u001b[0m\u001b[0;34m(\u001b[0m\u001b[0mfilelist\u001b[0m\u001b[0;34m,\u001b[0m \u001b[0mvariable\u001b[0m\u001b[0;34m=\u001b[0m\u001b[0mvar\u001b[0m\u001b[0;34m,\u001b[0m \u001b[0msave\u001b[0m\u001b[0;34m=\u001b[0m\u001b[0;32mTrue\u001b[0m\u001b[0;34m,\u001b[0m \u001b[0mauthor\u001b[0m\u001b[0;34m=\u001b[0m\u001b[0mauthor\u001b[0m\u001b[0;34m,\u001b[0m \u001b[0mparent_directory\u001b[0m\u001b[0;34m=\u001b[0m\u001b[0mparent_directory\u001b[0m\u001b[0;34m)\u001b[0m\u001b[0;34m\u001b[0m\u001b[0;34m\u001b[0m\u001b[0m\n\u001b[0m\u001b[1;32m      2\u001b[0m \u001b[0mcesm2_hindcast_anomalies\u001b[0m\u001b[0;34m(\u001b[0m\u001b[0mfilelist\u001b[0m\u001b[0;34m,\u001b[0m \u001b[0mvariable\u001b[0m\u001b[0;34m=\u001b[0m\u001b[0mvar\u001b[0m\u001b[0;34m,\u001b[0m \u001b[0mparent_directory\u001b[0m\u001b[0;34m=\u001b[0m\u001b[0mparent_directory\u001b[0m\u001b[0;34m,\u001b[0m \u001b[0msave\u001b[0m\u001b[0;34m=\u001b[0m\u001b[0;32mTrue\u001b[0m\u001b[0;34m,\u001b[0m \u001b[0mauthor\u001b[0m\u001b[0;34m=\u001b[0m\u001b[0mauthor\u001b[0m\u001b[0;34m)\u001b[0m\u001b[0;34m\u001b[0m\u001b[0;34m\u001b[0m\u001b[0m\n",
      "\u001b[0;32m~/python_scripts/ML-for-S2S/ML-for-S2S/preprocessing.py\u001b[0m in \u001b[0;36mcesm2_hindcast_climatology\u001b[0;34m(filelist, variable, save, author, parent_directory)\u001b[0m\n\u001b[1;32m    337\u001b[0m \u001b[0;34m\u001b[0m\u001b[0m\n\u001b[0;32m--> 338\u001b[0;31m         \u001b[0mvar\u001b[0m \u001b[0;34m=\u001b[0m \u001b[0mxr\u001b[0m\u001b[0;34m.\u001b[0m\u001b[0mopen_dataset\u001b[0m\u001b[0;34m(\u001b[0m\u001b[0mfil\u001b[0m\u001b[0;34m)\u001b[0m\u001b[0;34m[\u001b[0m\u001b[0mvariable\u001b[0m\u001b[0;34m]\u001b[0m\u001b[0;34m.\u001b[0m\u001b[0mtranspose\u001b[0m\u001b[0;34m(\u001b[0m\u001b[0;34m'lon'\u001b[0m\u001b[0;34m,\u001b[0m\u001b[0;34m'lat'\u001b[0m\u001b[0;34m,\u001b[0m\u001b[0;34m'time'\u001b[0m\u001b[0;34m)\u001b[0m\u001b[0;34m.\u001b[0m\u001b[0mvalues\u001b[0m \u001b[0;31m# (lon,lat,lead); load file and grab variable\u001b[0m\u001b[0;34m\u001b[0m\u001b[0;34m\u001b[0m\u001b[0m\n\u001b[0m\u001b[1;32m    339\u001b[0m \u001b[0;34m\u001b[0m\u001b[0m\n",
      "\u001b[0;32m/glade/work/molina/miniconda3/envs/myenv-tfgpu/lib/python3.8/site-packages/xarray/core/dataarray.py\u001b[0m in \u001b[0;36mvalues\u001b[0;34m(self)\u001b[0m\n\u001b[1;32m    650\u001b[0m         \"\"\"\n\u001b[0;32m--> 651\u001b[0;31m         \u001b[0;32mreturn\u001b[0m \u001b[0mself\u001b[0m\u001b[0;34m.\u001b[0m\u001b[0mvariable\u001b[0m\u001b[0;34m.\u001b[0m\u001b[0mvalues\u001b[0m\u001b[0;34m\u001b[0m\u001b[0;34m\u001b[0m\u001b[0m\n\u001b[0m\u001b[1;32m    652\u001b[0m \u001b[0;34m\u001b[0m\u001b[0m\n",
      "\u001b[0;32m/glade/work/molina/miniconda3/envs/myenv-tfgpu/lib/python3.8/site-packages/xarray/core/variable.py\u001b[0m in \u001b[0;36mvalues\u001b[0;34m(self)\u001b[0m\n\u001b[1;32m    516\u001b[0m         \u001b[0;34m\"\"\"The variable's data as a numpy.ndarray\"\"\"\u001b[0m\u001b[0;34m\u001b[0m\u001b[0;34m\u001b[0m\u001b[0m\n\u001b[0;32m--> 517\u001b[0;31m         \u001b[0;32mreturn\u001b[0m \u001b[0m_as_array_or_item\u001b[0m\u001b[0;34m(\u001b[0m\u001b[0mself\u001b[0m\u001b[0;34m.\u001b[0m\u001b[0m_data\u001b[0m\u001b[0;34m)\u001b[0m\u001b[0;34m\u001b[0m\u001b[0;34m\u001b[0m\u001b[0m\n\u001b[0m\u001b[1;32m    518\u001b[0m \u001b[0;34m\u001b[0m\u001b[0m\n",
      "\u001b[0;32m/glade/work/molina/miniconda3/envs/myenv-tfgpu/lib/python3.8/site-packages/xarray/core/variable.py\u001b[0m in \u001b[0;36m_as_array_or_item\u001b[0;34m(data)\u001b[0m\n\u001b[1;32m    258\u001b[0m     \"\"\"\n\u001b[0;32m--> 259\u001b[0;31m     \u001b[0mdata\u001b[0m \u001b[0;34m=\u001b[0m \u001b[0mnp\u001b[0m\u001b[0;34m.\u001b[0m\u001b[0masarray\u001b[0m\u001b[0;34m(\u001b[0m\u001b[0mdata\u001b[0m\u001b[0;34m)\u001b[0m\u001b[0;34m\u001b[0m\u001b[0;34m\u001b[0m\u001b[0m\n\u001b[0m\u001b[1;32m    260\u001b[0m     \u001b[0;32mif\u001b[0m \u001b[0mdata\u001b[0m\u001b[0;34m.\u001b[0m\u001b[0mndim\u001b[0m \u001b[0;34m==\u001b[0m \u001b[0;36m0\u001b[0m\u001b[0;34m:\u001b[0m\u001b[0;34m\u001b[0m\u001b[0;34m\u001b[0m\u001b[0m\n",
      "\u001b[0;32m/glade/work/molina/miniconda3/envs/myenv-tfgpu/lib/python3.8/site-packages/xarray/core/indexing.py\u001b[0m in \u001b[0;36m__array__\u001b[0;34m(self, dtype)\u001b[0m\n\u001b[1;32m    470\u001b[0m     \u001b[0;32mdef\u001b[0m \u001b[0m__array__\u001b[0m\u001b[0;34m(\u001b[0m\u001b[0mself\u001b[0m\u001b[0;34m,\u001b[0m \u001b[0mdtype\u001b[0m\u001b[0;34m=\u001b[0m\u001b[0;32mNone\u001b[0m\u001b[0;34m)\u001b[0m\u001b[0;34m:\u001b[0m\u001b[0;34m\u001b[0m\u001b[0;34m\u001b[0m\u001b[0m\n\u001b[0;32m--> 471\u001b[0;31m         \u001b[0;32mreturn\u001b[0m \u001b[0mnp\u001b[0m\u001b[0;34m.\u001b[0m\u001b[0masarray\u001b[0m\u001b[0;34m(\u001b[0m\u001b[0mself\u001b[0m\u001b[0;34m.\u001b[0m\u001b[0marray\u001b[0m\u001b[0;34m[\u001b[0m\u001b[0mself\u001b[0m\u001b[0;34m.\u001b[0m\u001b[0mkey\u001b[0m\u001b[0;34m]\u001b[0m\u001b[0;34m,\u001b[0m \u001b[0mdtype\u001b[0m\u001b[0;34m=\u001b[0m\u001b[0;32mNone\u001b[0m\u001b[0;34m)\u001b[0m\u001b[0;34m\u001b[0m\u001b[0;34m\u001b[0m\u001b[0m\n\u001b[0m\u001b[1;32m    472\u001b[0m \u001b[0;34m\u001b[0m\u001b[0m\n",
      "\u001b[0;32m/glade/work/molina/miniconda3/envs/myenv-tfgpu/lib/python3.8/site-packages/xarray/coding/variables.py\u001b[0m in \u001b[0;36m__array__\u001b[0;34m(self, dtype)\u001b[0m\n\u001b[1;32m     69\u001b[0m     \u001b[0;32mdef\u001b[0m \u001b[0m__array__\u001b[0m\u001b[0;34m(\u001b[0m\u001b[0mself\u001b[0m\u001b[0;34m,\u001b[0m \u001b[0mdtype\u001b[0m\u001b[0;34m=\u001b[0m\u001b[0;32mNone\u001b[0m\u001b[0;34m)\u001b[0m\u001b[0;34m:\u001b[0m\u001b[0;34m\u001b[0m\u001b[0;34m\u001b[0m\u001b[0m\n\u001b[0;32m---> 70\u001b[0;31m         \u001b[0;32mreturn\u001b[0m \u001b[0mself\u001b[0m\u001b[0;34m.\u001b[0m\u001b[0mfunc\u001b[0m\u001b[0;34m(\u001b[0m\u001b[0mself\u001b[0m\u001b[0;34m.\u001b[0m\u001b[0marray\u001b[0m\u001b[0;34m)\u001b[0m\u001b[0;34m\u001b[0m\u001b[0;34m\u001b[0m\u001b[0m\n\u001b[0m\u001b[1;32m     71\u001b[0m \u001b[0;34m\u001b[0m\u001b[0m\n",
      "\u001b[0;32m/glade/work/molina/miniconda3/envs/myenv-tfgpu/lib/python3.8/site-packages/xarray/coding/variables.py\u001b[0m in \u001b[0;36m_apply_mask\u001b[0;34m(data, encoded_fill_values, decoded_fill_value, dtype)\u001b[0m\n\u001b[1;32m    136\u001b[0m     \u001b[0;34m\"\"\"Mask all matching values in a NumPy arrays.\"\"\"\u001b[0m\u001b[0;34m\u001b[0m\u001b[0;34m\u001b[0m\u001b[0m\n\u001b[0;32m--> 137\u001b[0;31m     \u001b[0mdata\u001b[0m \u001b[0;34m=\u001b[0m \u001b[0mnp\u001b[0m\u001b[0;34m.\u001b[0m\u001b[0masarray\u001b[0m\u001b[0;34m(\u001b[0m\u001b[0mdata\u001b[0m\u001b[0;34m,\u001b[0m \u001b[0mdtype\u001b[0m\u001b[0;34m=\u001b[0m\u001b[0mdtype\u001b[0m\u001b[0;34m)\u001b[0m\u001b[0;34m\u001b[0m\u001b[0;34m\u001b[0m\u001b[0m\n\u001b[0m\u001b[1;32m    138\u001b[0m     \u001b[0mcondition\u001b[0m \u001b[0;34m=\u001b[0m \u001b[0;32mFalse\u001b[0m\u001b[0;34m\u001b[0m\u001b[0;34m\u001b[0m\u001b[0m\n",
      "\u001b[0;32m/glade/work/molina/miniconda3/envs/myenv-tfgpu/lib/python3.8/site-packages/xarray/core/indexing.py\u001b[0m in \u001b[0;36m__array__\u001b[0;34m(self, dtype)\u001b[0m\n\u001b[1;32m    470\u001b[0m     \u001b[0;32mdef\u001b[0m \u001b[0m__array__\u001b[0m\u001b[0;34m(\u001b[0m\u001b[0mself\u001b[0m\u001b[0;34m,\u001b[0m \u001b[0mdtype\u001b[0m\u001b[0;34m=\u001b[0m\u001b[0;32mNone\u001b[0m\u001b[0;34m)\u001b[0m\u001b[0;34m:\u001b[0m\u001b[0;34m\u001b[0m\u001b[0;34m\u001b[0m\u001b[0m\n\u001b[0;32m--> 471\u001b[0;31m         \u001b[0;32mreturn\u001b[0m \u001b[0mnp\u001b[0m\u001b[0;34m.\u001b[0m\u001b[0masarray\u001b[0m\u001b[0;34m(\u001b[0m\u001b[0mself\u001b[0m\u001b[0;34m.\u001b[0m\u001b[0marray\u001b[0m\u001b[0;34m[\u001b[0m\u001b[0mself\u001b[0m\u001b[0;34m.\u001b[0m\u001b[0mkey\u001b[0m\u001b[0;34m]\u001b[0m\u001b[0;34m,\u001b[0m \u001b[0mdtype\u001b[0m\u001b[0;34m=\u001b[0m\u001b[0;32mNone\u001b[0m\u001b[0;34m)\u001b[0m\u001b[0;34m\u001b[0m\u001b[0;34m\u001b[0m\u001b[0m\n\u001b[0m\u001b[1;32m    472\u001b[0m \u001b[0;34m\u001b[0m\u001b[0m\n",
      "\u001b[0;32m/glade/work/molina/miniconda3/envs/myenv-tfgpu/lib/python3.8/site-packages/xarray/backends/netCDF4_.py\u001b[0m in \u001b[0;36m__getitem__\u001b[0;34m(self, key)\u001b[0m\n\u001b[1;32m     90\u001b[0m     \u001b[0;32mdef\u001b[0m \u001b[0m__getitem__\u001b[0m\u001b[0;34m(\u001b[0m\u001b[0mself\u001b[0m\u001b[0;34m,\u001b[0m \u001b[0mkey\u001b[0m\u001b[0;34m)\u001b[0m\u001b[0;34m:\u001b[0m\u001b[0;34m\u001b[0m\u001b[0;34m\u001b[0m\u001b[0m\n\u001b[0;32m---> 91\u001b[0;31m         return indexing.explicit_indexing_adapter(\n\u001b[0m\u001b[1;32m     92\u001b[0m             \u001b[0mkey\u001b[0m\u001b[0;34m,\u001b[0m \u001b[0mself\u001b[0m\u001b[0;34m.\u001b[0m\u001b[0mshape\u001b[0m\u001b[0;34m,\u001b[0m \u001b[0mindexing\u001b[0m\u001b[0;34m.\u001b[0m\u001b[0mIndexingSupport\u001b[0m\u001b[0;34m.\u001b[0m\u001b[0mOUTER\u001b[0m\u001b[0;34m,\u001b[0m \u001b[0mself\u001b[0m\u001b[0;34m.\u001b[0m\u001b[0m_getitem\u001b[0m\u001b[0;34m\u001b[0m\u001b[0;34m\u001b[0m\u001b[0m\n",
      "\u001b[0;32m/glade/work/molina/miniconda3/envs/myenv-tfgpu/lib/python3.8/site-packages/xarray/core/indexing.py\u001b[0m in \u001b[0;36mexplicit_indexing_adapter\u001b[0;34m(key, shape, indexing_support, raw_indexing_method)\u001b[0m\n\u001b[1;32m    712\u001b[0m         \u001b[0;31m# index the loaded np.ndarray\u001b[0m\u001b[0;34m\u001b[0m\u001b[0;34m\u001b[0m\u001b[0;34m\u001b[0m\u001b[0m\n\u001b[0;32m--> 713\u001b[0;31m         \u001b[0mresult\u001b[0m \u001b[0;34m=\u001b[0m \u001b[0mNumpyIndexingAdapter\u001b[0m\u001b[0;34m(\u001b[0m\u001b[0mnp\u001b[0m\u001b[0;34m.\u001b[0m\u001b[0masarray\u001b[0m\u001b[0;34m(\u001b[0m\u001b[0mresult\u001b[0m\u001b[0;34m)\u001b[0m\u001b[0;34m)\u001b[0m\u001b[0;34m[\u001b[0m\u001b[0mnumpy_indices\u001b[0m\u001b[0;34m]\u001b[0m\u001b[0;34m\u001b[0m\u001b[0;34m\u001b[0m\u001b[0m\n\u001b[0m\u001b[1;32m    714\u001b[0m     \u001b[0;32mreturn\u001b[0m \u001b[0mresult\u001b[0m\u001b[0;34m\u001b[0m\u001b[0;34m\u001b[0m\u001b[0m\n",
      "\u001b[0;32m/glade/work/molina/miniconda3/envs/myenv-tfgpu/lib/python3.8/site-packages/xarray/core/indexing.py\u001b[0m in \u001b[0;36m__getitem__\u001b[0;34m(self, key)\u001b[0m\n\u001b[1;32m   1158\u001b[0m         \u001b[0marray\u001b[0m\u001b[0;34m,\u001b[0m \u001b[0mkey\u001b[0m \u001b[0;34m=\u001b[0m \u001b[0mself\u001b[0m\u001b[0;34m.\u001b[0m\u001b[0m_indexing_array_and_key\u001b[0m\u001b[0;34m(\u001b[0m\u001b[0mkey\u001b[0m\u001b[0;34m)\u001b[0m\u001b[0;34m\u001b[0m\u001b[0;34m\u001b[0m\u001b[0m\n\u001b[0;32m-> 1159\u001b[0;31m         \u001b[0;32mreturn\u001b[0m \u001b[0marray\u001b[0m\u001b[0;34m[\u001b[0m\u001b[0mkey\u001b[0m\u001b[0;34m]\u001b[0m\u001b[0;34m\u001b[0m\u001b[0;34m\u001b[0m\u001b[0m\n\u001b[0m\u001b[1;32m   1160\u001b[0m \u001b[0;34m\u001b[0m\u001b[0m\n",
      "\u001b[0;32m/glade/work/molina/miniconda3/envs/myenv-tfgpu/lib/python3.8/site-packages/xarray/core/nputils.py\u001b[0m in \u001b[0;36m__getitem__\u001b[0;34m(self, key)\u001b[0m\n\u001b[1;32m    125\u001b[0m         \u001b[0mmixed_positions\u001b[0m\u001b[0;34m,\u001b[0m \u001b[0mvindex_positions\u001b[0m \u001b[0;34m=\u001b[0m \u001b[0m_advanced_indexer_subspaces\u001b[0m\u001b[0;34m(\u001b[0m\u001b[0mkey\u001b[0m\u001b[0;34m)\u001b[0m\u001b[0;34m\u001b[0m\u001b[0;34m\u001b[0m\u001b[0m\n\u001b[0;32m--> 126\u001b[0;31m         \u001b[0;32mreturn\u001b[0m \u001b[0mnp\u001b[0m\u001b[0;34m.\u001b[0m\u001b[0mmoveaxis\u001b[0m\u001b[0;34m(\u001b[0m\u001b[0mself\u001b[0m\u001b[0;34m.\u001b[0m\u001b[0m_array\u001b[0m\u001b[0;34m[\u001b[0m\u001b[0mkey\u001b[0m\u001b[0;34m]\u001b[0m\u001b[0;34m,\u001b[0m \u001b[0mmixed_positions\u001b[0m\u001b[0;34m,\u001b[0m \u001b[0mvindex_positions\u001b[0m\u001b[0;34m)\u001b[0m\u001b[0;34m\u001b[0m\u001b[0;34m\u001b[0m\u001b[0m\n\u001b[0m\u001b[1;32m    127\u001b[0m \u001b[0;34m\u001b[0m\u001b[0m\n",
      "\u001b[0;31mKeyboardInterrupt\u001b[0m: ",
      "\nDuring handling of the above exception, another exception occurred:\n",
      "\u001b[0;31mAttributeError\u001b[0m                            Traceback (most recent call last)",
      "\u001b[0;32m/glade/work/molina/miniconda3/envs/myenv-tfgpu/lib/python3.8/site-packages/IPython/core/interactiveshell.py\u001b[0m in \u001b[0;36mshowtraceback\u001b[0;34m(self, exc_tuple, filename, tb_offset, exception_only, running_compiled_code)\u001b[0m\n\u001b[1;32m   2060\u001b[0m                         \u001b[0;31m# in the engines. This should return a list of strings.\u001b[0m\u001b[0;34m\u001b[0m\u001b[0;34m\u001b[0m\u001b[0;34m\u001b[0m\u001b[0m\n\u001b[0;32m-> 2061\u001b[0;31m                         \u001b[0mstb\u001b[0m \u001b[0;34m=\u001b[0m \u001b[0mvalue\u001b[0m\u001b[0;34m.\u001b[0m\u001b[0m_render_traceback_\u001b[0m\u001b[0;34m(\u001b[0m\u001b[0;34m)\u001b[0m\u001b[0;34m\u001b[0m\u001b[0;34m\u001b[0m\u001b[0m\n\u001b[0m\u001b[1;32m   2062\u001b[0m                     \u001b[0;32mexcept\u001b[0m \u001b[0mException\u001b[0m\u001b[0;34m:\u001b[0m\u001b[0;34m\u001b[0m\u001b[0;34m\u001b[0m\u001b[0m\n",
      "\u001b[0;31mAttributeError\u001b[0m: 'KeyboardInterrupt' object has no attribute '_render_traceback_'",
      "\nDuring handling of the above exception, another exception occurred:\n",
      "\u001b[0;31mTypeError\u001b[0m                                 Traceback (most recent call last)",
      "    \u001b[0;31m[... skipping hidden 1 frame]\u001b[0m\n",
      "\u001b[0;32m/glade/work/molina/miniconda3/envs/myenv-tfgpu/lib/python3.8/site-packages/IPython/core/interactiveshell.py\u001b[0m in \u001b[0;36mshowtraceback\u001b[0;34m(self, exc_tuple, filename, tb_offset, exception_only, running_compiled_code)\u001b[0m\n\u001b[1;32m   2061\u001b[0m                         \u001b[0mstb\u001b[0m \u001b[0;34m=\u001b[0m \u001b[0mvalue\u001b[0m\u001b[0;34m.\u001b[0m\u001b[0m_render_traceback_\u001b[0m\u001b[0;34m(\u001b[0m\u001b[0;34m)\u001b[0m\u001b[0;34m\u001b[0m\u001b[0;34m\u001b[0m\u001b[0m\n\u001b[1;32m   2062\u001b[0m                     \u001b[0;32mexcept\u001b[0m \u001b[0mException\u001b[0m\u001b[0;34m:\u001b[0m\u001b[0;34m\u001b[0m\u001b[0;34m\u001b[0m\u001b[0m\n\u001b[0;32m-> 2063\u001b[0;31m                         stb = self.InteractiveTB.structured_traceback(etype,\n\u001b[0m\u001b[1;32m   2064\u001b[0m                                             value, tb, tb_offset=tb_offset)\n\u001b[1;32m   2065\u001b[0m \u001b[0;34m\u001b[0m\u001b[0m\n",
      "\u001b[0;32m/glade/work/molina/miniconda3/envs/myenv-tfgpu/lib/python3.8/site-packages/IPython/core/ultratb.py\u001b[0m in \u001b[0;36mstructured_traceback\u001b[0;34m(self, etype, value, tb, tb_offset, number_of_lines_of_context)\u001b[0m\n\u001b[1;32m   1365\u001b[0m         \u001b[0;32melse\u001b[0m\u001b[0;34m:\u001b[0m\u001b[0;34m\u001b[0m\u001b[0;34m\u001b[0m\u001b[0m\n\u001b[1;32m   1366\u001b[0m             \u001b[0mself\u001b[0m\u001b[0;34m.\u001b[0m\u001b[0mtb\u001b[0m \u001b[0;34m=\u001b[0m \u001b[0mtb\u001b[0m\u001b[0;34m\u001b[0m\u001b[0;34m\u001b[0m\u001b[0m\n\u001b[0;32m-> 1367\u001b[0;31m         return FormattedTB.structured_traceback(\n\u001b[0m\u001b[1;32m   1368\u001b[0m             self, etype, value, tb, tb_offset, number_of_lines_of_context)\n\u001b[1;32m   1369\u001b[0m \u001b[0;34m\u001b[0m\u001b[0m\n",
      "\u001b[0;32m/glade/work/molina/miniconda3/envs/myenv-tfgpu/lib/python3.8/site-packages/IPython/core/ultratb.py\u001b[0m in \u001b[0;36mstructured_traceback\u001b[0;34m(self, etype, value, tb, tb_offset, number_of_lines_of_context)\u001b[0m\n\u001b[1;32m   1265\u001b[0m         \u001b[0;32mif\u001b[0m \u001b[0mmode\u001b[0m \u001b[0;32min\u001b[0m \u001b[0mself\u001b[0m\u001b[0;34m.\u001b[0m\u001b[0mverbose_modes\u001b[0m\u001b[0;34m:\u001b[0m\u001b[0;34m\u001b[0m\u001b[0;34m\u001b[0m\u001b[0m\n\u001b[1;32m   1266\u001b[0m             \u001b[0;31m# Verbose modes need a full traceback\u001b[0m\u001b[0;34m\u001b[0m\u001b[0;34m\u001b[0m\u001b[0;34m\u001b[0m\u001b[0m\n\u001b[0;32m-> 1267\u001b[0;31m             return VerboseTB.structured_traceback(\n\u001b[0m\u001b[1;32m   1268\u001b[0m                 \u001b[0mself\u001b[0m\u001b[0;34m,\u001b[0m \u001b[0metype\u001b[0m\u001b[0;34m,\u001b[0m \u001b[0mvalue\u001b[0m\u001b[0;34m,\u001b[0m \u001b[0mtb\u001b[0m\u001b[0;34m,\u001b[0m \u001b[0mtb_offset\u001b[0m\u001b[0;34m,\u001b[0m \u001b[0mnumber_of_lines_of_context\u001b[0m\u001b[0;34m\u001b[0m\u001b[0;34m\u001b[0m\u001b[0m\n\u001b[1;32m   1269\u001b[0m             )\n",
      "\u001b[0;32m/glade/work/molina/miniconda3/envs/myenv-tfgpu/lib/python3.8/site-packages/IPython/core/ultratb.py\u001b[0m in \u001b[0;36mstructured_traceback\u001b[0;34m(self, etype, evalue, etb, tb_offset, number_of_lines_of_context)\u001b[0m\n\u001b[1;32m   1122\u001b[0m         \u001b[0;34m\"\"\"Return a nice text document describing the traceback.\"\"\"\u001b[0m\u001b[0;34m\u001b[0m\u001b[0;34m\u001b[0m\u001b[0m\n\u001b[1;32m   1123\u001b[0m \u001b[0;34m\u001b[0m\u001b[0m\n\u001b[0;32m-> 1124\u001b[0;31m         formatted_exception = self.format_exception_as_a_whole(etype, evalue, etb, number_of_lines_of_context,\n\u001b[0m\u001b[1;32m   1125\u001b[0m                                                                tb_offset)\n\u001b[1;32m   1126\u001b[0m \u001b[0;34m\u001b[0m\u001b[0m\n",
      "\u001b[0;32m/glade/work/molina/miniconda3/envs/myenv-tfgpu/lib/python3.8/site-packages/IPython/core/ultratb.py\u001b[0m in \u001b[0;36mformat_exception_as_a_whole\u001b[0;34m(self, etype, evalue, etb, number_of_lines_of_context, tb_offset)\u001b[0m\n\u001b[1;32m   1080\u001b[0m \u001b[0;34m\u001b[0m\u001b[0m\n\u001b[1;32m   1081\u001b[0m \u001b[0;34m\u001b[0m\u001b[0m\n\u001b[0;32m-> 1082\u001b[0;31m         \u001b[0mlast_unique\u001b[0m\u001b[0;34m,\u001b[0m \u001b[0mrecursion_repeat\u001b[0m \u001b[0;34m=\u001b[0m \u001b[0mfind_recursion\u001b[0m\u001b[0;34m(\u001b[0m\u001b[0morig_etype\u001b[0m\u001b[0;34m,\u001b[0m \u001b[0mevalue\u001b[0m\u001b[0;34m,\u001b[0m \u001b[0mrecords\u001b[0m\u001b[0;34m)\u001b[0m\u001b[0;34m\u001b[0m\u001b[0;34m\u001b[0m\u001b[0m\n\u001b[0m\u001b[1;32m   1083\u001b[0m \u001b[0;34m\u001b[0m\u001b[0m\n\u001b[1;32m   1084\u001b[0m         \u001b[0mframes\u001b[0m \u001b[0;34m=\u001b[0m \u001b[0mself\u001b[0m\u001b[0;34m.\u001b[0m\u001b[0mformat_records\u001b[0m\u001b[0;34m(\u001b[0m\u001b[0mrecords\u001b[0m\u001b[0;34m,\u001b[0m \u001b[0mlast_unique\u001b[0m\u001b[0;34m,\u001b[0m \u001b[0mrecursion_repeat\u001b[0m\u001b[0;34m)\u001b[0m\u001b[0;34m\u001b[0m\u001b[0;34m\u001b[0m\u001b[0m\n",
      "\u001b[0;32m/glade/work/molina/miniconda3/envs/myenv-tfgpu/lib/python3.8/site-packages/IPython/core/ultratb.py\u001b[0m in \u001b[0;36mfind_recursion\u001b[0;34m(etype, value, records)\u001b[0m\n\u001b[1;32m    380\u001b[0m     \u001b[0;31m# first frame (from in to out) that looks different.\u001b[0m\u001b[0;34m\u001b[0m\u001b[0;34m\u001b[0m\u001b[0;34m\u001b[0m\u001b[0m\n\u001b[1;32m    381\u001b[0m     \u001b[0;32mif\u001b[0m \u001b[0;32mnot\u001b[0m \u001b[0mis_recursion_error\u001b[0m\u001b[0;34m(\u001b[0m\u001b[0metype\u001b[0m\u001b[0;34m,\u001b[0m \u001b[0mvalue\u001b[0m\u001b[0;34m,\u001b[0m \u001b[0mrecords\u001b[0m\u001b[0;34m)\u001b[0m\u001b[0;34m:\u001b[0m\u001b[0;34m\u001b[0m\u001b[0;34m\u001b[0m\u001b[0m\n\u001b[0;32m--> 382\u001b[0;31m         \u001b[0;32mreturn\u001b[0m \u001b[0mlen\u001b[0m\u001b[0;34m(\u001b[0m\u001b[0mrecords\u001b[0m\u001b[0;34m)\u001b[0m\u001b[0;34m,\u001b[0m \u001b[0;36m0\u001b[0m\u001b[0;34m\u001b[0m\u001b[0;34m\u001b[0m\u001b[0m\n\u001b[0m\u001b[1;32m    383\u001b[0m \u001b[0;34m\u001b[0m\u001b[0m\n\u001b[1;32m    384\u001b[0m     \u001b[0;31m# Select filename, lineno, func_name to track frames with\u001b[0m\u001b[0;34m\u001b[0m\u001b[0;34m\u001b[0m\u001b[0;34m\u001b[0m\u001b[0m\n",
      "\u001b[0;31mTypeError\u001b[0m: object of type 'NoneType' has no len()"
     ]
    }
   ],
   "source": [
    "cesm2_hindcast_climatology(filelist, variable=var, save=True, author=author, parent_directory=parent_directory)\n",
    "cesm2_hindcast_anomalies(filelist, variable=var, parent_directory=parent_directory, save=True, author=author)"
   ]
  },
  {
   "cell_type": "code",
   "execution_count": null,
   "metadata": {},
   "outputs": [],
   "source": [
    "filelist = cesm2_filelist(variable=var, \n",
    "                          parent_directory=parent_directory, \n",
    "                          ensemble=['00'])\n",
    "cesm2_hindcast_anomalies(filelist, variable=var, parent_directory=parent_directory, save=True, author=author)\n",
    "\n",
    "filelist = cesm2_filelist(variable=var, \n",
    "                          parent_directory=parent_directory, \n",
    "                          ensemble=['01'])\n",
    "cesm2_hindcast_anomalies(filelist, variable=var, parent_directory=parent_directory, save=True, author=author)\n",
    "\n",
    "filelist = cesm2_filelist(variable=var, \n",
    "                          parent_directory=parent_directory, \n",
    "                          ensemble=['02'])\n",
    "cesm2_hindcast_anomalies(filelist, variable=var, parent_directory=parent_directory, save=True, author=author)\n",
    "\n",
    "filelist = cesm2_filelist(variable=var, \n",
    "                          parent_directory=parent_directory, \n",
    "                          ensemble=['03'])\n",
    "cesm2_hindcast_anomalies(filelist, variable=var, parent_directory=parent_directory, save=True, author=author)\n",
    "\n",
    "filelist = cesm2_filelist(variable=var, \n",
    "                          parent_directory=parent_directory, \n",
    "                          ensemble=['04'])\n",
    "cesm2_hindcast_anomalies(filelist, variable=var, parent_directory=parent_directory, save=True, author=author)\n",
    "\n",
    "filelist = cesm2_filelist(variable=var, \n",
    "                          parent_directory=parent_directory, \n",
    "                          ensemble=['05'])\n",
    "cesm2_hindcast_anomalies(filelist, variable=var, parent_directory=parent_directory, save=True, author=author)\n",
    "\n",
    "filelist = cesm2_filelist(variable=var, \n",
    "                          parent_directory=parent_directory, \n",
    "                          ensemble=['06'])\n",
    "cesm2_hindcast_anomalies(filelist, variable=var, parent_directory=parent_directory, save=True, author=author)\n",
    "\n",
    "filelist = cesm2_filelist(variable=var, \n",
    "                          parent_directory=parent_directory, \n",
    "                          ensemble=['07'])\n",
    "cesm2_hindcast_anomalies(filelist, variable=var, parent_directory=parent_directory, save=True, author=author)\n",
    "\n",
    "filelist = cesm2_filelist(variable=var, \n",
    "                          parent_directory=parent_directory, \n",
    "                          ensemble=['08'])\n",
    "cesm2_hindcast_anomalies(filelist, variable=var, parent_directory=parent_directory, save=True, author=author)\n",
    "\n",
    "filelist = cesm2_filelist(variable=var, \n",
    "                          parent_directory=parent_directory, \n",
    "                          ensemble=['09'])\n",
    "cesm2_hindcast_anomalies(filelist, variable=var, parent_directory=parent_directory, save=True, author=author)\n",
    "\n",
    "filelist = cesm2_filelist(variable=var, \n",
    "                          parent_directory=parent_directory, \n",
    "                          ensemble=['10'])\n",
    "cesm2_hindcast_anomalies(filelist, variable=var, parent_directory=parent_directory, save=True, author=author)"
   ]
  },
  {
   "cell_type": "code",
   "execution_count": 1,
   "metadata": {},
   "outputs": [],
   "source": [
    "import narm_analysis"
   ]
  },
  {
   "cell_type": "code",
   "execution_count": 2,
   "metadata": {},
   "outputs": [],
   "source": [
    "ds00 = narm_analysis.cesm_z500(ensemble_str='00')\n",
    "ds00.to_netcdf('/glade/scratch/molina/s2s/CESM2/cesm2_z500_00.nc')"
   ]
  },
  {
   "cell_type": "code",
   "execution_count": 3,
   "metadata": {},
   "outputs": [],
   "source": [
    "ds00 = narm_analysis.cesm_z500(ensemble_str='03')\n",
    "ds00.to_netcdf('/glade/scratch/molina/s2s/CESM2/cesm2_z500_03.nc')"
   ]
  },
  {
   "cell_type": "code",
   "execution_count": 4,
   "metadata": {},
   "outputs": [],
   "source": [
    "ds00 = narm_analysis.cesm_z500(ensemble_str='06')\n",
    "ds00.to_netcdf('/glade/scratch/molina/s2s/CESM2/cesm2_z500_06.nc')"
   ]
  },
  {
   "cell_type": "code",
   "execution_count": 5,
   "metadata": {},
   "outputs": [],
   "source": [
    "ds00 = narm_analysis.cesm_z500(ensemble_str='09')\n",
    "ds00.to_netcdf('/glade/scratch/molina/s2s/CESM2/cesm2_z500_09.nc')"
   ]
  },
  {
   "cell_type": "code",
   "execution_count": null,
   "metadata": {},
   "outputs": [],
   "source": []
  },
  {
   "cell_type": "code",
   "execution_count": 3,
   "metadata": {},
   "outputs": [],
   "source": [
    "var = 'pr_sfc'\n",
    "filelist = cesm2_filelist(variable=var, \n",
    "                          parent_directory=parent_directory,\n",
    "                          ensemble=['00','01','02','03','04','05','06','07','08','09','10'])"
   ]
  },
  {
   "cell_type": "code",
   "execution_count": 4,
   "metadata": {},
   "outputs": [],
   "source": [
    "cesm2_hindcast_climatology(filelist, variable=var, save=True, author=author, parent_directory=parent_directory)\n",
    "cesm2_hindcast_anomalies(filelist, variable=var, parent_directory=parent_directory, save=True, author=author)"
   ]
  },
  {
   "cell_type": "code",
   "execution_count": 3,
   "metadata": {},
   "outputs": [],
   "source": [
    "var = 'pr_sfc'\n",
    "filelist = cesm2_filelist(variable=var, \n",
    "                          parent_directory=parent_directory, \n",
    "                          ensemble=['00'])"
   ]
  },
  {
   "cell_type": "code",
   "execution_count": 4,
   "metadata": {},
   "outputs": [
    {
     "name": "stderr",
     "output_type": "stream",
     "text": [
      "/glade/u/home/molina/python_scripts/ML-for-S2S/ML-for-S2S/preprocessing.py:369: UserWarning: Using climatology computed from 11 ensemble members!\n",
      "  warnings.warn(\"Using climatology computed from 11 ensemble members!\")\n"
     ]
    }
   ],
   "source": [
    "cesm2_hindcast_anomalies(filelist, variable=var, parent_directory=parent_directory, save=True, author=author)"
   ]
  },
  {
   "cell_type": "code",
   "execution_count": 5,
   "metadata": {},
   "outputs": [],
   "source": [
    "var = 'pr_sfc'\n",
    "filelist = cesm2_filelist(variable=var, \n",
    "                          parent_directory=parent_directory,\n",
    "                          ensemble=['01'])"
   ]
  },
  {
   "cell_type": "code",
   "execution_count": 6,
   "metadata": {},
   "outputs": [
    {
     "name": "stderr",
     "output_type": "stream",
     "text": [
      "/glade/u/home/molina/python_scripts/ML-for-S2S/ML-for-S2S/preprocessing.py:369: UserWarning: Using climatology computed from 11 ensemble members!\n",
      "  warnings.warn(\"Using climatology computed from 11 ensemble members!\")\n"
     ]
    }
   ],
   "source": [
    "cesm2_hindcast_anomalies(filelist, variable=var, parent_directory=parent_directory, save=True, author=author)"
   ]
  },
  {
   "cell_type": "code",
   "execution_count": 7,
   "metadata": {},
   "outputs": [],
   "source": [
    "var = 'pr_sfc'\n",
    "filelist = cesm2_filelist(variable=var, \n",
    "                          parent_directory=parent_directory, \n",
    "                          ensemble=['02'])"
   ]
  },
  {
   "cell_type": "code",
   "execution_count": 8,
   "metadata": {},
   "outputs": [
    {
     "name": "stderr",
     "output_type": "stream",
     "text": [
      "/glade/u/home/molina/python_scripts/ML-for-S2S/ML-for-S2S/preprocessing.py:369: UserWarning: Using climatology computed from 11 ensemble members!\n",
      "  warnings.warn(\"Using climatology computed from 11 ensemble members!\")\n"
     ]
    }
   ],
   "source": [
    "cesm2_hindcast_anomalies(filelist, variable=var, parent_directory=parent_directory, save=True, author=author)"
   ]
  },
  {
   "cell_type": "code",
   "execution_count": 9,
   "metadata": {},
   "outputs": [],
   "source": [
    "var = 'pr_sfc'\n",
    "filelist = cesm2_filelist(variable=var, \n",
    "                          parent_directory=parent_directory, \n",
    "                          ensemble=['03'])"
   ]
  },
  {
   "cell_type": "code",
   "execution_count": 10,
   "metadata": {},
   "outputs": [
    {
     "name": "stderr",
     "output_type": "stream",
     "text": [
      "/glade/u/home/molina/python_scripts/ML-for-S2S/ML-for-S2S/preprocessing.py:369: UserWarning: Using climatology computed from 11 ensemble members!\n",
      "  warnings.warn(\"Using climatology computed from 11 ensemble members!\")\n"
     ]
    }
   ],
   "source": [
    "cesm2_hindcast_anomalies(filelist, variable=var, parent_directory=parent_directory, save=True, author=author)"
   ]
  },
  {
   "cell_type": "code",
   "execution_count": 11,
   "metadata": {},
   "outputs": [],
   "source": [
    "var = 'pr_sfc'\n",
    "filelist = cesm2_filelist(variable=var, \n",
    "                          parent_directory=parent_directory, \n",
    "                          ensemble=['04'])"
   ]
  },
  {
   "cell_type": "code",
   "execution_count": 12,
   "metadata": {},
   "outputs": [
    {
     "name": "stderr",
     "output_type": "stream",
     "text": [
      "/glade/u/home/molina/python_scripts/ML-for-S2S/ML-for-S2S/preprocessing.py:369: UserWarning: Using climatology computed from 11 ensemble members!\n",
      "  warnings.warn(\"Using climatology computed from 11 ensemble members!\")\n"
     ]
    }
   ],
   "source": [
    "cesm2_hindcast_anomalies(filelist, variable=var, parent_directory=parent_directory, save=True, author=author)"
   ]
  },
  {
   "cell_type": "code",
   "execution_count": 13,
   "metadata": {},
   "outputs": [],
   "source": [
    "var = 'pr_sfc'\n",
    "filelist = cesm2_filelist(variable=var, \n",
    "                          parent_directory=parent_directory, \n",
    "                          ensemble=['05'])"
   ]
  },
  {
   "cell_type": "code",
   "execution_count": 14,
   "metadata": {},
   "outputs": [
    {
     "name": "stderr",
     "output_type": "stream",
     "text": [
      "/glade/u/home/molina/python_scripts/ML-for-S2S/ML-for-S2S/preprocessing.py:369: UserWarning: Using climatology computed from 11 ensemble members!\n",
      "  warnings.warn(\"Using climatology computed from 11 ensemble members!\")\n"
     ]
    }
   ],
   "source": [
    "cesm2_hindcast_anomalies(filelist, variable=var, parent_directory=parent_directory, save=True, author=author)"
   ]
  },
  {
   "cell_type": "code",
   "execution_count": 15,
   "metadata": {},
   "outputs": [],
   "source": [
    "var = 'pr_sfc'\n",
    "filelist = cesm2_filelist(variable=var, \n",
    "                          parent_directory=parent_directory, \n",
    "                          ensemble=['06'])"
   ]
  },
  {
   "cell_type": "code",
   "execution_count": 16,
   "metadata": {},
   "outputs": [
    {
     "name": "stderr",
     "output_type": "stream",
     "text": [
      "/glade/u/home/molina/python_scripts/ML-for-S2S/ML-for-S2S/preprocessing.py:369: UserWarning: Using climatology computed from 11 ensemble members!\n",
      "  warnings.warn(\"Using climatology computed from 11 ensemble members!\")\n"
     ]
    }
   ],
   "source": [
    "cesm2_hindcast_anomalies(filelist, variable=var, parent_directory=parent_directory, save=True, author=author)"
   ]
  },
  {
   "cell_type": "code",
   "execution_count": 17,
   "metadata": {},
   "outputs": [],
   "source": [
    "var = 'pr_sfc'\n",
    "filelist = cesm2_filelist(variable=var, \n",
    "                          parent_directory=parent_directory, \n",
    "                          ensemble=['07'])"
   ]
  },
  {
   "cell_type": "code",
   "execution_count": 18,
   "metadata": {},
   "outputs": [
    {
     "name": "stderr",
     "output_type": "stream",
     "text": [
      "/glade/u/home/molina/python_scripts/ML-for-S2S/ML-for-S2S/preprocessing.py:369: UserWarning: Using climatology computed from 11 ensemble members!\n",
      "  warnings.warn(\"Using climatology computed from 11 ensemble members!\")\n"
     ]
    }
   ],
   "source": [
    "cesm2_hindcast_anomalies(filelist, variable=var, parent_directory=parent_directory, save=True, author=author)"
   ]
  },
  {
   "cell_type": "code",
   "execution_count": 19,
   "metadata": {},
   "outputs": [],
   "source": [
    "var = 'pr_sfc'\n",
    "filelist = cesm2_filelist(variable=var, \n",
    "                          parent_directory=parent_directory, \n",
    "                          ensemble=['08'])"
   ]
  },
  {
   "cell_type": "code",
   "execution_count": 20,
   "metadata": {},
   "outputs": [
    {
     "name": "stderr",
     "output_type": "stream",
     "text": [
      "/glade/u/home/molina/python_scripts/ML-for-S2S/ML-for-S2S/preprocessing.py:369: UserWarning: Using climatology computed from 11 ensemble members!\n",
      "  warnings.warn(\"Using climatology computed from 11 ensemble members!\")\n"
     ]
    }
   ],
   "source": [
    "cesm2_hindcast_anomalies(filelist, variable=var, parent_directory=parent_directory, save=True, author=author)"
   ]
  },
  {
   "cell_type": "code",
   "execution_count": 21,
   "metadata": {},
   "outputs": [],
   "source": [
    "var = 'pr_sfc'\n",
    "filelist = cesm2_filelist(variable=var, \n",
    "                          parent_directory=parent_directory, \n",
    "                          ensemble=['09'])"
   ]
  },
  {
   "cell_type": "code",
   "execution_count": 22,
   "metadata": {},
   "outputs": [
    {
     "name": "stderr",
     "output_type": "stream",
     "text": [
      "/glade/u/home/molina/python_scripts/ML-for-S2S/ML-for-S2S/preprocessing.py:369: UserWarning: Using climatology computed from 11 ensemble members!\n",
      "  warnings.warn(\"Using climatology computed from 11 ensemble members!\")\n"
     ]
    }
   ],
   "source": [
    "cesm2_hindcast_anomalies(filelist, variable=var, parent_directory=parent_directory, save=True, author=author)"
   ]
  },
  {
   "cell_type": "code",
   "execution_count": 23,
   "metadata": {},
   "outputs": [],
   "source": [
    "var = 'pr_sfc'\n",
    "filelist = cesm2_filelist(variable=var, \n",
    "                          parent_directory=parent_directory, \n",
    "                          ensemble=['10'])"
   ]
  },
  {
   "cell_type": "code",
   "execution_count": 24,
   "metadata": {},
   "outputs": [
    {
     "name": "stderr",
     "output_type": "stream",
     "text": [
      "/glade/u/home/molina/python_scripts/ML-for-S2S/ML-for-S2S/preprocessing.py:369: UserWarning: Using climatology computed from 11 ensemble members!\n",
      "  warnings.warn(\"Using climatology computed from 11 ensemble members!\")\n"
     ]
    }
   ],
   "source": [
    "cesm2_hindcast_anomalies(filelist, variable=var, parent_directory=parent_directory, save=True, author=author)"
   ]
  },
  {
   "cell_type": "code",
   "execution_count": 3,
   "metadata": {},
   "outputs": [],
   "source": [
    "var = 'tas_2m'\n",
    "filelist = cesm2_filelist(variable=var,\n",
    "                          parent_directory=parent_directory,\n",
    "                          ensemble=['00','01','02','03','04','05','06','07','08','09','10'])"
   ]
  },
  {
   "cell_type": "code",
   "execution_count": 4,
   "metadata": {},
   "outputs": [],
   "source": [
    "cesm2_hindcast_climatology(filelist, variable=var, save=True, author=author, parent_directory=parent_directory)\n",
    "cesm2_hindcast_anomalies(filelist, variable=var, parent_directory=parent_directory, save=True, author=author)"
   ]
  },
  {
   "cell_type": "code",
   "execution_count": 5,
   "metadata": {},
   "outputs": [],
   "source": [
    "var = 'tas_2m'\n",
    "filelist = cesm2_filelist(variable=var, \n",
    "                          parent_directory=parent_directory,\n",
    "                          ensemble=['00'])"
   ]
  },
  {
   "cell_type": "code",
   "execution_count": 6,
   "metadata": {},
   "outputs": [
    {
     "name": "stderr",
     "output_type": "stream",
     "text": [
      "/glade/u/home/molina/python_scripts/ML-for-S2S/ML-for-S2S/preprocessing.py:373: UserWarning: Using climatology computed from 11 ensemble members!\n",
      "  warnings.warn(\"Using climatology computed from 11 ensemble members!\")\n"
     ]
    }
   ],
   "source": [
    "cesm2_hindcast_anomalies(filelist, variable=var, parent_directory=parent_directory, save=True, author=author)"
   ]
  },
  {
   "cell_type": "code",
   "execution_count": 7,
   "metadata": {},
   "outputs": [],
   "source": [
    "var = 'tas_2m'\n",
    "filelist = cesm2_filelist(variable=var, \n",
    "                          parent_directory=parent_directory, \n",
    "                          ensemble=['01'])"
   ]
  },
  {
   "cell_type": "code",
   "execution_count": 8,
   "metadata": {},
   "outputs": [
    {
     "name": "stderr",
     "output_type": "stream",
     "text": [
      "/glade/u/home/molina/python_scripts/ML-for-S2S/ML-for-S2S/preprocessing.py:373: UserWarning: Using climatology computed from 11 ensemble members!\n",
      "  warnings.warn(\"Using climatology computed from 11 ensemble members!\")\n"
     ]
    }
   ],
   "source": [
    "cesm2_hindcast_anomalies(filelist, variable=var, parent_directory=parent_directory, save=True, author=author)"
   ]
  },
  {
   "cell_type": "code",
   "execution_count": 9,
   "metadata": {},
   "outputs": [],
   "source": [
    "var = 'tas_2m'\n",
    "filelist = cesm2_filelist(variable=var, \n",
    "                          parent_directory=parent_directory, \n",
    "                          ensemble=['02'])"
   ]
  },
  {
   "cell_type": "code",
   "execution_count": 10,
   "metadata": {},
   "outputs": [
    {
     "name": "stderr",
     "output_type": "stream",
     "text": [
      "/glade/u/home/molina/python_scripts/ML-for-S2S/ML-for-S2S/preprocessing.py:373: UserWarning: Using climatology computed from 11 ensemble members!\n",
      "  warnings.warn(\"Using climatology computed from 11 ensemble members!\")\n"
     ]
    }
   ],
   "source": [
    "cesm2_hindcast_anomalies(filelist, variable=var, parent_directory=parent_directory, save=True, author=author)"
   ]
  },
  {
   "cell_type": "code",
   "execution_count": 11,
   "metadata": {},
   "outputs": [],
   "source": [
    "var = 'tas_2m'\n",
    "filelist = cesm2_filelist(variable=var, \n",
    "                          parent_directory=parent_directory, \n",
    "                          ensemble=['03'])"
   ]
  },
  {
   "cell_type": "code",
   "execution_count": 12,
   "metadata": {},
   "outputs": [
    {
     "name": "stderr",
     "output_type": "stream",
     "text": [
      "/glade/u/home/molina/python_scripts/ML-for-S2S/ML-for-S2S/preprocessing.py:373: UserWarning: Using climatology computed from 11 ensemble members!\n",
      "  warnings.warn(\"Using climatology computed from 11 ensemble members!\")\n"
     ]
    }
   ],
   "source": [
    "cesm2_hindcast_anomalies(filelist, variable=var, parent_directory=parent_directory, save=True, author=author)"
   ]
  },
  {
   "cell_type": "code",
   "execution_count": 13,
   "metadata": {},
   "outputs": [],
   "source": [
    "var = 'tas_2m'\n",
    "filelist = cesm2_filelist(variable=var, \n",
    "                          parent_directory=parent_directory, \n",
    "                          ensemble=['04'])"
   ]
  },
  {
   "cell_type": "code",
   "execution_count": 14,
   "metadata": {},
   "outputs": [
    {
     "name": "stderr",
     "output_type": "stream",
     "text": [
      "/glade/u/home/molina/python_scripts/ML-for-S2S/ML-for-S2S/preprocessing.py:373: UserWarning: Using climatology computed from 11 ensemble members!\n",
      "  warnings.warn(\"Using climatology computed from 11 ensemble members!\")\n"
     ]
    }
   ],
   "source": [
    "cesm2_hindcast_anomalies(filelist, variable=var, parent_directory=parent_directory, save=True, author=author)"
   ]
  },
  {
   "cell_type": "code",
   "execution_count": 15,
   "metadata": {},
   "outputs": [],
   "source": [
    "var = 'tas_2m'\n",
    "filelist = cesm2_filelist(variable=var, \n",
    "                          parent_directory=parent_directory, \n",
    "                          ensemble=['05'])"
   ]
  },
  {
   "cell_type": "code",
   "execution_count": 16,
   "metadata": {},
   "outputs": [
    {
     "name": "stderr",
     "output_type": "stream",
     "text": [
      "/glade/u/home/molina/python_scripts/ML-for-S2S/ML-for-S2S/preprocessing.py:373: UserWarning: Using climatology computed from 11 ensemble members!\n",
      "  warnings.warn(\"Using climatology computed from 11 ensemble members!\")\n"
     ]
    }
   ],
   "source": [
    "cesm2_hindcast_anomalies(filelist, variable=var, parent_directory=parent_directory, save=True, author=author)"
   ]
  },
  {
   "cell_type": "code",
   "execution_count": 17,
   "metadata": {},
   "outputs": [],
   "source": [
    "var = 'tas_2m'\n",
    "filelist = cesm2_filelist(variable=var, \n",
    "                          parent_directory=parent_directory, \n",
    "                          ensemble=['06'])"
   ]
  },
  {
   "cell_type": "code",
   "execution_count": 18,
   "metadata": {},
   "outputs": [
    {
     "name": "stderr",
     "output_type": "stream",
     "text": [
      "/glade/u/home/molina/python_scripts/ML-for-S2S/ML-for-S2S/preprocessing.py:373: UserWarning: Using climatology computed from 11 ensemble members!\n",
      "  warnings.warn(\"Using climatology computed from 11 ensemble members!\")\n"
     ]
    }
   ],
   "source": [
    "cesm2_hindcast_anomalies(filelist, variable=var, parent_directory=parent_directory, save=True, author=author)"
   ]
  },
  {
   "cell_type": "code",
   "execution_count": 19,
   "metadata": {},
   "outputs": [],
   "source": [
    "var = 'tas_2m'\n",
    "filelist = cesm2_filelist(variable=var, \n",
    "                          parent_directory=parent_directory, \n",
    "                          ensemble=['07'])"
   ]
  },
  {
   "cell_type": "code",
   "execution_count": 20,
   "metadata": {},
   "outputs": [
    {
     "name": "stderr",
     "output_type": "stream",
     "text": [
      "/glade/u/home/molina/python_scripts/ML-for-S2S/ML-for-S2S/preprocessing.py:373: UserWarning: Using climatology computed from 11 ensemble members!\n",
      "  warnings.warn(\"Using climatology computed from 11 ensemble members!\")\n"
     ]
    }
   ],
   "source": [
    "cesm2_hindcast_anomalies(filelist, variable=var, parent_directory=parent_directory, save=True, author=author)"
   ]
  },
  {
   "cell_type": "code",
   "execution_count": 21,
   "metadata": {},
   "outputs": [],
   "source": [
    "var = 'tas_2m'\n",
    "filelist = cesm2_filelist(variable=var, \n",
    "                          parent_directory=parent_directory, \n",
    "                          ensemble=['08'])"
   ]
  },
  {
   "cell_type": "code",
   "execution_count": 22,
   "metadata": {},
   "outputs": [
    {
     "name": "stderr",
     "output_type": "stream",
     "text": [
      "/glade/u/home/molina/python_scripts/ML-for-S2S/ML-for-S2S/preprocessing.py:373: UserWarning: Using climatology computed from 11 ensemble members!\n",
      "  warnings.warn(\"Using climatology computed from 11 ensemble members!\")\n"
     ]
    }
   ],
   "source": [
    "cesm2_hindcast_anomalies(filelist, variable=var, parent_directory=parent_directory, save=True, author=author)"
   ]
  },
  {
   "cell_type": "code",
   "execution_count": 23,
   "metadata": {},
   "outputs": [],
   "source": [
    "var = 'tas_2m'\n",
    "filelist = cesm2_filelist(variable=var, \n",
    "                          parent_directory=parent_directory, \n",
    "                          ensemble=['09'])"
   ]
  },
  {
   "cell_type": "code",
   "execution_count": 24,
   "metadata": {},
   "outputs": [
    {
     "name": "stderr",
     "output_type": "stream",
     "text": [
      "/glade/u/home/molina/python_scripts/ML-for-S2S/ML-for-S2S/preprocessing.py:373: UserWarning: Using climatology computed from 11 ensemble members!\n",
      "  warnings.warn(\"Using climatology computed from 11 ensemble members!\")\n"
     ]
    }
   ],
   "source": [
    "cesm2_hindcast_anomalies(filelist, variable=var, parent_directory=parent_directory, save=True, author=author)"
   ]
  },
  {
   "cell_type": "code",
   "execution_count": 25,
   "metadata": {},
   "outputs": [],
   "source": [
    "var = 'tas_2m'\n",
    "filelist = cesm2_filelist(variable=var, \n",
    "                          parent_directory=parent_directory, \n",
    "                          ensemble=['10'])"
   ]
  },
  {
   "cell_type": "code",
   "execution_count": 26,
   "metadata": {},
   "outputs": [
    {
     "name": "stderr",
     "output_type": "stream",
     "text": [
      "/glade/u/home/molina/python_scripts/ML-for-S2S/ML-for-S2S/preprocessing.py:373: UserWarning: Using climatology computed from 11 ensemble members!\n",
      "  warnings.warn(\"Using climatology computed from 11 ensemble members!\")\n"
     ]
    }
   ],
   "source": [
    "cesm2_hindcast_anomalies(filelist, variable=var, parent_directory=parent_directory, save=True, author=author)"
   ]
  },
  {
   "cell_type": "code",
   "execution_count": null,
   "metadata": {},
   "outputs": [],
   "source": []
  }
 ],
 "metadata": {
  "kernelspec": {
   "display_name": "Python [conda env:miniconda3-myenv-tfgpu]",
   "language": "python",
   "name": "conda-env-miniconda3-myenv-tfgpu-py"
  },
  "language_info": {
   "codemirror_mode": {
    "name": "ipython",
    "version": 3
   },
   "file_extension": ".py",
   "mimetype": "text/x-python",
   "name": "python",
   "nbconvert_exporter": "python",
   "pygments_lexer": "ipython3",
   "version": "3.8.13"
  }
 },
 "nbformat": 4,
 "nbformat_minor": 4
}
