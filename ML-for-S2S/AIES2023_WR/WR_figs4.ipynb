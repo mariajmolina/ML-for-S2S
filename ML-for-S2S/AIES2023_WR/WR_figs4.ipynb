{
 "cells": [
  {
   "cell_type": "markdown",
   "id": "859d7d16-4de3-41fc-ba1a-5a43829190d6",
   "metadata": {},
   "source": [
    "# Figure 4 (Molina et al., under review)"
   ]
  },
  {
   "cell_type": "markdown",
   "id": "c8f677a8-3735-44c9-bcf4-8d214ec90dcc",
   "metadata": {},
   "source": [
    "Figure 4. Percentage of days of weather regime occurrence for CESM2 (11-member ensemble mean) and corresponding ERA5 data arranged as the CESM2 reforecasts (e.g., weeks 1-2). ERA5 and CESM2 analysis (lead day 0) are indicated in the far left columns, and CESM2 weeks 1-2, 3-4, and 5-6 reforecasts are indicated in the following columns with corresponding ERA5. Weather regimes are indicated in the legend. Error bars represent spread among individual CESM2 ensemble members."
   ]
  },
  {
   "cell_type": "markdown",
   "id": "c46ec794-7190-4127-9c45-19bad6218d33",
   "metadata": {},
   "source": [
    "## Imports"
   ]
  },
  {
   "cell_type": "code",
   "execution_count": 1,
   "id": "d746a1b0-1265-48d9-a1fb-cd9621e6ea6c",
   "metadata": {},
   "outputs": [],
   "source": [
    "import numpy as np\n",
    "import pandas as pd\n",
    "import xarray as xr\n",
    "\n",
    "import matplotlib.pyplot as plt\n",
    "import cartopy.crs as ccrs\n",
    "import shapely.geometry as sgeom\n",
    "\n",
    "from sklearn.decomposition import PCA\n",
    "from sklearn.cluster import KMeans\n",
    "\n",
    "import som_analysis\n",
    "import cluster_analysis\n",
    "import narm_analysis"
   ]
  },
  {
   "cell_type": "markdown",
   "id": "bfa0046f-94e8-4e58-bc39-62bf5fa2c426",
   "metadata": {},
   "source": [
    "## functions"
   ]
  },
  {
   "cell_type": "code",
   "execution_count": 2,
   "id": "2c339c36-c2f3-48f3-b4e5-998914deec0a",
   "metadata": {},
   "outputs": [],
   "source": [
    "def add_insetmap(axes_extent, map_extent, lons, lats, temp_data, \n",
    "                 vmin, vmax, cmap='coolwarm'):\n",
    "\n",
    "    use_projection = ccrs.Mercator()     # preserve shape well\n",
    "    geodetic = ccrs.Geodetic(globe=ccrs.Globe(datum='WGS84'))\n",
    "\n",
    "    sub_ax = plt.axes(axes_extent, projection=use_projection)  # normal units\n",
    "    sub_ax.set_extent(map_extent, geodetic)  # map extents\n",
    "    sub_ax.coastlines(linewidth=0.35, zorder=10)\n",
    "\n",
    "    sub_ax.pcolormesh(lons, lats, temp_data, transform=ccrs.PlateCarree(),\n",
    "                      vmin=vmin, vmax=vmax, cmap=cmap)\n",
    "\n",
    "    extent_box = sgeom.box(\n",
    "        map_extent[0], map_extent[2], map_extent[1], map_extent[3])\n",
    "    sub_ax.add_geometries(\n",
    "        [extent_box], ccrs.PlateCarree(), color='none', linewidth=0.05)"
   ]
  },
  {
   "cell_type": "code",
   "execution_count": 3,
   "id": "44e98c69-af7c-4829-bca6-988812581d80",
   "metadata": {},
   "outputs": [],
   "source": [
    "def get_cold_indx(ds, mo_init=9, mo_end=2):\n",
    "    \"\"\"\n",
    "    Extract indices for cold season.\n",
    "    Grabbing Sept thru February init, for Oct thru March predictions.\n",
    "    \"\"\"\n",
    "    dt_array = pd.to_datetime(ds['time'])\n",
    "    return xr.where((dt_array.month >= mo_init) | (dt_array.month <= mo_end),\n",
    "                    True, False)"
   ]
  },
  {
   "cell_type": "markdown",
   "id": "94eccf52-3d6d-470a-b583-1a941401e5da",
   "metadata": {},
   "source": [
    "## open and preprocess data"
   ]
  },
  {
   "cell_type": "code",
   "execution_count": 4,
   "id": "0dd90e72-c9cf-4fd3-92aa-f941b8b7f666",
   "metadata": {},
   "outputs": [],
   "source": [
    "# region for clustering\n",
    "lat0 = 10\n",
    "lat1 = 70\n",
    "lon0 = -150\n",
    "lon1 = -40\n",
    "\n",
    "# open era5 data and slice\n",
    "ds_era5 = narm_analysis.era5_z500(lat0=lat0, lat1=lat1, lon0=lon0, lon1=lon1)\n",
    "\n",
    "# era5 anomalies\n",
    "ds_era5_anom = narm_analysis.era5_climo_wrs(\n",
    "    ds_era5, rolling_days=5, variable='clim')\n",
    "\n",
    "# restructure era5 array for machine learning training (SONDJFM)\n",
    "ds_era5_anom = ds_era5_anom[get_cold_indx(\n",
    "    ds_era5_anom, mo_init=10, mo_end=3), ...]\n",
    "ds_era5_train = ds_era5_anom.stack(\n",
    "    flat=('lat', 'lon')).transpose('time', 'flat').values"
   ]
  },
  {
   "cell_type": "markdown",
   "id": "ebf6a09f-1ef8-4356-94d5-06998421187c",
   "metadata": {},
   "source": [
    "## pca and kmeans with era5"
   ]
  },
  {
   "cell_type": "code",
   "execution_count": 5,
   "id": "b625fee7-0663-4615-abd6-d455765106cc",
   "metadata": {},
   "outputs": [
    {
     "name": "stdout",
     "output_type": "stream",
     "text": [
      "Variance explained: [25.95315607 17.65410568 11.94871708  9.0784389   7.98100848  6.14181738\n",
      "  4.32605934  2.61658689  2.22642929  2.17049559  1.49813958  1.22541708]\n",
      "Cumulative sum of variance explained for EOF1 and EOF2: [25.95315607 43.60726175 55.55597883 64.63441774 72.61542622 78.7572436\n",
      " 83.08330294 85.69988983 87.92631912 90.09681471 91.59495429 92.82037136]\n",
      "inertia: 39379.20539969815\n"
     ]
    }
   ],
   "source": [
    "# create pca object\n",
    "pca_obj = PCA(12, whiten=True)\n",
    "\n",
    "# fit pca with era5\n",
    "pca_obj = pca_obj.fit(ds_era5_train)\n",
    "\n",
    "# transform era5 data with pca\n",
    "ds_era5_train = pca_obj.transform(ds_era5_train)\n",
    "\n",
    "print(f'Variance explained: {pca_obj.explained_variance_ratio_ * 100}')\n",
    "print(\n",
    "f'Cumulative sum of variance explained for EOF1 and EOF2: {np.cumsum(pca_obj.explained_variance_ratio_) * 100}'\n",
    ")\n",
    "\n",
    "# train kmeans\n",
    "k_means = KMeans(n_clusters=4,\n",
    "                 init='k-means++',\n",
    "                 n_init=10000,\n",
    "                 max_iter=300,\n",
    "                 tol=0.0001,\n",
    "                 verbose=0,\n",
    "                 random_state=0).fit(ds_era5_train)\n",
    "\n",
    "print(f'inertia: {k_means.inertia_}')"
   ]
  },
  {
   "cell_type": "markdown",
   "id": "5b51731e-42c4-444c-9199-d9678b76d8a4",
   "metadata": {},
   "source": [
    "## load data with lead time bias corrected anomalies"
   ]
  },
  {
   "cell_type": "code",
   "execution_count": 6,
   "id": "12ed2b29-43ea-4c0b-b6b0-dab1f3550c97",
   "metadata": {},
   "outputs": [],
   "source": [
    "# era5 data\n",
    "z500_era5, z500_era5_dt = som_analysis.open_era5_files(\n",
    "    variable='z500', return_time=True,\n",
    "    lat0=lat0, lat1=lat1, lon0=lon0, lon1=lon1,\n",
    "    leadday0=0, leadday1=42, rolldays=5,)\n",
    "\n",
    "# cesm data\n",
    "z500_cesm, z500_cesm_dt = som_analysis.open_cesm_files(\n",
    "    variable='zg_500', return_time=True,\n",
    "    lat0=lat0, lat1=lat1, lon0=lon0, lon1=lon1,\n",
    "    leadday0=0, leadday1=42, rolldays=5,)\n",
    "\n",
    "# cesm ensemble data\n",
    "z500_ensm, z500_ensm_dt, z_ensm = som_analysis.open_cesm_ensembles(\n",
    "    variable='zg_500', return_time=True,\n",
    "    lat0=lat0, lat1=lat1, lon0=lon0, lon1=lon1,\n",
    "    leadday0=0, leadday1=42, return_ens=True, rolldays=5)\n",
    "\n",
    "# restructure arrays\n",
    "z500_standard_era5 = z500_era5.stack(\n",
    "    new=('time', 'lead'), flat=('lat', 'lon')).transpose('new', 'flat')\n",
    "z500_standard_cesm = z500_cesm.stack(\n",
    "    new=('time', 'lead'), flat=('lat', 'lon')).transpose('new', 'flat')\n",
    "z500_standard_ensm = z500_ensm.stack(\n",
    "    new=('time', 'ensemble', 'lead'), \n",
    "    flat=('lat', 'lon')).transpose('new', 'flat')"
   ]
  },
  {
   "cell_type": "markdown",
   "id": "895e28a4-19aa-417b-97f4-161610537fca",
   "metadata": {},
   "source": [
    "## extract cluster labels\n",
    "\n",
    "(projecting era5 pca and kmeans onto cesm2)"
   ]
  },
  {
   "cell_type": "code",
   "execution_count": 7,
   "id": "ccdda731-ff1e-4f5b-8eef-e665c0bf4d69",
   "metadata": {},
   "outputs": [],
   "source": [
    "cluster_era5_evo = cluster_analysis.single_clusters(\n",
    "    z500_standard_era5, k_means, pca_obj, use_pca=True)\n",
    "cluster_cesm_evo = cluster_analysis.single_clusters(\n",
    "    z500_standard_cesm, k_means, pca_obj, use_pca=True)\n",
    "cluster_ensm_evo = cluster_analysis.ensemble_clusters(\n",
    "    z500_standard_ensm, k_means, pca_obj, use_pca=True)"
   ]
  },
  {
   "cell_type": "markdown",
   "id": "6fba3d7a-408a-422e-82cd-7e2399398a74",
   "metadata": {},
   "source": [
    "## cluster climatology"
   ]
  },
  {
   "cell_type": "code",
   "execution_count": 12,
   "id": "ed6e7afb-8cfb-4b62-95ed-8b6f04daa092",
   "metadata": {},
   "outputs": [],
   "source": [
    "label_era5_wall, counts_era5_wall = cluster_analysis.cluster_percentages(\n",
    "    cluster_era5_evo, np.arange(0, 1, 1))\n",
    "label_era5_wk12, counts_era5_wk12 = cluster_analysis.cluster_percentages(\n",
    "    cluster_era5_evo, np.arange(1, 15, 1))\n",
    "label_era5_wk34, counts_era5_wk34 = cluster_analysis.cluster_percentages(\n",
    "    cluster_era5_evo, np.arange(15, 28, 1))\n",
    "label_era5_wk56, counts_era5_wk56 = cluster_analysis.cluster_percentages(\n",
    "    cluster_era5_evo, np.arange(28, 42, 1))\n",
    "\n",
    "label_cesm_wall, counts_cesm_wall = cluster_analysis.cluster_percentages(\n",
    "    cluster_cesm_evo, np.arange(0, 1, 1))\n",
    "label_cesm_wk12, counts_cesm_wk12 = cluster_analysis.cluster_percentages(\n",
    "    cluster_cesm_evo, np.arange(1, 15, 1))\n",
    "label_cesm_wk34, counts_cesm_wk34 = cluster_analysis.cluster_percentages(\n",
    "    cluster_cesm_evo, np.arange(15, 28, 1))\n",
    "label_cesm_wk56, counts_cesm_wk56 = cluster_analysis.cluster_percentages(\n",
    "    cluster_cesm_evo, np.arange(28, 42, 1))\n",
    "\n",
    "label_ensm_wall, counts_ensm_wall, stds_ensm_wall = cluster_analysis.cluster_percentages(\n",
    "    cluster_ensm_evo, np.arange(0, 1, 1))\n",
    "label_ensm_wk12, counts_ensm_wk12, stds_ensm_wk12 = cluster_analysis.cluster_percentages(\n",
    "    cluster_ensm_evo, np.arange(1, 15, 1))\n",
    "label_ensm_wk34, counts_ensm_wk34, stds_ensm_wk34 = cluster_analysis.cluster_percentages(\n",
    "    cluster_ensm_evo, np.arange(15, 28, 1))\n",
    "label_ensm_wk56, counts_ensm_wk56, stds_ensm_wk56 = cluster_analysis.cluster_percentages(\n",
    "    cluster_ensm_evo, np.arange(28, 42, 1))"
   ]
  },
  {
   "cell_type": "code",
   "execution_count": 14,
   "id": "f3c69e17-09cc-46a1-8d0d-199d7f23eda7",
   "metadata": {},
   "outputs": [
    {
     "data": {
      "image/png": "[encoded data removed]",
      "text/plain": [
       "<Figure size 576x288 with 1 Axes>"
      ]
     },
     "metadata": {
      "needs_background": "light"
     },
     "output_type": "display_data"
    }
   ],
   "source": [
    "# ---\n",
    "\n",
    "width = 0.25\n",
    "\n",
    "# ---\n",
    "\n",
    "fig = plt.figure(figsize=(8, 4))\n",
    "\n",
    "# ---\n",
    "\n",
    "ax = plt.axes([0., 0., 1., 1.])\n",
    "\n",
    "# day 0\n",
    "\n",
    "ax.bar([0], counts_era5_wall[0], width, color='grey', zorder=10)\n",
    "ax.bar([0], counts_era5_wall[1], width, color='slateblue',\n",
    "       bottom=np.sum(counts_era5_wall[0:1]), zorder=10)\n",
    "ax.bar([0], counts_era5_wall[2], width, color='steelblue',\n",
    "       bottom=np.sum(counts_era5_wall[0:2]), zorder=10)\n",
    "ax.bar([0], counts_era5_wall[3], width, color='lightgrey',\n",
    "       bottom=np.sum(counts_era5_wall[0:3]), zorder=10)\n",
    "\n",
    "ax.bar([0.35], counts_cesm_wall[0], width, yerr=stds_ensm_wall[0],\n",
    "       color='grey', zorder=10)\n",
    "ax.bar([0.35], counts_cesm_wall[1], width, yerr=stds_ensm_wall[1],\n",
    "       color='slateblue', bottom=np.sum(counts_cesm_wall[0:1]), zorder=10)\n",
    "ax.bar([0.35], counts_cesm_wall[2], width, yerr=stds_ensm_wall[2],\n",
    "       color='steelblue', bottom=np.sum(counts_cesm_wall[0:2]), zorder=10)\n",
    "ax.bar([0.35], counts_cesm_wall[3], width, yerr=stds_ensm_wall[3],\n",
    "       color='lightgrey', bottom=np.sum(counts_cesm_wall[0:3]), zorder=10)\n",
    "\n",
    "# weeks 1-2\n",
    "\n",
    "ax.bar([1.0], counts_era5_wk12[0], width, color='grey', zorder=10)\n",
    "ax.bar([1.0], counts_era5_wk12[1], width, color='slateblue',\n",
    "       bottom=np.sum(counts_era5_wk12[0:1]), zorder=10)\n",
    "ax.bar([1.0], counts_era5_wk12[2], width, color='steelblue',\n",
    "       bottom=np.sum(counts_era5_wk12[0:2]), zorder=10)\n",
    "ax.bar([1.0], counts_era5_wk12[3], width, color='lightgrey',\n",
    "       bottom=np.sum(counts_era5_wk12[0:3]), zorder=10)\n",
    "\n",
    "ax.bar([1.35], counts_cesm_wk12[0], width, yerr=stds_ensm_wk12[0],\n",
    "       color='grey', zorder=10)\n",
    "ax.bar([1.35], counts_cesm_wk12[1], width, yerr=stds_ensm_wk12[1],\n",
    "       color='slateblue', bottom=np.sum(counts_cesm_wk12[0:1]), zorder=10)\n",
    "ax.bar([1.35], counts_cesm_wk12[2], width, yerr=stds_ensm_wk12[2],\n",
    "       color='steelblue', bottom=np.sum(counts_cesm_wk12[0:2]), zorder=10)\n",
    "ax.bar([1.35], counts_cesm_wk12[3], width, yerr=stds_ensm_wk12[3],\n",
    "       color='lightgrey', bottom=np.sum(counts_cesm_wk12[0:3]), zorder=10)\n",
    "\n",
    "# weeks 3-4\n",
    "\n",
    "ax.bar([2.0], counts_era5_wk34[0], width, color='grey', zorder=10)\n",
    "ax.bar([2.0], counts_era5_wk34[1], width, color='slateblue',\n",
    "       bottom=np.sum(counts_era5_wk34[0:1]), zorder=10)\n",
    "ax.bar([2.0], counts_era5_wk34[2], width, color='steelblue',\n",
    "       bottom=np.sum(counts_era5_wk34[0:2]), zorder=10)\n",
    "ax.bar([2.0], counts_era5_wk34[3], width, color='lightgrey',\n",
    "       bottom=np.sum(counts_era5_wk34[0:3]), zorder=10)\n",
    "\n",
    "ax.bar([2.35], counts_cesm_wk34[0], width, yerr=stds_ensm_wk34[0],\n",
    "       color='grey', zorder=10)\n",
    "ax.bar([2.35], counts_cesm_wk34[1], width, yerr=stds_ensm_wk34[1],\n",
    "       color='slateblue', bottom=np.sum(counts_cesm_wk34[0:1]), zorder=10)\n",
    "ax.bar([2.35], counts_cesm_wk34[2], width, yerr=stds_ensm_wk34[2],\n",
    "       color='steelblue', bottom=np.sum(counts_cesm_wk34[0:2]), zorder=10)\n",
    "ax.bar([2.35], counts_cesm_wk34[3], width, yerr=stds_ensm_wk34[3],\n",
    "       color='lightgrey', bottom=np.sum(counts_cesm_wk34[0:3]), zorder=10)\n",
    "\n",
    "# weeks 5-6\n",
    "\n",
    "ax.bar([3.0], counts_era5_wk56[0], width, color='grey', zorder=10)\n",
    "ax.bar([3.0], counts_era5_wk56[1], width, color='slateblue',\n",
    "       bottom=np.sum(counts_era5_wk56[0:1]), zorder=10)\n",
    "ax.bar([3.0], counts_era5_wk56[2], width, color='steelblue',\n",
    "       bottom=np.sum(counts_era5_wk56[0:2]), zorder=10)\n",
    "ax.bar([3.0], counts_era5_wk56[3], width, color='lightgrey',\n",
    "       bottom=np.sum(counts_era5_wk56[0:3]), zorder=10)\n",
    "\n",
    "ls0, = ax.bar([3.35], counts_cesm_wk56[0], width, yerr=stds_ensm_wk56[0],\n",
    "              color='grey', zorder=10)\n",
    "ls1, = ax.bar([3.35], counts_cesm_wk56[1], width, yerr=stds_ensm_wk56[1],\n",
    "              color='slateblue', bottom=np.sum(counts_cesm_wk56[0:1]), zorder=10)\n",
    "ls2, = ax.bar([3.35], counts_cesm_wk56[2], width, yerr=stds_ensm_wk56[2],\n",
    "              color='steelblue', bottom=np.sum(counts_cesm_wk56[0:2]), zorder=10)\n",
    "ls3, = ax.bar([3.35], counts_cesm_wk56[3], width, yerr=stds_ensm_wk56[3],\n",
    "              color='lightgrey', bottom=np.sum(counts_cesm_wk56[0:3]), zorder=10)\n",
    "\n",
    "ax.set_xticks([0, 0.35, 1, 1.35, 2, 2.35, 3, 3.35])\n",
    "ax.set_xticklabels(['ERA5\\n(day 0)', 'CESM2\\n(day 0)',\n",
    "                    'ERA5\\n(wks 1-2)', 'CESM2\\n(wks 1-2)',\n",
    "                    'ERA5\\n(wks 3-4)', 'CESM2\\n(wks 3-4)',\n",
    "                    'ERA5\\n(wks 5-6)', 'CESM2\\n(wks 5-6)'],\n",
    "                   fontsize=12, rotation=15)\n",
    "\n",
    "ax.set_ylabel('Percentage of days', fontsize=12)\n",
    "ax.set_yticks([0, 0.2, 0.4, 0.6, 0.8, 1.0])\n",
    "ax.set_yticklabels(['0%', '20%', '40%', '60%', '80%', '100%'], fontsize=12)\n",
    "\n",
    "ax.margins(x=0.02, y=0)\n",
    "ax.grid('--', lw=0.5, alpha=0.5, zorder=1)\n",
    "ax.legend([ls3, ls2, ls1, ls0],\n",
    "          ['WR1: West Coast High',\n",
    "           'WR2: Pacific Trough',\n",
    "           'WR3: Greenland High',\n",
    "           'WR4: Alaskan Ridge'], ncol=2,\n",
    "          bbox_to_anchor=(0.825, -0.2),\n",
    "          fancybox=True, shadow=True, fontsize=12)\n",
    "\n",
    "ax.set_title('Weather Regime Frequency', fontsize=12)\n",
    "\n",
    "# ---\n",
    "\n",
    "plt.savefig(\"fig_wrfreq_v2.png\", bbox_inches='tight', dpi=500)\n",
    "plt.savefig(\"fig_wrfreq_v2.pdf\", bbox_inches='tight')\n",
    "plt.show()\n",
    "\n",
    "# ---"
   ]
  },
  {
   "cell_type": "code",
   "execution_count": null,
   "id": "3a6e6955-3010-47f5-be18-02f776c7a719",
   "metadata": {},
   "outputs": [],
   "source": []
  }
 ],
 "metadata": {
  "kernelspec": {
   "display_name": "Python [conda env:miniconda3-myenv-tfgpu]",
   "language": "python",
   "name": "conda-env-miniconda3-myenv-tfgpu-py"
  },
  "language_info": {
   "codemirror_mode": {
    "name": "ipython",
    "version": 3
   },
   "file_extension": ".py",
   "mimetype": "text/x-python",
   "name": "python",
   "nbconvert_exporter": "python",
   "pygments_lexer": "ipython3",
   "version": "3.8.10"
  }
 },
 "nbformat": 4,
 "nbformat_minor": 5
}
