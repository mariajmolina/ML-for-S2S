{
 "cells": [
  {
   "cell_type": "markdown",
   "id": "b74891f2-e37a-4f2d-bb4c-bfd7346e2be5",
   "metadata": {},
   "source": [
    "# Figure 2 (Molina et al., in prep.)"
   ]
  },
  {
   "cell_type": "markdown",
   "id": "5df147ea-ef64-445f-97e0-283f58878a70",
   "metadata": {},
   "source": [
    "Figure 2. Duration (in days) of each initial (i.e., first) weather regime for all CESM2 initialized reforecasts. The blue bars show the CESM2 11-member ensemble mean and the error bars indicate 11-member ensemble spread. ERA5 weather regime duration is also indicated for reference (black bars)."
   ]
  },
  {
   "cell_type": "markdown",
   "id": "c46ec794-7190-4127-9c45-19bad6218d33",
   "metadata": {},
   "source": [
    "## Imports"
   ]
  },
  {
   "cell_type": "code",
   "execution_count": 1,
   "id": "d746a1b0-1265-48d9-a1fb-cd9621e6ea6c",
   "metadata": {},
   "outputs": [],
   "source": [
    "import numpy as np\n",
    "import pandas as pd\n",
    "import xarray as xr\n",
    "\n",
    "import matplotlib.pyplot as plt\n",
    "import seaborn as sns\n",
    "\n",
    "from sklearn.decomposition import PCA\n",
    "from scipy import stats\n",
    "from sklearn.cluster import KMeans\n",
    "from sklearn import metrics\n",
    "\n",
    "import som_analysis\n",
    "import cluster_analysis\n",
    "import narm_analysis"
   ]
  },
  {
   "cell_type": "markdown",
   "id": "bfa0046f-94e8-4e58-bc39-62bf5fa2c426",
   "metadata": {},
   "source": [
    "## functions"
   ]
  },
  {
   "cell_type": "code",
   "execution_count": 24,
   "id": "44e98c69-af7c-4829-bca6-988812581d80",
   "metadata": {},
   "outputs": [],
   "source": [
    "def get_cold_indx(ds, mo_init=9, mo_end=2):\n",
    "    \"\"\"\n",
    "    Extract indices for cold season.\n",
    "    Grabbing Sept thru February init, for Oct thru March predictions.\n",
    "    \"\"\"\n",
    "    dt_array = pd.to_datetime(ds['time'])\n",
    "    return xr.where((dt_array.month >= mo_init) | (\n",
    "        dt_array.month <= mo_end), True, False)"
   ]
  },
  {
   "cell_type": "code",
   "execution_count": 25,
   "id": "52782d6a-8682-4e33-a05b-0f2713def0ad",
   "metadata": {},
   "outputs": [],
   "source": [
    "def hist_ensembles(cluster_file_evo, ensemble_member):\n",
    "\n",
    "    thearray = cluster_file_evo\n",
    "\n",
    "    wr1_file = []\n",
    "    wr2_file = []\n",
    "    wr3_file = []\n",
    "    wr4_file = []\n",
    "\n",
    "    # number of forecasts\n",
    "    for i in range(543):\n",
    "\n",
    "        for j in range(43):\n",
    "\n",
    "            if j == 0:\n",
    "\n",
    "                wr_ = thearray[ensemble_member, i, j]\n",
    "                wr_count = 1\n",
    "\n",
    "            if j > 0:\n",
    "\n",
    "                if wr_ == thearray[ensemble_member, i, j]:\n",
    "                    wr_count += 1\n",
    "\n",
    "                if wr_ != thearray[ensemble_member, i, j]:\n",
    "\n",
    "                    if wr_ == 0.0:\n",
    "                        wr1_file.append(wr_count)\n",
    "                    if wr_ == 1.0:\n",
    "                        wr2_file.append(wr_count)\n",
    "                    if wr_ == 2.0:\n",
    "                        wr3_file.append(wr_count)\n",
    "                    if wr_ == 3.0:\n",
    "                        wr4_file.append(wr_count)\n",
    "                    break\n",
    "\n",
    "    wr1_file = np.array(wr1_file)\n",
    "    wr2_file = np.array(wr2_file)\n",
    "    wr3_file = np.array(wr3_file)\n",
    "    wr4_file = np.array(wr4_file)\n",
    "\n",
    "    wr1_file_frq, wr1_file_bns, _ = plt.hist(wr1_file, bins=wr1_file.max() - 1)\n",
    "    plt.close()\n",
    "    wr2_file_frq, wr2_file_bns, _ = plt.hist(wr2_file, bins=wr2_file.max() - 1)\n",
    "    plt.close()\n",
    "    wr3_file_frq, wr3_file_bns, _ = plt.hist(wr3_file, bins=wr3_file.max() - 1)\n",
    "    plt.close()\n",
    "    wr4_file_frq, wr4_file_bns, _ = plt.hist(wr4_file, bins=wr4_file.max() - 1)\n",
    "    plt.close()\n",
    "\n",
    "    return wr1_file_frq, wr1_file_bns, wr2_file_frq, wr2_file_bns, wr3_file_frq, wr3_file_bns, wr4_file_frq, wr4_file_bns"
   ]
  },
  {
   "cell_type": "code",
   "execution_count": 26,
   "id": "9b5f0fe1-c860-40e3-a636-ab278f2bf041",
   "metadata": {},
   "outputs": [],
   "source": [
    "def gap_fill_hist(frq_array, bns_array, max_bins):\n",
    "\n",
    "    list_bns = []\n",
    "    list_frq = []\n",
    "\n",
    "    for indx, i in enumerate((max_bins + 0.5)[:-1]):\n",
    "\n",
    "        if np.isin(i, (bns_array + 0.5)[:-1]):\n",
    "\n",
    "            list_bns.append((bns_array + 0.5)[:-1][indx])\n",
    "            list_frq.append((frq_array)[indx])\n",
    "\n",
    "        if not np.isin(i, (bns_array + 0.5)[:-1]):\n",
    "\n",
    "            list_bns.append(i)\n",
    "            list_frq.append(0.0)\n",
    "\n",
    "    return np.array(list_frq), np.array(list_bns)"
   ]
  },
  {
   "cell_type": "markdown",
   "id": "94eccf52-3d6d-470a-b583-1a941401e5da",
   "metadata": {},
   "source": [
    "## open and preprocess data"
   ]
  },
  {
   "cell_type": "code",
   "execution_count": 6,
   "id": "0dd90e72-c9cf-4fd3-92aa-f941b8b7f666",
   "metadata": {},
   "outputs": [],
   "source": [
    "# region for clustering\n",
    "lat0 = 10\n",
    "lat1 = 70\n",
    "lon0 = -150\n",
    "lon1 = -40\n",
    "\n",
    "# open era5 data and slice\n",
    "ds_era5 = narm_analysis.era5_z500(\n",
    "    lat0=lat0, lat1=lat1, lon0=lon0, lon1=lon1)\n",
    "\n",
    "# era5 anomalies\n",
    "ds_era5_anom = narm_analysis.era5_climo_wrs(\n",
    "    ds_era5, rolling_days=5, variable='clim')\n",
    "\n",
    "# restructure era5 array for machine learning training (SONDJFM)\n",
    "ds_era5_anom = ds_era5_anom[\n",
    "    get_cold_indx(ds_era5_anom, mo_init=10, mo_end=3), ...]\n",
    "ds_era5_train = ds_era5_anom.stack(\n",
    "    flat=('lat', 'lon')).transpose('time', 'flat').values"
   ]
  },
  {
   "cell_type": "markdown",
   "id": "ebf6a09f-1ef8-4356-94d5-06998421187c",
   "metadata": {},
   "source": [
    "## pca and kmeans with era5"
   ]
  },
  {
   "cell_type": "code",
   "execution_count": 7,
   "id": "bd97c75e-fdd3-4fb6-814b-7dcd1b60554e",
   "metadata": {},
   "outputs": [
    {
     "name": "stdout",
     "output_type": "stream",
     "text": [
      "Variance explained: [25.95315607 17.65410568 11.94871708  9.0784389   7.98100848  6.14181738\n",
      "  4.32605934  2.61658689  2.22642929  2.17049559  1.49813958  1.22541708]\n",
      "Cumulative sum of variance explained for EOF1 and EOF2: [25.95315607 43.60726175 55.55597883 64.63441774 72.61542622 78.7572436\n",
      " 83.08330294 85.69988983 87.92631912 90.09681471 91.59495429 92.82037136]\n"
     ]
    }
   ],
   "source": [
    "# create pca object\n",
    "pca_obj = PCA(12, whiten=True)\n",
    "\n",
    "# fit pca with era5\n",
    "pca_obj = pca_obj.fit(ds_era5_train)\n",
    "\n",
    "# transform era5 data with pca\n",
    "ds_era5_train = pca_obj.transform(ds_era5_train)\n",
    "\n",
    "print(f'Variance explained: {pca_obj.explained_variance_ratio_ * 100}')\n",
    "print(\n",
    "f'Cumulative sum of variance explained for EOF1 and EOF2: {np.cumsum(pca_obj.explained_variance_ratio_) * 100}'\n",
    ")"
   ]
  },
  {
   "cell_type": "code",
   "execution_count": 8,
   "id": "b625fee7-0663-4615-abd6-d455765106cc",
   "metadata": {},
   "outputs": [
    {
     "name": "stdout",
     "output_type": "stream",
     "text": [
      "inertia: 39379.20538745488\n"
     ]
    }
   ],
   "source": [
    "# train kmeans\n",
    "k_means = KMeans(n_clusters=4,\n",
    "                 init='k-means++',\n",
    "                 n_init=10000,\n",
    "                 max_iter=300,\n",
    "                 tol=0.0001,\n",
    "                 verbose=0,\n",
    "                 random_state=0).fit(ds_era5_train)\n",
    "\n",
    "print(f'inertia: {k_means.inertia_}')"
   ]
  },
  {
   "cell_type": "markdown",
   "id": "5b51731e-42c4-444c-9199-d9678b76d8a4",
   "metadata": {},
   "source": [
    "## load data with lead time bias corrected anomalies"
   ]
  },
  {
   "cell_type": "code",
   "execution_count": 9,
   "id": "12ed2b29-43ea-4c0b-b6b0-dab1f3550c97",
   "metadata": {},
   "outputs": [],
   "source": [
    "# era5 data\n",
    "z500_era5, z500_era5_dt = som_analysis.open_era5_files(\n",
    "    variable='z500', return_time=True,\n",
    "    lat0=lat0, lat1=lat1, lon0=lon0, lon1=lon1,\n",
    "    leadday0=0, leadday1=42, rolldays=5,)\n",
    "\n",
    "# cesm data\n",
    "z500_cesm, z500_cesm_dt = som_analysis.open_cesm_files(\n",
    "    variable='zg_500', return_time=True,\n",
    "    lat0=lat0, lat1=lat1, lon0=lon0, lon1=lon1,\n",
    "    leadday0=0, leadday1=42, rolldays=5,)\n",
    "\n",
    "# cesm ensemble data\n",
    "z500_ensm, z500_ensm_dt, z_ensm = som_analysis.open_cesm_ensembles(\n",
    "    variable='zg_500', return_time=True,\n",
    "    lat0=lat0, lat1=lat1, lon0=lon0, lon1=lon1,\n",
    "    leadday0=0, leadday1=42, return_ens=True, rolldays=5)\n",
    "\n",
    "# restructure arrays\n",
    "z500_standard_era5 = z500_era5.stack(\n",
    "    new=('time', 'lead'), flat=('lat', 'lon')).transpose('new', 'flat')\n",
    "z500_standard_cesm = z500_cesm.stack(\n",
    "    new=('time', 'lead'), flat=('lat', 'lon')).transpose('new', 'flat')\n",
    "z500_standard_ensm = z500_ensm.stack(\n",
    "    new=('time', 'ensemble', 'lead'),\n",
    "    flat=('lat', 'lon')).transpose('new', 'flat')"
   ]
  },
  {
   "cell_type": "markdown",
   "id": "895e28a4-19aa-417b-97f4-161610537fca",
   "metadata": {},
   "source": [
    "## extract cluster labels\n",
    "\n",
    "(projecting era5 pca and kmeans onto cesm2)"
   ]
  },
  {
   "cell_type": "code",
   "execution_count": 10,
   "id": "ccdda731-ff1e-4f5b-8eef-e665c0bf4d69",
   "metadata": {},
   "outputs": [],
   "source": [
    "cluster_era5_evo = cluster_analysis.single_clusters(\n",
    "    z500_standard_era5, k_means, pca_obj, use_pca=True)\n",
    "cluster_cesm_evo = cluster_analysis.single_clusters(\n",
    "    z500_standard_cesm, k_means, pca_obj, use_pca=True)\n",
    "cluster_ensm_evo = cluster_analysis.ensemble_clusters(\n",
    "    z500_standard_ensm, k_means, pca_obj, use_pca=True)"
   ]
  },
  {
   "cell_type": "code",
   "execution_count": 11,
   "id": "8a29989d-aa54-4441-a6ea-e9c261df10c5",
   "metadata": {},
   "outputs": [],
   "source": [
    "# 1) if you start in one regime -- is it mostly guaranteed that you will\n",
    "# be in another regime by weeks 3-4, 5-6? (mean duration until weather regime change)?\n",
    "# 2) what is the average duration of each weather regime when started?\n",
    "# what is the max/min duration? mean duration in general (any lead time)?"
   ]
  },
  {
   "cell_type": "code",
   "execution_count": 27,
   "id": "9b9d4ace-7b19-4a48-af2d-e0d5190d503a",
   "metadata": {},
   "outputs": [],
   "source": [
    "wr1_era5_frq, wr1_era5_bns, wr2_era5_frq, wr2_era5_bns, wr3_era5_frq, wr3_era5_bns, wr4_era5_frq, wr4_era5_bns = hist_ensembles(cluster_era5_evo, 0)"
   ]
  },
  {
   "cell_type": "code",
   "execution_count": 28,
   "id": "de84f321-20f0-4aa7-8d70-2e4235798c96",
   "metadata": {},
   "outputs": [],
   "source": [
    "wr1_cesm_frq, wr1_cesm_bns, wr2_cesm_frq, wr2_cesm_bns, wr3_cesm_frq, wr3_cesm_bns, wr4_cesm_frq, wr4_cesm_bns = hist_ensembles(cluster_cesm_evo, 0)"
   ]
  },
  {
   "cell_type": "code",
   "execution_count": 29,
   "id": "b09f7acb-c55b-4f44-991e-7a4ac28e42d6",
   "metadata": {},
   "outputs": [],
   "source": [
    "wr1_ce00_frq, wr1_ce00_bns, wr2_ce00_frq, wr2_ce00_bns, wr3_ce00_frq, wr3_ce00_bns, wr4_ce00_frq, wr4_ce00_bns = hist_ensembles(cluster_ensm_evo, 0)\n",
    "wr1_ce01_frq, wr1_ce01_bns, wr2_ce01_frq, wr2_ce01_bns, wr3_ce01_frq, wr3_ce01_bns, wr4_ce01_frq, wr4_ce01_bns = hist_ensembles(cluster_ensm_evo, 1)\n",
    "wr1_ce02_frq, wr1_ce02_bns, wr2_ce02_frq, wr2_ce02_bns, wr3_ce02_frq, wr3_ce02_bns, wr4_ce02_frq, wr4_ce02_bns = hist_ensembles(cluster_ensm_evo, 2)\n",
    "wr1_ce03_frq, wr1_ce03_bns, wr2_ce03_frq, wr2_ce03_bns, wr3_ce03_frq, wr3_ce03_bns, wr4_ce03_frq, wr4_ce03_bns = hist_ensembles(cluster_ensm_evo, 3)\n",
    "wr1_ce04_frq, wr1_ce04_bns, wr2_ce04_frq, wr2_ce04_bns, wr3_ce04_frq, wr3_ce04_bns, wr4_ce04_frq, wr4_ce04_bns = hist_ensembles(cluster_ensm_evo, 4)\n",
    "wr1_ce05_frq, wr1_ce05_bns, wr2_ce05_frq, wr2_ce05_bns, wr3_ce05_frq, wr3_ce05_bns, wr4_ce05_frq, wr4_ce05_bns = hist_ensembles(cluster_ensm_evo, 5)\n",
    "wr1_ce06_frq, wr1_ce06_bns, wr2_ce06_frq, wr2_ce06_bns, wr3_ce06_frq, wr3_ce06_bns, wr4_ce06_frq, wr4_ce06_bns = hist_ensembles(cluster_ensm_evo, 6)\n",
    "wr1_ce07_frq, wr1_ce07_bns, wr2_ce07_frq, wr2_ce07_bns, wr3_ce07_frq, wr3_ce07_bns, wr4_ce07_frq, wr4_ce07_bns = hist_ensembles(cluster_ensm_evo, 7)\n",
    "wr1_ce08_frq, wr1_ce08_bns, wr2_ce08_frq, wr2_ce08_bns, wr3_ce08_frq, wr3_ce08_bns, wr4_ce08_frq, wr4_ce08_bns = hist_ensembles(cluster_ensm_evo, 8)\n",
    "wr1_ce09_frq, wr1_ce09_bns, wr2_ce09_frq, wr2_ce09_bns, wr3_ce09_frq, wr3_ce09_bns, wr4_ce09_frq, wr4_ce09_bns = hist_ensembles(cluster_ensm_evo, 9)\n",
    "wr1_ce10_frq, wr1_ce10_bns, wr2_ce10_frq, wr2_ce10_bns, wr3_ce10_frq, wr3_ce10_bns, wr4_ce10_frq, wr4_ce10_bns = hist_ensembles(cluster_ensm_evo, 10)"
   ]
  },
  {
   "cell_type": "code",
   "execution_count": 30,
   "id": "07ba6a4a-35e7-406f-b4c1-cf143d8c6b38",
   "metadata": {},
   "outputs": [],
   "source": [
    "wr1era5_frq, wr1era5_bns = gap_fill_hist(wr1_era5_frq, wr1_era5_bns, wr4_cesm_bns)\n",
    "wr2era5_frq, wr2era5_bns = gap_fill_hist(wr2_era5_frq, wr2_era5_bns, wr4_cesm_bns)\n",
    "wr3era5_frq, wr3era5_bns = gap_fill_hist(wr3_era5_frq, wr3_era5_bns, wr4_cesm_bns)\n",
    "wr4era5_frq, wr4era5_bns = gap_fill_hist(wr4_era5_frq, wr4_era5_bns, wr4_cesm_bns)\n",
    "\n",
    "wr1cesm_frq, wr1cesm_bns = gap_fill_hist(wr1_cesm_frq, wr1_cesm_bns, wr4_cesm_bns)\n",
    "wr2cesm_frq, wr2cesm_bns = gap_fill_hist(wr2_cesm_frq, wr2_cesm_bns, wr4_cesm_bns)\n",
    "wr3cesm_frq, wr3cesm_bns = gap_fill_hist(wr3_cesm_frq, wr3_cesm_bns, wr4_cesm_bns)\n",
    "wr4cesm_frq, wr4cesm_bns = gap_fill_hist(wr4_cesm_frq, wr4_cesm_bns, wr4_cesm_bns)\n",
    "\n",
    "wr1ce00_frq, wr1ce00_bns = gap_fill_hist(wr1_ce00_frq, wr1_ce00_bns, wr4_cesm_bns)\n",
    "wr2ce00_frq, wr2ce00_bns = gap_fill_hist(wr2_ce00_frq, wr2_ce00_bns, wr4_cesm_bns)\n",
    "wr3ce00_frq, wr3ce00_bns = gap_fill_hist(wr3_ce00_frq, wr3_ce00_bns, wr4_cesm_bns)\n",
    "wr4ce00_frq, wr4ce00_bns = gap_fill_hist(wr4_ce00_frq, wr4_ce00_bns, wr4_cesm_bns)\n",
    "\n",
    "wr1ce01_frq, wr1ce01_bns = gap_fill_hist(wr1_ce01_frq, wr1_ce01_bns, wr4_cesm_bns)\n",
    "wr2ce01_frq, wr2ce01_bns = gap_fill_hist(wr2_ce01_frq, wr2_ce01_bns, wr4_cesm_bns)\n",
    "wr3ce01_frq, wr3ce01_bns = gap_fill_hist(wr3_ce01_frq, wr3_ce01_bns, wr4_cesm_bns)\n",
    "wr4ce01_frq, wr4ce01_bns = gap_fill_hist(wr4_ce01_frq, wr4_ce01_bns, wr4_cesm_bns)\n",
    "\n",
    "wr1ce02_frq, wr1ce02_bns = gap_fill_hist(wr1_ce02_frq, wr1_ce02_bns, wr4_cesm_bns)\n",
    "wr2ce02_frq, wr2ce02_bns = gap_fill_hist(wr2_ce02_frq, wr2_ce02_bns, wr4_cesm_bns)\n",
    "wr3ce02_frq, wr3ce02_bns = gap_fill_hist(wr3_ce02_frq, wr3_ce02_bns, wr4_cesm_bns)\n",
    "wr4ce02_frq, wr4ce02_bns = gap_fill_hist(wr4_ce02_frq, wr4_ce02_bns, wr4_cesm_bns)\n",
    "\n",
    "wr1ce03_frq, wr1ce03_bns = gap_fill_hist(wr1_ce03_frq, wr1_ce03_bns, wr4_cesm_bns)\n",
    "wr2ce03_frq, wr2ce03_bns = gap_fill_hist(wr2_ce03_frq, wr2_ce03_bns, wr4_cesm_bns)\n",
    "wr3ce03_frq, wr3ce03_bns = gap_fill_hist(wr3_ce03_frq, wr3_ce03_bns, wr4_cesm_bns)\n",
    "wr4ce03_frq, wr4ce03_bns = gap_fill_hist(wr4_ce03_frq, wr4_ce03_bns, wr4_cesm_bns)\n",
    "\n",
    "wr1ce04_frq, wr1ce04_bns = gap_fill_hist(wr1_ce04_frq, wr1_ce04_bns, wr4_cesm_bns)\n",
    "wr2ce04_frq, wr2ce04_bns = gap_fill_hist(wr2_ce04_frq, wr2_ce04_bns, wr4_cesm_bns)\n",
    "wr3ce04_frq, wr3ce04_bns = gap_fill_hist(wr3_ce04_frq, wr3_ce04_bns, wr4_cesm_bns)\n",
    "wr4ce04_frq, wr4ce04_bns = gap_fill_hist(wr4_ce04_frq, wr4_ce04_bns, wr4_cesm_bns)\n",
    "\n",
    "wr1ce05_frq, wr1ce05_bns = gap_fill_hist(wr1_ce05_frq, wr1_ce05_bns, wr4_cesm_bns)\n",
    "wr2ce05_frq, wr2ce05_bns = gap_fill_hist(wr2_ce05_frq, wr2_ce05_bns, wr4_cesm_bns)\n",
    "wr3ce05_frq, wr3ce05_bns = gap_fill_hist(wr3_ce05_frq, wr3_ce05_bns, wr4_cesm_bns)\n",
    "wr4ce05_frq, wr4ce05_bns = gap_fill_hist(wr4_ce05_frq, wr4_ce05_bns, wr4_cesm_bns)\n",
    "\n",
    "wr1ce06_frq, wr1ce06_bns = gap_fill_hist(wr1_ce06_frq, wr1_ce06_bns, wr4_cesm_bns)\n",
    "wr2ce06_frq, wr2ce06_bns = gap_fill_hist(wr2_ce06_frq, wr2_ce06_bns, wr4_cesm_bns)\n",
    "wr3ce06_frq, wr3ce06_bns = gap_fill_hist(wr3_ce06_frq, wr3_ce06_bns, wr4_cesm_bns)\n",
    "wr4ce06_frq, wr4ce06_bns = gap_fill_hist(wr4_ce06_frq, wr4_ce06_bns, wr4_cesm_bns)\n",
    "\n",
    "wr1ce07_frq, wr1ce07_bns = gap_fill_hist(wr1_ce07_frq, wr1_ce07_bns, wr4_cesm_bns)\n",
    "wr2ce07_frq, wr2ce07_bns = gap_fill_hist(wr2_ce07_frq, wr2_ce07_bns, wr4_cesm_bns)\n",
    "wr3ce07_frq, wr3ce07_bns = gap_fill_hist(wr3_ce07_frq, wr3_ce07_bns, wr4_cesm_bns)\n",
    "wr4ce07_frq, wr4ce07_bns = gap_fill_hist(wr4_ce07_frq, wr4_ce07_bns, wr4_cesm_bns)\n",
    "\n",
    "wr1ce08_frq, wr1ce08_bns = gap_fill_hist(wr1_ce08_frq, wr1_ce08_bns, wr4_cesm_bns)\n",
    "wr2ce08_frq, wr2ce08_bns = gap_fill_hist(wr2_ce08_frq, wr2_ce08_bns, wr4_cesm_bns)\n",
    "wr3ce08_frq, wr3ce08_bns = gap_fill_hist(wr3_ce08_frq, wr3_ce08_bns, wr4_cesm_bns)\n",
    "wr4ce08_frq, wr4ce08_bns = gap_fill_hist(wr4_ce08_frq, wr4_ce08_bns, wr4_cesm_bns)\n",
    "\n",
    "wr1ce09_frq, wr1ce09_bns = gap_fill_hist(wr1_ce09_frq, wr1_ce09_bns, wr4_cesm_bns)\n",
    "wr2ce09_frq, wr2ce09_bns = gap_fill_hist(wr2_ce09_frq, wr2_ce09_bns, wr4_cesm_bns)\n",
    "wr3ce09_frq, wr3ce09_bns = gap_fill_hist(wr3_ce09_frq, wr3_ce09_bns, wr4_cesm_bns)\n",
    "wr4ce09_frq, wr4ce09_bns = gap_fill_hist(wr4_ce09_frq, wr4_ce09_bns, wr4_cesm_bns)\n",
    "\n",
    "wr1ce10_frq, wr1ce10_bns = gap_fill_hist(wr1_ce10_frq, wr1_ce10_bns, wr4_cesm_bns)\n",
    "wr2ce10_frq, wr2ce10_bns = gap_fill_hist(wr2_ce10_frq, wr2_ce10_bns, wr4_cesm_bns)\n",
    "wr3ce10_frq, wr3ce10_bns = gap_fill_hist(wr3_ce10_frq, wr3_ce10_bns, wr4_cesm_bns)\n",
    "wr4ce10_frq, wr4ce10_bns = gap_fill_hist(wr4_ce10_frq, wr4_ce10_bns, wr4_cesm_bns)"
   ]
  },
  {
   "cell_type": "code",
   "execution_count": 31,
   "id": "3370cb8a-f4cf-4f67-8a91-da1ea082ab43",
   "metadata": {},
   "outputs": [],
   "source": [
    "wr1ensm_frq = np.stack([\n",
    "                    wr1ce00_frq,\n",
    "                    wr1ce01_frq,\n",
    "                    wr1ce02_frq,\n",
    "                    wr1ce03_frq,\n",
    "                    wr1ce04_frq,\n",
    "                    wr1ce05_frq,\n",
    "                    wr1ce06_frq,\n",
    "                    wr1ce07_frq,\n",
    "                    wr1ce08_frq,\n",
    "                    wr1ce09_frq,\n",
    "                    wr1ce10_frq\n",
    "                ])\n",
    "\n",
    "wr2ensm_frq = np.stack([\n",
    "                    wr2ce00_frq,\n",
    "                    wr2ce01_frq,\n",
    "                    wr2ce02_frq,\n",
    "                    wr2ce03_frq,\n",
    "                    wr2ce04_frq,\n",
    "                    wr2ce05_frq,\n",
    "                    wr2ce06_frq,\n",
    "                    wr2ce07_frq,\n",
    "                    wr2ce08_frq,\n",
    "                    wr2ce09_frq,\n",
    "                    wr2ce10_frq\n",
    "                ])\n",
    "\n",
    "wr3ensm_frq = np.stack([\n",
    "                    wr3ce00_frq,\n",
    "                    wr3ce01_frq,\n",
    "                    wr3ce02_frq,\n",
    "                    wr3ce03_frq,\n",
    "                    wr3ce04_frq,\n",
    "                    wr3ce05_frq,\n",
    "                    wr3ce06_frq,\n",
    "                    wr3ce07_frq,\n",
    "                    wr3ce08_frq,\n",
    "                    wr3ce09_frq,\n",
    "                    wr3ce10_frq\n",
    "                ])\n",
    "\n",
    "wr4ensm_frq = np.stack([\n",
    "                    wr4ce00_frq,\n",
    "                    wr4ce01_frq,\n",
    "                    wr4ce02_frq,\n",
    "                    wr4ce03_frq,\n",
    "                    wr4ce04_frq,\n",
    "                    wr4ce05_frq,\n",
    "                    wr4ce06_frq,\n",
    "                    wr4ce07_frq,\n",
    "                    wr4ce08_frq,\n",
    "                    wr4ce09_frq,\n",
    "                    wr4ce10_frq\n",
    "                ])"
   ]
  },
  {
   "cell_type": "code",
   "execution_count": 124,
   "id": "227b185a-5c11-4f8b-a831-9e4e5e4962de",
   "metadata": {},
   "outputs": [
    {
     "data": {
      "image/png": "[encoded data removed]",
      "text/plain": [
       "<Figure size 576x432 with 4 Axes>"
      ]
     },
     "metadata": {
      "needs_background": "light"
     },
     "output_type": "display_data"
    }
   ],
   "source": [
    "# --\n",
    "\n",
    "fig, axs = plt.subplots(2, 2, subplot_kw=dict(), figsize=(8, 6))\n",
    "\n",
    "b1 = axs[0][0].bar(wr1era5_bns - 0.5, wr1era5_frq, width=0.4, color='k')\n",
    "b2 = axs[0][0].bar(wr1cesm_bns - 0.1, wr1cesm_frq, width=0.4,\n",
    "                   yerr=np.nanstd(wr1ensm_frq, axis=0), color='cornflowerblue',\n",
    "                   error_kw=dict(lw=0.5, capsize=1.0, capthick=0.25))\n",
    "\n",
    "axs[0][0].legend([b1, b2], ['ERA5','CESM2'], fontsize=12,\n",
    "                 fancybox=True)\n",
    "\n",
    "axs[0][0].margins(x=0, y=0)\n",
    "axs[0][0].grid(alpha=0.5, lw=0.5, ls='--')\n",
    "\n",
    "axs[0][0].set_xlim([0.5, 42.5])\n",
    "axs[0][0].set_ylim([0, 30])\n",
    "\n",
    "axs[0][0].set_xticks(list(np.arange(0, 42, 1))[1::5])\n",
    "axs[0][0].set_xticklabels(list(np.arange(0, 42, 1))[1::5], fontsize=12)\n",
    "axs[0][0].set_xlabel('Duration (days)', fontsize=12)\n",
    "\n",
    "axs[0][0].set_yticks(list(np.arange(0, 31, 1))[::5])\n",
    "axs[0][0].set_yticklabels(list(np.arange(0, 31, 1))[::5], fontsize=12)\n",
    "axs[0][0].set_ylabel('Frequency', fontsize=12)\n",
    "\n",
    "axs[0][0].set_title('a) WR1: Alaskan Ridge', fontsize=12)\n",
    "\n",
    "# --\n",
    "\n",
    "axs[0][1].bar(wr2era5_bns - 0.5, wr2era5_frq, width=0.4, color='k')\n",
    "axs[0][1].bar(wr2cesm_bns - 0.1, wr2cesm_frq, width=0.4,\n",
    "              yerr=np.nanstd(wr2ensm_frq, axis=0), color='cornflowerblue',\n",
    "              error_kw=dict(lw=0.5, capsize=1.0, capthick=0.25))\n",
    "\n",
    "axs[0][1].margins(x=0, y=0)\n",
    "axs[0][1].grid(alpha=0.5, lw=0.5, ls='--')\n",
    "\n",
    "axs[0][1].set_xlim([0.5, 42.5])\n",
    "axs[0][1].set_ylim([0, 30])\n",
    "\n",
    "axs[0][1].set_xticks(list(np.arange(0, 42, 1))[1::5])\n",
    "axs[0][1].set_xticklabels(list(np.arange(0, 42, 1))[1::5], fontsize=12)\n",
    "axs[0][1].set_xlabel('Duration (days)', fontsize=12)\n",
    "\n",
    "axs[0][1].set_yticks(list(np.arange(0, 31, 1))[::5])\n",
    "axs[0][1].set_yticklabels(list(np.arange(0, 31, 1))[::5], fontsize=12)\n",
    "axs[0][1].set_ylabel('Frequency', fontsize=12)\n",
    "\n",
    "axs[0][1].set_title('b) WR2: Greenland High', fontsize=12)\n",
    "\n",
    "# --\n",
    "\n",
    "axs[1][0].bar(wr3era5_bns - 0.5, wr3era5_frq, width=0.4, color='k')\n",
    "axs[1][0].bar(wr3cesm_bns - 0.1, wr3cesm_frq, width=0.4,\n",
    "              yerr=np.nanstd(wr3ensm_frq, axis=0), color='cornflowerblue',\n",
    "              error_kw=dict(lw=0.5, capsize=1.0, capthick=0.25))\n",
    "\n",
    "axs[1][0].grid(alpha=0.5, lw=0.5, ls='--')\n",
    "axs[1][0].margins(x=0, y=0)\n",
    "\n",
    "axs[1][0].set_xlim([0.5, 42.5])\n",
    "axs[1][0].set_ylim([0, 30])\n",
    "\n",
    "axs[1][0].set_xticks(list(np.arange(0, 42, 1))[1::5])\n",
    "axs[1][0].set_xticklabels(list(np.arange(0, 42, 1))[1::5], fontsize=12)\n",
    "axs[1][0].set_xlabel('Duration (days)', fontsize=12)\n",
    "\n",
    "axs[1][0].set_yticks(list(np.arange(0, 31, 1))[::5])\n",
    "axs[1][0].set_yticklabels(list(np.arange(0, 31, 1))[::5], fontsize=12)\n",
    "axs[1][0].set_ylabel('Frequency', fontsize=12)\n",
    "\n",
    "axs[1][0].set_title('c) WR3: Pacific Trough', fontsize=12)\n",
    "\n",
    "# --\n",
    "\n",
    "axs[1][1].bar(wr4era5_bns - 0.5, wr4era5_frq, width=0.4, color='k')\n",
    "axs[1][1].bar(wr4cesm_bns - 0.1, wr4cesm_frq, width=0.4,\n",
    "              yerr=np.nanstd(wr4ensm_frq, axis=0), color='cornflowerblue',\n",
    "              error_kw=dict(lw=0.5, capsize=1.0, capthick=0.25))\n",
    "\n",
    "axs[1][1].grid(alpha=0.5, lw=0.5, ls='--')\n",
    "axs[1][1].margins(x=0, y=0)\n",
    "\n",
    "axs[1][1].set_xlim([0.5, 42.5])\n",
    "axs[1][1].set_ylim([0, 30])\n",
    "\n",
    "axs[1][1].set_xticks(list(np.arange(0, 42, 1))[1::5])\n",
    "axs[1][1].set_xticklabels(list(np.arange(0, 42, 1))[1::5], fontsize=12)\n",
    "axs[1][1].set_xlabel('Duration (days)', fontsize=12)\n",
    "\n",
    "axs[1][1].set_yticks(list(np.arange(0, 31, 1))[::5])\n",
    "axs[1][1].set_yticklabels(list(np.arange(0, 31, 1))[::5], fontsize=12)\n",
    "axs[1][1].set_ylabel('Frequency', fontsize=12)\n",
    "\n",
    "axs[1][1].set_title('d) WR4: West Coast High', fontsize=12)\n",
    "\n",
    "# --\n",
    "\n",
    "plt.tight_layout()\n",
    "plt.savefig(\"fig_frequency_wrs.png\", bbox_inches='tight', dpi=500)\n",
    "plt.show()\n",
    "\n",
    "# --"
   ]
  },
  {
   "cell_type": "code",
   "execution_count": null,
   "id": "1c37175f-541d-4caf-97ca-047a1da75ad7",
   "metadata": {},
   "outputs": [],
   "source": []
  },
  {
   "cell_type": "code",
   "execution_count": null,
   "id": "423320a4-1f2f-48a6-b11d-31a61f8d151c",
   "metadata": {},
   "outputs": [],
   "source": []
  },
  {
   "cell_type": "code",
   "execution_count": 7,
   "id": "f984cd2c-de96-4647-83ae-36a9a9a5f082",
   "metadata": {},
   "outputs": [],
   "source": [
    "# 1) what is the acc/mse of weather regimes if\n",
    "# composited by starting weather regime (in cesm)?"
   ]
  },
  {
   "cell_type": "code",
   "execution_count": 261,
   "id": "a8cc5e61-44e3-4640-ab0e-ac5073e861be",
   "metadata": {},
   "outputs": [],
   "source": [
    "wr1_acc = []\n",
    "wr2_acc = []\n",
    "wr3_acc = []\n",
    "wr4_acc = []\n",
    "\n",
    "for i in range(1,43):\n",
    "    \n",
    "    wr1_acc.append(stats.pearsonr(\n",
    "        cluster_cesm_evo[0, cluster_cesm_evo[0,:,0] == 0., i], \n",
    "        cluster_era5_evo[0, cluster_cesm_evo[0,:,0] == 0., i])[0])\n",
    "    \n",
    "    wr2_acc.append(stats.pearsonr(\n",
    "        cluster_cesm_evo[0, cluster_cesm_evo[0,:,0] == 1., i], \n",
    "        cluster_era5_evo[0, cluster_cesm_evo[0,:,0] == 1., i])[0])\n",
    "    \n",
    "    wr3_acc.append(stats.pearsonr(\n",
    "        cluster_cesm_evo[0, cluster_cesm_evo[0,:,0] == 2., i], \n",
    "        cluster_era5_evo[0, cluster_cesm_evo[0,:,0] == 2., i])[0])\n",
    "    \n",
    "    wr4_acc.append(stats.pearsonr(\n",
    "        cluster_cesm_evo[0, cluster_cesm_evo[0,:,0] == 3., i], \n",
    "        cluster_era5_evo[0, cluster_cesm_evo[0,:,0] == 3., i])[0])\n",
    "    \n",
    "wr1_mse = []\n",
    "wr2_mse = []\n",
    "wr3_mse = []\n",
    "wr4_mse = []\n",
    "\n",
    "for i in range(1,43):\n",
    "    \n",
    "    wr1_mse.append(metrics.mean_squared_error(\n",
    "        cluster_cesm_evo[0, cluster_cesm_evo[0,:,0] == 0., i], \n",
    "        cluster_era5_evo[0, cluster_cesm_evo[0,:,0] == 0., i]))\n",
    "    \n",
    "    wr2_mse.append(metrics.mean_squared_error(\n",
    "        cluster_cesm_evo[0, cluster_cesm_evo[0,:,0] == 1., i], \n",
    "        cluster_era5_evo[0, cluster_cesm_evo[0,:,0] == 1., i]))\n",
    "    \n",
    "    wr3_mse.append(metrics.mean_squared_error(\n",
    "        cluster_cesm_evo[0, cluster_cesm_evo[0,:,0] == 2., i], \n",
    "        cluster_era5_evo[0, cluster_cesm_evo[0,:,0] == 2., i]))\n",
    "    \n",
    "    wr4_mse.append(metrics.mean_squared_error(\n",
    "        cluster_cesm_evo[0, cluster_cesm_evo[0,:,0] == 3., i], \n",
    "        cluster_era5_evo[0, cluster_cesm_evo[0,:,0] == 3., i]))"
   ]
  },
  {
   "cell_type": "code",
   "execution_count": 262,
   "id": "d8e1d899-aea8-4e40-96cf-6e4f3ecbb8d4",
   "metadata": {},
   "outputs": [
    {
     "data": {
      "image/png": "[encoded data removed]",
      "text/plain": [
       "<Figure size 432x288 with 1 Axes>"
      ]
     },
     "metadata": {},
     "output_type": "display_data"
    },
    {
     "data": {
      "image/png": "[encoded data removed]",
      "text/plain": [
       "<Figure size 432x288 with 1 Axes>"
      ]
     },
     "metadata": {},
     "output_type": "display_data"
    }
   ],
   "source": [
    "plt.plot(np.array(wr1_acc), c='r'); \n",
    "plt.plot(np.array(wr2_acc), c='b'); \n",
    "plt.plot(np.array(wr3_acc), c='g'); \n",
    "plt.plot(np.array(wr4_acc), c='k'); \n",
    "plt.show()\n",
    "\n",
    "plt.plot(np.array(wr1_mse), c='r'); \n",
    "plt.plot(np.array(wr2_mse), c='b'); \n",
    "plt.plot(np.array(wr3_mse), c='g'); \n",
    "plt.plot(np.array(wr4_mse), c='k'); \n",
    "plt.show()\n",
    "\n",
    "# normalize by sample size"
   ]
  },
  {
   "cell_type": "code",
   "execution_count": null,
   "id": "bb413c10-4d5b-4e39-a5b0-641e6c45e8f5",
   "metadata": {},
   "outputs": [],
   "source": []
  },
  {
   "cell_type": "code",
   "execution_count": null,
   "id": "03a42fed-aa7c-4b78-b9ff-84a2f68389a3",
   "metadata": {},
   "outputs": [],
   "source": []
  }
 ],
 "metadata": {
  "kernelspec": {
   "display_name": "Python [conda env:miniconda3-myenv-tfgpu]",
   "language": "python",
   "name": "conda-env-miniconda3-myenv-tfgpu-py"
  },
  "language_info": {
   "codemirror_mode": {
    "name": "ipython",
    "version": 3
   },
   "file_extension": ".py",
   "mimetype": "text/x-python",
   "name": "python",
   "nbconvert_exporter": "python",
   "pygments_lexer": "ipython3",
   "version": "3.8.10"
  }
 },
 "nbformat": 4,
 "nbformat_minor": 5
}
